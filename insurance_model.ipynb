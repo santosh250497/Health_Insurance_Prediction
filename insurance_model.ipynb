{
 "cells": [
  {
   "cell_type": "markdown",
   "id": "8e0dacca",
   "metadata": {},
   "source": [
    "# importing library"
   ]
  },
  {
   "cell_type": "code",
   "execution_count": 2,
   "id": "7b92ca7b",
   "metadata": {},
   "outputs": [],
   "source": [
    "import pickle\n",
    "import pandas as pd\n",
    "import numpy as np\n",
    "from sklearn.linear_model import LinearRegression\n",
    "from sklearn.tree import DecisionTreeRegressor\n",
    "from sklearn.neighbors import KNeighborsRegressor\n",
    "from sklearn.model_selection import train_test_split,GridSearchCV,RandomizedSearchCV\n",
    "import matplotlib.pyplot as plt\n",
    "import seaborn as sns\n",
    "from sklearn.preprocessing import StandardScaler,MinMaxScaler\n",
    "import warnings\n",
    "warnings.filterwarnings(\"ignore\")\n",
    "from sklearn.metrics import r2_score,mean_squared_error,mean_absolute_error\n",
    "from sklearn.ensemble import RandomForestRegressor"
   ]
  },
  {
   "cell_type": "markdown",
   "id": "0233613c",
   "metadata": {},
   "source": [
    "# collection of data"
   ]
  },
  {
   "cell_type": "code",
   "execution_count": 3,
   "id": "90955fcf",
   "metadata": {},
   "outputs": [
    {
     "data": {
      "text/html": [
       "<div>\n",
       "<style scoped>\n",
       "    .dataframe tbody tr th:only-of-type {\n",
       "        vertical-align: middle;\n",
       "    }\n",
       "\n",
       "    .dataframe tbody tr th {\n",
       "        vertical-align: top;\n",
       "    }\n",
       "\n",
       "    .dataframe thead th {\n",
       "        text-align: right;\n",
       "    }\n",
       "</style>\n",
       "<table border=\"1\" class=\"dataframe\">\n",
       "  <thead>\n",
       "    <tr style=\"text-align: right;\">\n",
       "      <th></th>\n",
       "      <th>age</th>\n",
       "      <th>sex</th>\n",
       "      <th>bmi</th>\n",
       "      <th>children</th>\n",
       "      <th>smoker</th>\n",
       "      <th>region</th>\n",
       "      <th>charges</th>\n",
       "    </tr>\n",
       "  </thead>\n",
       "  <tbody>\n",
       "    <tr>\n",
       "      <th>0</th>\n",
       "      <td>19</td>\n",
       "      <td>female</td>\n",
       "      <td>27.900</td>\n",
       "      <td>0</td>\n",
       "      <td>yes</td>\n",
       "      <td>southwest</td>\n",
       "      <td>16884.92400</td>\n",
       "    </tr>\n",
       "    <tr>\n",
       "      <th>1</th>\n",
       "      <td>18</td>\n",
       "      <td>male</td>\n",
       "      <td>33.770</td>\n",
       "      <td>1</td>\n",
       "      <td>no</td>\n",
       "      <td>southeast</td>\n",
       "      <td>1725.55230</td>\n",
       "    </tr>\n",
       "    <tr>\n",
       "      <th>2</th>\n",
       "      <td>28</td>\n",
       "      <td>male</td>\n",
       "      <td>33.000</td>\n",
       "      <td>3</td>\n",
       "      <td>no</td>\n",
       "      <td>southeast</td>\n",
       "      <td>4449.46200</td>\n",
       "    </tr>\n",
       "    <tr>\n",
       "      <th>3</th>\n",
       "      <td>33</td>\n",
       "      <td>male</td>\n",
       "      <td>22.705</td>\n",
       "      <td>0</td>\n",
       "      <td>no</td>\n",
       "      <td>northwest</td>\n",
       "      <td>21984.47061</td>\n",
       "    </tr>\n",
       "    <tr>\n",
       "      <th>4</th>\n",
       "      <td>32</td>\n",
       "      <td>male</td>\n",
       "      <td>28.880</td>\n",
       "      <td>0</td>\n",
       "      <td>no</td>\n",
       "      <td>northwest</td>\n",
       "      <td>3866.85520</td>\n",
       "    </tr>\n",
       "    <tr>\n",
       "      <th>...</th>\n",
       "      <td>...</td>\n",
       "      <td>...</td>\n",
       "      <td>...</td>\n",
       "      <td>...</td>\n",
       "      <td>...</td>\n",
       "      <td>...</td>\n",
       "      <td>...</td>\n",
       "    </tr>\n",
       "    <tr>\n",
       "      <th>1333</th>\n",
       "      <td>50</td>\n",
       "      <td>male</td>\n",
       "      <td>30.970</td>\n",
       "      <td>3</td>\n",
       "      <td>no</td>\n",
       "      <td>northwest</td>\n",
       "      <td>10600.54830</td>\n",
       "    </tr>\n",
       "    <tr>\n",
       "      <th>1334</th>\n",
       "      <td>18</td>\n",
       "      <td>female</td>\n",
       "      <td>31.920</td>\n",
       "      <td>0</td>\n",
       "      <td>no</td>\n",
       "      <td>northeast</td>\n",
       "      <td>2205.98080</td>\n",
       "    </tr>\n",
       "    <tr>\n",
       "      <th>1335</th>\n",
       "      <td>18</td>\n",
       "      <td>female</td>\n",
       "      <td>36.850</td>\n",
       "      <td>0</td>\n",
       "      <td>no</td>\n",
       "      <td>southeast</td>\n",
       "      <td>1629.83350</td>\n",
       "    </tr>\n",
       "    <tr>\n",
       "      <th>1336</th>\n",
       "      <td>21</td>\n",
       "      <td>female</td>\n",
       "      <td>25.800</td>\n",
       "      <td>0</td>\n",
       "      <td>no</td>\n",
       "      <td>southwest</td>\n",
       "      <td>2007.94500</td>\n",
       "    </tr>\n",
       "    <tr>\n",
       "      <th>1337</th>\n",
       "      <td>61</td>\n",
       "      <td>female</td>\n",
       "      <td>29.070</td>\n",
       "      <td>0</td>\n",
       "      <td>yes</td>\n",
       "      <td>northwest</td>\n",
       "      <td>29141.36030</td>\n",
       "    </tr>\n",
       "  </tbody>\n",
       "</table>\n",
       "<p>1338 rows × 7 columns</p>\n",
       "</div>"
      ],
      "text/plain": [
       "      age     sex     bmi  children smoker     region      charges\n",
       "0      19  female  27.900         0    yes  southwest  16884.92400\n",
       "1      18    male  33.770         1     no  southeast   1725.55230\n",
       "2      28    male  33.000         3     no  southeast   4449.46200\n",
       "3      33    male  22.705         0     no  northwest  21984.47061\n",
       "4      32    male  28.880         0     no  northwest   3866.85520\n",
       "...   ...     ...     ...       ...    ...        ...          ...\n",
       "1333   50    male  30.970         3     no  northwest  10600.54830\n",
       "1334   18  female  31.920         0     no  northeast   2205.98080\n",
       "1335   18  female  36.850         0     no  southeast   1629.83350\n",
       "1336   21  female  25.800         0     no  southwest   2007.94500\n",
       "1337   61  female  29.070         0    yes  northwest  29141.36030\n",
       "\n",
       "[1338 rows x 7 columns]"
      ]
     },
     "execution_count": 3,
     "metadata": {},
     "output_type": "execute_result"
    }
   ],
   "source": [
    "df = pd.read_csv('insurance.csv')\n",
    "df"
   ]
  },
  {
   "cell_type": "code",
   "execution_count": null,
   "id": "cc6b57f9",
   "metadata": {},
   "outputs": [],
   "source": []
  },
  {
   "cell_type": "markdown",
   "id": "55330efa",
   "metadata": {},
   "source": [
    "# EDA"
   ]
  },
  {
   "cell_type": "code",
   "execution_count": 4,
   "id": "4a7c63a1",
   "metadata": {},
   "outputs": [
    {
     "name": "stdout",
     "output_type": "stream",
     "text": [
      "<class 'pandas.core.frame.DataFrame'>\n",
      "RangeIndex: 1338 entries, 0 to 1337\n",
      "Data columns (total 7 columns):\n",
      " #   Column    Non-Null Count  Dtype  \n",
      "---  ------    --------------  -----  \n",
      " 0   age       1338 non-null   int64  \n",
      " 1   sex       1338 non-null   object \n",
      " 2   bmi       1338 non-null   float64\n",
      " 3   children  1338 non-null   int64  \n",
      " 4   smoker    1338 non-null   object \n",
      " 5   region    1338 non-null   object \n",
      " 6   charges   1338 non-null   float64\n",
      "dtypes: float64(2), int64(2), object(3)\n",
      "memory usage: 73.3+ KB\n"
     ]
    }
   ],
   "source": [
    "df.info()"
   ]
  },
  {
   "cell_type": "markdown",
   "id": "bd4f8e04",
   "metadata": {},
   "source": [
    "# AGE :-"
   ]
  },
  {
   "cell_type": "code",
   "execution_count": 5,
   "id": "29d174bc",
   "metadata": {},
   "outputs": [
    {
     "data": {
      "text/plain": [
       "0       19\n",
       "1       18\n",
       "2       28\n",
       "3       33\n",
       "4       32\n",
       "        ..\n",
       "1333    50\n",
       "1334    18\n",
       "1335    18\n",
       "1336    21\n",
       "1337    61\n",
       "Name: age, Length: 1338, dtype: int64"
      ]
     },
     "execution_count": 5,
     "metadata": {},
     "output_type": "execute_result"
    }
   ],
   "source": [
    "df['age']"
   ]
  },
  {
   "cell_type": "code",
   "execution_count": 6,
   "id": "2382b5fe",
   "metadata": {},
   "outputs": [
    {
     "data": {
      "text/plain": [
       "39.20702541106129"
      ]
     },
     "execution_count": 6,
     "metadata": {},
     "output_type": "execute_result"
    }
   ],
   "source": [
    "df['age'].mean()"
   ]
  },
  {
   "cell_type": "markdown",
   "id": "7a6f2f69",
   "metadata": {},
   "source": [
    "# BMI"
   ]
  },
  {
   "cell_type": "code",
   "execution_count": 7,
   "id": "79c5d75c",
   "metadata": {},
   "outputs": [
    {
     "data": {
      "text/plain": [
       "30.663396860986538"
      ]
     },
     "execution_count": 7,
     "metadata": {},
     "output_type": "execute_result"
    }
   ],
   "source": [
    "df['bmi'].mean()"
   ]
  },
  {
   "cell_type": "code",
   "execution_count": 8,
   "id": "d90cdadd",
   "metadata": {},
   "outputs": [
    {
     "data": {
      "text/plain": [
       "0"
      ]
     },
     "execution_count": 8,
     "metadata": {},
     "output_type": "execute_result"
    }
   ],
   "source": [
    "df['bmi'].isna().sum()"
   ]
  },
  {
   "cell_type": "markdown",
   "id": "4f62b0dc",
   "metadata": {},
   "source": [
    "# Children"
   ]
  },
  {
   "cell_type": "code",
   "execution_count": 9,
   "id": "d5ecc939",
   "metadata": {},
   "outputs": [
    {
     "data": {
      "text/plain": [
       "0    574\n",
       "1    324\n",
       "2    240\n",
       "3    157\n",
       "4     25\n",
       "5     18\n",
       "Name: children, dtype: int64"
      ]
     },
     "execution_count": 9,
     "metadata": {},
     "output_type": "execute_result"
    }
   ],
   "source": [
    "df['children'].value_counts()"
   ]
  },
  {
   "cell_type": "code",
   "execution_count": 10,
   "id": "05c6db63",
   "metadata": {},
   "outputs": [
    {
     "data": {
      "text/plain": [
       "0"
      ]
     },
     "execution_count": 10,
     "metadata": {},
     "output_type": "execute_result"
    }
   ],
   "source": [
    "df['children'].isna().sum()"
   ]
  },
  {
   "cell_type": "markdown",
   "id": "8a4f5eed",
   "metadata": {},
   "source": [
    "# Sex"
   ]
  },
  {
   "cell_type": "code",
   "execution_count": 11,
   "id": "4edeb793",
   "metadata": {},
   "outputs": [
    {
     "data": {
      "text/plain": [
       "{'male': 676, 'female': 662}"
      ]
     },
     "execution_count": 11,
     "metadata": {},
     "output_type": "execute_result"
    }
   ],
   "source": [
    "df['sex'].value_counts().to_dict()"
   ]
  },
  {
   "cell_type": "code",
   "execution_count": 12,
   "id": "857c7ab1",
   "metadata": {},
   "outputs": [],
   "source": [
    "df['sex'].replace({'male': 0, 'female':1},inplace=True)"
   ]
  },
  {
   "cell_type": "code",
   "execution_count": 13,
   "id": "914e34a0",
   "metadata": {},
   "outputs": [
    {
     "data": {
      "text/plain": [
       "0    676\n",
       "1    662\n",
       "Name: sex, dtype: int64"
      ]
     },
     "execution_count": 13,
     "metadata": {},
     "output_type": "execute_result"
    }
   ],
   "source": [
    "df['sex'].value_counts()"
   ]
  },
  {
   "cell_type": "markdown",
   "id": "cdcb2887",
   "metadata": {},
   "source": [
    "# SMOKER"
   ]
  },
  {
   "cell_type": "code",
   "execution_count": 14,
   "id": "7f0f676d",
   "metadata": {},
   "outputs": [
    {
     "data": {
      "text/plain": [
       "{'no': 1064, 'yes': 274}"
      ]
     },
     "execution_count": 14,
     "metadata": {},
     "output_type": "execute_result"
    }
   ],
   "source": [
    "df['smoker'].value_counts().to_dict()"
   ]
  },
  {
   "cell_type": "code",
   "execution_count": 15,
   "id": "2bafdfe7",
   "metadata": {},
   "outputs": [],
   "source": [
    "df['smoker'].replace({'no': 0, 'yes': 1},inplace =True)"
   ]
  },
  {
   "cell_type": "code",
   "execution_count": 16,
   "id": "d7b04813",
   "metadata": {},
   "outputs": [
    {
     "data": {
      "text/plain": [
       "0    1064\n",
       "1     274\n",
       "Name: smoker, dtype: int64"
      ]
     },
     "execution_count": 16,
     "metadata": {},
     "output_type": "execute_result"
    }
   ],
   "source": [
    "df['smoker'].value_counts()"
   ]
  },
  {
   "cell_type": "markdown",
   "id": "66f2d6ad",
   "metadata": {},
   "source": [
    "# REGION "
   ]
  },
  {
   "cell_type": "code",
   "execution_count": 17,
   "id": "ee403da4",
   "metadata": {},
   "outputs": [
    {
     "data": {
      "text/plain": [
       "{'southeast': 364, 'southwest': 325, 'northwest': 325, 'northeast': 324}"
      ]
     },
     "execution_count": 17,
     "metadata": {},
     "output_type": "execute_result"
    }
   ],
   "source": [
    "df['region'].value_counts().to_dict()"
   ]
  },
  {
   "cell_type": "code",
   "execution_count": 18,
   "id": "3d5e8be9",
   "metadata": {},
   "outputs": [],
   "source": [
    "df['region'].replace({'southeast': 364, 'southwest': 325, 'northwest': 325, 'northeast': 4},inplace=True)"
   ]
  },
  {
   "cell_type": "code",
   "execution_count": 19,
   "id": "ca35fd1e",
   "metadata": {},
   "outputs": [
    {
     "data": {
      "text/html": [
       "<div>\n",
       "<style scoped>\n",
       "    .dataframe tbody tr th:only-of-type {\n",
       "        vertical-align: middle;\n",
       "    }\n",
       "\n",
       "    .dataframe tbody tr th {\n",
       "        vertical-align: top;\n",
       "    }\n",
       "\n",
       "    .dataframe thead th {\n",
       "        text-align: right;\n",
       "    }\n",
       "</style>\n",
       "<table border=\"1\" class=\"dataframe\">\n",
       "  <thead>\n",
       "    <tr style=\"text-align: right;\">\n",
       "      <th></th>\n",
       "      <th>age</th>\n",
       "      <th>sex</th>\n",
       "      <th>bmi</th>\n",
       "      <th>children</th>\n",
       "      <th>smoker</th>\n",
       "      <th>region</th>\n",
       "      <th>charges</th>\n",
       "    </tr>\n",
       "  </thead>\n",
       "  <tbody>\n",
       "    <tr>\n",
       "      <th>age</th>\n",
       "      <td>1.000000</td>\n",
       "      <td>0.020856</td>\n",
       "      <td>0.109272</td>\n",
       "      <td>0.042469</td>\n",
       "      <td>-0.025019</td>\n",
       "      <td>-0.003755</td>\n",
       "      <td>0.299008</td>\n",
       "    </tr>\n",
       "    <tr>\n",
       "      <th>sex</th>\n",
       "      <td>0.020856</td>\n",
       "      <td>1.000000</td>\n",
       "      <td>-0.046371</td>\n",
       "      <td>-0.017163</td>\n",
       "      <td>-0.076185</td>\n",
       "      <td>-0.004366</td>\n",
       "      <td>-0.057292</td>\n",
       "    </tr>\n",
       "    <tr>\n",
       "      <th>bmi</th>\n",
       "      <td>0.109272</td>\n",
       "      <td>-0.046371</td>\n",
       "      <td>1.000000</td>\n",
       "      <td>0.012759</td>\n",
       "      <td>0.003750</td>\n",
       "      <td>0.163986</td>\n",
       "      <td>0.198341</td>\n",
       "    </tr>\n",
       "    <tr>\n",
       "      <th>children</th>\n",
       "      <td>0.042469</td>\n",
       "      <td>-0.017163</td>\n",
       "      <td>0.012759</td>\n",
       "      <td>1.000000</td>\n",
       "      <td>0.007673</td>\n",
       "      <td>0.018943</td>\n",
       "      <td>0.067998</td>\n",
       "    </tr>\n",
       "    <tr>\n",
       "      <th>smoker</th>\n",
       "      <td>-0.025019</td>\n",
       "      <td>-0.076185</td>\n",
       "      <td>0.003750</td>\n",
       "      <td>0.007673</td>\n",
       "      <td>1.000000</td>\n",
       "      <td>0.005555</td>\n",
       "      <td>0.787251</td>\n",
       "    </tr>\n",
       "    <tr>\n",
       "      <th>region</th>\n",
       "      <td>-0.003755</td>\n",
       "      <td>-0.004366</td>\n",
       "      <td>0.163986</td>\n",
       "      <td>0.018943</td>\n",
       "      <td>0.005555</td>\n",
       "      <td>1.000000</td>\n",
       "      <td>0.002845</td>\n",
       "    </tr>\n",
       "    <tr>\n",
       "      <th>charges</th>\n",
       "      <td>0.299008</td>\n",
       "      <td>-0.057292</td>\n",
       "      <td>0.198341</td>\n",
       "      <td>0.067998</td>\n",
       "      <td>0.787251</td>\n",
       "      <td>0.002845</td>\n",
       "      <td>1.000000</td>\n",
       "    </tr>\n",
       "  </tbody>\n",
       "</table>\n",
       "</div>"
      ],
      "text/plain": [
       "               age       sex       bmi  children    smoker    region   charges\n",
       "age       1.000000  0.020856  0.109272  0.042469 -0.025019 -0.003755  0.299008\n",
       "sex       0.020856  1.000000 -0.046371 -0.017163 -0.076185 -0.004366 -0.057292\n",
       "bmi       0.109272 -0.046371  1.000000  0.012759  0.003750  0.163986  0.198341\n",
       "children  0.042469 -0.017163  0.012759  1.000000  0.007673  0.018943  0.067998\n",
       "smoker   -0.025019 -0.076185  0.003750  0.007673  1.000000  0.005555  0.787251\n",
       "region   -0.003755 -0.004366  0.163986  0.018943  0.005555  1.000000  0.002845\n",
       "charges   0.299008 -0.057292  0.198341  0.067998  0.787251  0.002845  1.000000"
      ]
     },
     "execution_count": 19,
     "metadata": {},
     "output_type": "execute_result"
    }
   ],
   "source": [
    "df.corr()"
   ]
  },
  {
   "cell_type": "code",
   "execution_count": 20,
   "id": "23760f98",
   "metadata": {},
   "outputs": [],
   "source": [
    "df.drop('region',axis=1,inplace=True) ### Region feature has no relation with dependent or target feature. "
   ]
  },
  {
   "cell_type": "code",
   "execution_count": 21,
   "id": "b6f28227",
   "metadata": {},
   "outputs": [
    {
     "data": {
      "text/html": [
       "<div>\n",
       "<style scoped>\n",
       "    .dataframe tbody tr th:only-of-type {\n",
       "        vertical-align: middle;\n",
       "    }\n",
       "\n",
       "    .dataframe tbody tr th {\n",
       "        vertical-align: top;\n",
       "    }\n",
       "\n",
       "    .dataframe thead th {\n",
       "        text-align: right;\n",
       "    }\n",
       "</style>\n",
       "<table border=\"1\" class=\"dataframe\">\n",
       "  <thead>\n",
       "    <tr style=\"text-align: right;\">\n",
       "      <th></th>\n",
       "      <th>age</th>\n",
       "      <th>sex</th>\n",
       "      <th>bmi</th>\n",
       "      <th>children</th>\n",
       "      <th>smoker</th>\n",
       "      <th>charges</th>\n",
       "    </tr>\n",
       "  </thead>\n",
       "  <tbody>\n",
       "    <tr>\n",
       "      <th>count</th>\n",
       "      <td>1338.000000</td>\n",
       "      <td>1338.000000</td>\n",
       "      <td>1338.000000</td>\n",
       "      <td>1338.000000</td>\n",
       "      <td>1338.000000</td>\n",
       "      <td>1338.000000</td>\n",
       "    </tr>\n",
       "    <tr>\n",
       "      <th>mean</th>\n",
       "      <td>39.207025</td>\n",
       "      <td>0.494768</td>\n",
       "      <td>30.663397</td>\n",
       "      <td>1.094918</td>\n",
       "      <td>0.204783</td>\n",
       "      <td>13270.422265</td>\n",
       "    </tr>\n",
       "    <tr>\n",
       "      <th>std</th>\n",
       "      <td>14.049960</td>\n",
       "      <td>0.500160</td>\n",
       "      <td>6.098187</td>\n",
       "      <td>1.205493</td>\n",
       "      <td>0.403694</td>\n",
       "      <td>12110.011237</td>\n",
       "    </tr>\n",
       "    <tr>\n",
       "      <th>min</th>\n",
       "      <td>18.000000</td>\n",
       "      <td>0.000000</td>\n",
       "      <td>15.960000</td>\n",
       "      <td>0.000000</td>\n",
       "      <td>0.000000</td>\n",
       "      <td>1121.873900</td>\n",
       "    </tr>\n",
       "    <tr>\n",
       "      <th>25%</th>\n",
       "      <td>27.000000</td>\n",
       "      <td>0.000000</td>\n",
       "      <td>26.296250</td>\n",
       "      <td>0.000000</td>\n",
       "      <td>0.000000</td>\n",
       "      <td>4740.287150</td>\n",
       "    </tr>\n",
       "    <tr>\n",
       "      <th>50%</th>\n",
       "      <td>39.000000</td>\n",
       "      <td>0.000000</td>\n",
       "      <td>30.400000</td>\n",
       "      <td>1.000000</td>\n",
       "      <td>0.000000</td>\n",
       "      <td>9382.033000</td>\n",
       "    </tr>\n",
       "    <tr>\n",
       "      <th>75%</th>\n",
       "      <td>51.000000</td>\n",
       "      <td>1.000000</td>\n",
       "      <td>34.693750</td>\n",
       "      <td>2.000000</td>\n",
       "      <td>0.000000</td>\n",
       "      <td>16639.912515</td>\n",
       "    </tr>\n",
       "    <tr>\n",
       "      <th>max</th>\n",
       "      <td>64.000000</td>\n",
       "      <td>1.000000</td>\n",
       "      <td>53.130000</td>\n",
       "      <td>5.000000</td>\n",
       "      <td>1.000000</td>\n",
       "      <td>63770.428010</td>\n",
       "    </tr>\n",
       "  </tbody>\n",
       "</table>\n",
       "</div>"
      ],
      "text/plain": [
       "               age          sex          bmi     children       smoker  \\\n",
       "count  1338.000000  1338.000000  1338.000000  1338.000000  1338.000000   \n",
       "mean     39.207025     0.494768    30.663397     1.094918     0.204783   \n",
       "std      14.049960     0.500160     6.098187     1.205493     0.403694   \n",
       "min      18.000000     0.000000    15.960000     0.000000     0.000000   \n",
       "25%      27.000000     0.000000    26.296250     0.000000     0.000000   \n",
       "50%      39.000000     0.000000    30.400000     1.000000     0.000000   \n",
       "75%      51.000000     1.000000    34.693750     2.000000     0.000000   \n",
       "max      64.000000     1.000000    53.130000     5.000000     1.000000   \n",
       "\n",
       "            charges  \n",
       "count   1338.000000  \n",
       "mean   13270.422265  \n",
       "std    12110.011237  \n",
       "min     1121.873900  \n",
       "25%     4740.287150  \n",
       "50%     9382.033000  \n",
       "75%    16639.912515  \n",
       "max    63770.428010  "
      ]
     },
     "execution_count": 21,
     "metadata": {},
     "output_type": "execute_result"
    }
   ],
   "source": [
    "df.describe()"
   ]
  },
  {
   "cell_type": "markdown",
   "id": "fb01f9b8",
   "metadata": {},
   "source": [
    "# Description of Dataset "
   ]
  },
  {
   "cell_type": "code",
   "execution_count": null,
   "id": "20a1740e",
   "metadata": {},
   "outputs": [],
   "source": [
    "#Charge Vs BMI :-"
   ]
  },
  {
   "cell_type": "code",
   "execution_count": 22,
   "id": "cd5bcc9a",
   "metadata": {},
   "outputs": [
    {
     "data": {
      "image/png": "[encoded data removed]",
      "text/plain": [
       "<Figure size 864x432 with 1 Axes>"
      ]
     },
     "metadata": {
      "needs_background": "light"
     },
     "output_type": "display_data"
    }
   ],
   "source": [
    "sns.lmplot(x='bmi',y='charges',data=df,aspect=2,height=6)\n",
    "plt.xlabel('Boby Mass Index$(kg/m^2)$: as Independent variable')\n",
    "plt.ylabel('Insurance Charges: as Dependent variable')\n",
    "plt.title('Charge Vs BMI');"
   ]
  },
  {
   "cell_type": "markdown",
   "id": "c7db882d",
   "metadata": {},
   "source": [
    "# Missing value in dataset :"
   ]
  },
  {
   "cell_type": "code",
   "execution_count": 24,
   "id": "16d0df11",
   "metadata": {},
   "outputs": [
    {
     "data": {
      "text/plain": [
       "Text(0.5, 1.0, 'Missing value in the dataset')"
      ]
     },
     "execution_count": 24,
     "metadata": {},
     "output_type": "execute_result"
    },
    {
     "data": {
      "image/png": "[encoded data removed]",
      "text/plain": [
       "<Figure size 1200x400 with 1 Axes>"
      ]
     },
     "metadata": {},
     "output_type": "display_data"
    }
   ],
   "source": [
    "plt.figure(figsize=(12,4))\n",
    "sns.heatmap(df.isnull(),cbar=False,cmap='viridis',yticklabels=False)\n",
    "plt.title('Missing value in the dataset')"
   ]
  },
  {
   "cell_type": "markdown",
   "id": "67c2c82d",
   "metadata": {},
   "source": [
    "# Correlation plot :-"
   ]
  },
  {
   "cell_type": "code",
   "execution_count": 25,
   "id": "a7b2c1f8",
   "metadata": {},
   "outputs": [
    {
     "data": {
      "image/png": "[encoded data removed]",
      "text/plain": [
       "<Figure size 640x480 with 2 Axes>"
      ]
     },
     "metadata": {},
     "output_type": "display_data"
    }
   ],
   "source": [
    "corr = df.corr()\n",
    "sns.heatmap(corr, cmap = 'Wistia', annot= True);"
   ]
  },
  {
   "cell_type": "code",
   "execution_count": 26,
   "id": "e502fdee",
   "metadata": {},
   "outputs": [],
   "source": [
    "##Distribution of insurance charges in log scale :-"
   ]
  },
  {
   "cell_type": "code",
   "execution_count": 27,
   "id": "884754da",
   "metadata": {},
   "outputs": [
    {
     "data": {
      "image/png": "[encoded data removed]",
      "text/plain": [
       "<Figure size 1200x400 with 2 Axes>"
      ]
     },
     "metadata": {},
     "output_type": "display_data"
    }
   ],
   "source": [
    "f= plt.figure(figsize=(12,4))\n",
    "\n",
    "ax=f.add_subplot(121)\n",
    "sns.distplot(df['charges'],bins=50,color='r',ax=ax)\n",
    "ax.set_title('Distribution of insurance charges')\n",
    "\n",
    "ax=f.add_subplot(122)\n",
    "sns.distplot(np.log10(df['charges']),bins=40,color='b',ax=ax)\n",
    "ax.set_title('Distribution of insurance charges in $log$ sacle')\n",
    "ax.set_xscale('log');"
   ]
  },
  {
   "cell_type": "code",
   "execution_count": 28,
   "id": "30372a87",
   "metadata": {},
   "outputs": [],
   "source": [
    "##Charge VS Sex :-"
   ]
  },
  {
   "cell_type": "code",
   "execution_count": 29,
   "id": "c49e21a0",
   "metadata": {},
   "outputs": [
    {
     "data": {
      "image/png": "[encoded data removed]",
      "text/plain": [
       "<Figure size 1400x600 with 2 Axes>"
      ]
     },
     "metadata": {},
     "output_type": "display_data"
    }
   ],
   "source": [
    "f = plt.figure(figsize=(14,6))\n",
    "ax = f.add_subplot(121)\n",
    "sns.boxplot(x='sex', y='charges',data=df,palette='Wistia',ax=ax)\n",
    "ax.set_title('Box plot of Charges vs sex')\n",
    "\n",
    "ax = f.add_subplot(122)\n",
    "sns.boxplot(x='smoker', y='charges',data=df,palette='magma',ax=ax)\n",
    "ax.set_title('Box plot of Charges vs smoker');"
   ]
  },
  {
   "cell_type": "code",
   "execution_count": 30,
   "id": "b13a1b8c",
   "metadata": {},
   "outputs": [],
   "source": [
    "##Scatter plot of Charges vs bmi :-"
   ]
  },
  {
   "cell_type": "code",
   "execution_count": 31,
   "id": "5363d69b",
   "metadata": {},
   "outputs": [
    {
     "data": {
      "image/png": "[encoded data removed]",
      "text/plain": [
       "<Figure size 1400x600 with 1 Axes>"
      ]
     },
     "metadata": {},
     "output_type": "display_data"
    }
   ],
   "source": [
    "f = plt.figure(figsize=(14,6))\n",
    "ax = f.add_subplot(122)\n",
    "sns.scatterplot(x='bmi',y='charges',data=df,palette='viridis',hue='smoker')\n",
    "ax.set_title('Scatter plot of Charges vs bmi')\n",
    "plt.savefig('sc.png');"
   ]
  },
  {
   "cell_type": "code",
   "execution_count": 32,
   "id": "2e41740e",
   "metadata": {},
   "outputs": [],
   "source": [
    "##Scatter plot of Charges vs age :"
   ]
  },
  {
   "cell_type": "code",
   "execution_count": 33,
   "id": "2e864bbd",
   "metadata": {},
   "outputs": [
    {
     "data": {
      "text/plain": [
       "Text(0.5, 1.0, 'Scatter plot of Charges vs age')"
      ]
     },
     "execution_count": 33,
     "metadata": {},
     "output_type": "execute_result"
    },
    {
     "data": {
      "image/png": "[encoded data removed]",
      "text/plain": [
       "<Figure size 1400x600 with 1 Axes>"
      ]
     },
     "metadata": {},
     "output_type": "display_data"
    }
   ],
   "source": [
    "f = plt.figure(figsize=(14,6))\n",
    "ax = f.add_subplot(121)\n",
    "sns.scatterplot(x='age',y='charges',data=df,palette='magma',hue='smoker',ax=ax)\n",
    "ax.set_title('Scatter plot of Charges vs age')"
   ]
  },
  {
   "cell_type": "markdown",
   "id": "56509975",
   "metadata": {},
   "source": [
    "# Feature Selection :-"
   ]
  },
  {
   "cell_type": "code",
   "execution_count": 34,
   "id": "7e2e7b1a",
   "metadata": {},
   "outputs": [],
   "source": [
    "x = df.drop('charges',axis=True)\n",
    "y = df['charges']"
   ]
  },
  {
   "cell_type": "markdown",
   "id": "d0b9e04d",
   "metadata": {},
   "source": [
    "# Train_test_split :-"
   ]
  },
  {
   "cell_type": "code",
   "execution_count": 36,
   "id": "0ff6d89c",
   "metadata": {},
   "outputs": [],
   "source": [
    "x_train,x_test,y_train,y_test = train_test_split(x,y,test_size=0.10,random_state =1)"
   ]
  },
  {
   "cell_type": "code",
   "execution_count": 37,
   "id": "90476e7c",
   "metadata": {},
   "outputs": [
    {
     "name": "stdout",
     "output_type": "stream",
     "text": [
      "Shape of x_train = (1204, 5)\n",
      "Shape of x_test = (134, 5)\n",
      "Shape of y_train = (1204,)\n",
      "Shape of y_test = (134,)\n"
     ]
    }
   ],
   "source": [
    "print(f'Shape of x_train = {x_train.shape}')\n",
    "print(f'Shape of x_test = {x_test.shape}')\n",
    "print(f'Shape of y_train = {y_train.shape}')\n",
    "print(f'Shape of y_test = {y_test.shape}')"
   ]
  },
  {
   "cell_type": "markdown",
   "id": "52a63f9c",
   "metadata": {},
   "source": [
    "# Creation of function :-"
   ]
  },
  {
   "cell_type": "markdown",
   "id": "7b034074",
   "metadata": {},
   "source": [
    "# function for Model :-"
   ]
  },
  {
   "cell_type": "code",
   "execution_count": 38,
   "id": "716c7206",
   "metadata": {},
   "outputs": [],
   "source": [
    "def model(m_name,xtrain,ytrain):\n",
    "    model = m_name\n",
    "    model.fit(xtrain,ytrain)\n",
    "    return model.fit(xtrain,ytrain)"
   ]
  },
  {
   "cell_type": "markdown",
   "id": "250cf696",
   "metadata": {},
   "source": [
    "# function for Scaling :-"
   ]
  },
  {
   "cell_type": "code",
   "execution_count": 39,
   "id": "80040cbd",
   "metadata": {},
   "outputs": [],
   "source": [
    "def scaling(technique_name,xtrain):\n",
    "    if technique_name == StandardScaler:\n",
    "        scaled = StandardScaler()\n",
    "        scaled_model = scaled.fit_transform(xtrain)\n",
    "    else:\n",
    "        scaled = MinMaxScaler()\n",
    "        scaled_model = scaled.fit_transform(xtrain)\n",
    "    return scaled_model"
   ]
  },
  {
   "cell_type": "markdown",
   "id": "57112a8d",
   "metadata": {},
   "source": [
    "# function for Hyperparameter Model :-"
   ]
  },
  {
   "cell_type": "code",
   "execution_count": 40,
   "id": "1c6290a1",
   "metadata": {},
   "outputs": [],
   "source": [
    "def hyp_model(m_name,hyp_para,xtrain,ytrain):\n",
    "    hyp_model = GridSearchCV(m_name,hyp_para,cv=5)\n",
    "    hyp_model.fit(xtrain,ytrain)\n",
    "    tune_model = hyp_model.best_estimator_\n",
    "    return tune_model.fit(xtrain,ytrain)\n",
    "\n",
    "\n",
    "def hyp_model_random_cv(m_name,hyp_para,xtrain,ytrain):\n",
    "    hyp_model_randomcv = RandomizedSearchCV(m_name,hyp_para,cv=5)\n",
    "    hyp_model_randomcv.fit(xtrain,ytrain)\n",
    "    tune_model_cv = hyp_model_randomcv.best_estimator_\n",
    "    return tune_model_cv.fit(xtrain,ytrain)"
   ]
  },
  {
   "cell_type": "markdown",
   "id": "186b857f",
   "metadata": {},
   "source": [
    "# function for pruning of tree :-"
   ]
  },
  {
   "cell_type": "code",
   "execution_count": 41,
   "id": "1f39f3ca",
   "metadata": {},
   "outputs": [],
   "source": [
    "def pruning(m_name,xtrain,ytrain,xtest,ytest):\n",
    "    ccp_dict = m_name.cost_complexity_pruning_path(xtrain,ytrain)\n",
    "    diff_dict = {}\n",
    "    for i in ccp_dict['ccp_alphas'].values():\n",
    "        prune_model =DecisionTreeRegressor(ccp_alpha=i, random_state=20)\n",
    "        prune_model.fit(xtrain,y_train)\n",
    "        test_acc = prune_model.score(xtest,ytest)\n",
    "        train_acc = prune_model.score(xtrain,ytrain)\n",
    "        if train_acc > test_acc:\n",
    "            diff = train_acc - test_acc\n",
    "            diff_dict.update({i:diff})\n",
    "    min_value = min(sorted(diff_dict.values()))\n",
    "    for j in diff_dict.keys():\n",
    "        if diff_dict[j] == min_value:\n",
    "            ccp_alpha = j\n",
    "    return ccp_alpha        \n",
    "    "
   ]
  },
  {
   "cell_type": "code",
   "execution_count": 42,
   "id": "cfee6ee8",
   "metadata": {},
   "outputs": [],
   "source": [
    "def post_pruning(m_name,xtrain,ytrain,xtest,ytest):\n",
    "    ccp_dict = m_name.cost_complexity_pruning_path(xtrain,ytrain)\n",
    "    r2_score_test_list = []\n",
    "    r2_score_train_list = []\n",
    "    ccp_alpha_val = []\n",
    "#     print(ccp_dict['ccp_alphas'])\n",
    "    for i in ccp_dict['ccp_alphas']:\n",
    "        prune_model =DecisionTreeRegressor(ccp_alpha=i, random_state=20)\n",
    "        prune_model.fit(xtrain,y_train)\n",
    "        test_acc = prune_model.score(xtest,ytest)\n",
    "        train_acc = prune_model.score(xtrain,ytrain)\n",
    "        r2_score_test_list.append(test_acc)\n",
    "        r2_score_train_list.append(train_acc)\n",
    "        ccp_alpha_val.append(i)\n",
    "    \n",
    "        ####### Print\n",
    "        print(f\"CCP\\t R2_score Test \\t R2_Score Train\")\n",
    "        print(f\"{i}\\t {test_acc} \\t {train_acc}\")\n",
    "    return \"Cost complexity Pruning Done Successfully\"    "
   ]
  },
  {
   "cell_type": "markdown",
   "id": "f3962a50",
   "metadata": {},
   "source": [
    "# function for evalution :-"
   ]
  },
  {
   "cell_type": "code",
   "execution_count": 43,
   "id": "360e4e24",
   "metadata": {},
   "outputs": [],
   "source": [
    "def test_vallidation(actual,prediction,xtest):\n",
    "    mse = mean_squared_error(actual,prediction)\n",
    "    rmse = np.sqrt(mse)\n",
    "    r2   = r2_score(actual,prediction)\n",
    "    n,p = xtest.shape\n",
    "    adj_r2 = 1 - (((1-r2) * (n-1)) / (n - p - 1))\n",
    "    return mse,rmse,r2,adj_r2\n",
    "\n",
    "def printin_accuracy(result):\n",
    "    print(f'Mean Squared Error = {result[0]}')\n",
    "    print(f'Root Mean Squared Error = {result[1]}')\n",
    "    print(f'R2-Squared Error = {(result[2])*100}')\n",
    "    print(f'Adjusted R2-Squared  Error = {(result[3])*100}')\n",
    "    return 'All result Printed'"
   ]
  },
  {
   "cell_type": "markdown",
   "id": "be70bd40",
   "metadata": {},
   "source": [
    "# Model- Training :-"
   ]
  },
  {
   "cell_type": "markdown",
   "id": "3bc9a760",
   "metadata": {},
   "source": [
    "# LinearRegression :-"
   ]
  },
  {
   "cell_type": "code",
   "execution_count": 44,
   "id": "647cce65",
   "metadata": {},
   "outputs": [
    {
     "data": {
      "text/html": [
       "<style>#sk-container-id-1 {color: black;background-color: white;}#sk-container-id-1 pre{padding: 0;}#sk-container-id-1 div.sk-toggleable {background-color: white;}#sk-container-id-1 label.sk-toggleable__label {cursor: pointer;display: block;width: 100%;margin-bottom: 0;padding: 0.3em;box-sizing: border-box;text-align: center;}#sk-container-id-1 label.sk-toggleable__label-arrow:before {content: \"▸\";float: left;margin-right: 0.25em;color: #696969;}#sk-container-id-1 label.sk-toggleable__label-arrow:hover:before {color: black;}#sk-container-id-1 div.sk-estimator:hover label.sk-toggleable__label-arrow:before {color: black;}#sk-container-id-1 div.sk-toggleable__content {max-height: 0;max-width: 0;overflow: hidden;text-align: left;background-color: #f0f8ff;}#sk-container-id-1 div.sk-toggleable__content pre {margin: 0.2em;color: black;border-radius: 0.25em;background-color: #f0f8ff;}#sk-container-id-1 input.sk-toggleable__control:checked~div.sk-toggleable__content {max-height: 200px;max-width: 100%;overflow: auto;}#sk-container-id-1 input.sk-toggleable__control:checked~label.sk-toggleable__label-arrow:before {content: \"▾\";}#sk-container-id-1 div.sk-estimator input.sk-toggleable__control:checked~label.sk-toggleable__label {background-color: #d4ebff;}#sk-container-id-1 div.sk-label input.sk-toggleable__control:checked~label.sk-toggleable__label {background-color: #d4ebff;}#sk-container-id-1 input.sk-hidden--visually {border: 0;clip: rect(1px 1px 1px 1px);clip: rect(1px, 1px, 1px, 1px);height: 1px;margin: -1px;overflow: hidden;padding: 0;position: absolute;width: 1px;}#sk-container-id-1 div.sk-estimator {font-family: monospace;background-color: #f0f8ff;border: 1px dotted black;border-radius: 0.25em;box-sizing: border-box;margin-bottom: 0.5em;}#sk-container-id-1 div.sk-estimator:hover {background-color: #d4ebff;}#sk-container-id-1 div.sk-parallel-item::after {content: \"\";width: 100%;border-bottom: 1px solid gray;flex-grow: 1;}#sk-container-id-1 div.sk-label:hover label.sk-toggleable__label {background-color: #d4ebff;}#sk-container-id-1 div.sk-serial::before {content: \"\";position: absolute;border-left: 1px solid gray;box-sizing: border-box;top: 0;bottom: 0;left: 50%;z-index: 0;}#sk-container-id-1 div.sk-serial {display: flex;flex-direction: column;align-items: center;background-color: white;padding-right: 0.2em;padding-left: 0.2em;position: relative;}#sk-container-id-1 div.sk-item {position: relative;z-index: 1;}#sk-container-id-1 div.sk-parallel {display: flex;align-items: stretch;justify-content: center;background-color: white;position: relative;}#sk-container-id-1 div.sk-item::before, #sk-container-id-1 div.sk-parallel-item::before {content: \"\";position: absolute;border-left: 1px solid gray;box-sizing: border-box;top: 0;bottom: 0;left: 50%;z-index: -1;}#sk-container-id-1 div.sk-parallel-item {display: flex;flex-direction: column;z-index: 1;position: relative;background-color: white;}#sk-container-id-1 div.sk-parallel-item:first-child::after {align-self: flex-end;width: 50%;}#sk-container-id-1 div.sk-parallel-item:last-child::after {align-self: flex-start;width: 50%;}#sk-container-id-1 div.sk-parallel-item:only-child::after {width: 0;}#sk-container-id-1 div.sk-dashed-wrapped {border: 1px dashed gray;margin: 0 0.4em 0.5em 0.4em;box-sizing: border-box;padding-bottom: 0.4em;background-color: white;}#sk-container-id-1 div.sk-label label {font-family: monospace;font-weight: bold;display: inline-block;line-height: 1.2em;}#sk-container-id-1 div.sk-label-container {text-align: center;}#sk-container-id-1 div.sk-container {/* jupyter's `normalize.less` sets `[hidden] { display: none; }` but bootstrap.min.css set `[hidden] { display: none !important; }` so we also need the `!important` here to be able to override the default hidden behavior on the sphinx rendered scikit-learn.org. See: https://github.com/scikit-learn/scikit-learn/issues/21755 */display: inline-block !important;position: relative;}#sk-container-id-1 div.sk-text-repr-fallback {display: none;}</style><div id=\"sk-container-id-1\" class=\"sk-top-container\"><div class=\"sk-text-repr-fallback\"><pre>LinearRegression()</pre><b>In a Jupyter environment, please rerun this cell to show the HTML representation or trust the notebook. <br />On GitHub, the HTML representation is unable to render, please try loading this page with nbviewer.org.</b></div><div class=\"sk-container\" hidden><div class=\"sk-item\"><div class=\"sk-estimator sk-toggleable\"><input class=\"sk-toggleable__control sk-hidden--visually\" id=\"sk-estimator-id-1\" type=\"checkbox\" checked><label for=\"sk-estimator-id-1\" class=\"sk-toggleable__label sk-toggleable__label-arrow\">LinearRegression</label><div class=\"sk-toggleable__content\"><pre>LinearRegression()</pre></div></div></div></div></div>"
      ],
      "text/plain": [
       "LinearRegression()"
      ]
     },
     "execution_count": 44,
     "metadata": {},
     "output_type": "execute_result"
    }
   ],
   "source": [
    "linear_model = model(LinearRegression(),x_train,y_train)\n",
    "linear_model\n",
    "# linear_model.fit(x_train,y_train)"
   ]
  },
  {
   "cell_type": "markdown",
   "id": "0d8149d0",
   "metadata": {},
   "source": [
    "# Testing Accuracy -:"
   ]
  },
  {
   "cell_type": "code",
   "execution_count": 45,
   "id": "1cb05c13",
   "metadata": {},
   "outputs": [
    {
     "name": "stdout",
     "output_type": "stream",
     "text": [
      "Mean Squared Error = 43553840.55951531\n",
      "Root Mean Squared Error = 6599.533359224371\n",
      "R2-Squared Error = 72.43841993662775\n",
      "Adjusted R2-Squared  Error = 71.36179571540227\n"
     ]
    },
    {
     "data": {
      "text/plain": [
       "'All result Printed'"
      ]
     },
     "execution_count": 45,
     "metadata": {},
     "output_type": "execute_result"
    }
   ],
   "source": [
    "y_predict = linear_model.predict(x_test)\n",
    "result =  test_vallidation(y_test,y_predict,x_test)\n",
    "printin_accuracy(result)"
   ]
  },
  {
   "cell_type": "markdown",
   "id": "f169e8f1",
   "metadata": {},
   "source": [
    "# Training Accuracy :-"
   ]
  },
  {
   "cell_type": "code",
   "execution_count": 46,
   "id": "675fc388",
   "metadata": {},
   "outputs": [
    {
     "name": "stdout",
     "output_type": "stream",
     "text": [
      "Mean Squared Error = 35925880.409374036\n",
      "Root Mean Squared Error = 5993.82018493832\n",
      "R2-Squared Error = 75.22560659488057\n",
      "Adjusted R2-Squared  Error = 75.12220762407458\n"
     ]
    },
    {
     "data": {
      "text/plain": [
       "'All result Printed'"
      ]
     },
     "execution_count": 46,
     "metadata": {},
     "output_type": "execute_result"
    }
   ],
   "source": [
    "y_predict1 = linear_model.predict(x_train)\n",
    "result =  test_vallidation(y_train,y_predict1,x_train)\n",
    "printin_accuracy(result)"
   ]
  },
  {
   "cell_type": "markdown",
   "id": "2788e75a",
   "metadata": {},
   "source": [
    "# KNN :-"
   ]
  },
  {
   "cell_type": "code",
   "execution_count": 47,
   "id": "ee59919a",
   "metadata": {},
   "outputs": [],
   "source": [
    "## first scalling model"
   ]
  },
  {
   "cell_type": "code",
   "execution_count": 48,
   "id": "aa538b3d",
   "metadata": {},
   "outputs": [],
   "source": [
    "scaled_x_train = scaling(StandardScaler,x_train)\n",
    "scaled_x_test = scaling(StandardScaler,x_test)"
   ]
  },
  {
   "cell_type": "code",
   "execution_count": 49,
   "id": "cdb7e117",
   "metadata": {},
   "outputs": [
    {
     "data": {
      "text/html": [
       "<style>#sk-container-id-2 {color: black;background-color: white;}#sk-container-id-2 pre{padding: 0;}#sk-container-id-2 div.sk-toggleable {background-color: white;}#sk-container-id-2 label.sk-toggleable__label {cursor: pointer;display: block;width: 100%;margin-bottom: 0;padding: 0.3em;box-sizing: border-box;text-align: center;}#sk-container-id-2 label.sk-toggleable__label-arrow:before {content: \"▸\";float: left;margin-right: 0.25em;color: #696969;}#sk-container-id-2 label.sk-toggleable__label-arrow:hover:before {color: black;}#sk-container-id-2 div.sk-estimator:hover label.sk-toggleable__label-arrow:before {color: black;}#sk-container-id-2 div.sk-toggleable__content {max-height: 0;max-width: 0;overflow: hidden;text-align: left;background-color: #f0f8ff;}#sk-container-id-2 div.sk-toggleable__content pre {margin: 0.2em;color: black;border-radius: 0.25em;background-color: #f0f8ff;}#sk-container-id-2 input.sk-toggleable__control:checked~div.sk-toggleable__content {max-height: 200px;max-width: 100%;overflow: auto;}#sk-container-id-2 input.sk-toggleable__control:checked~label.sk-toggleable__label-arrow:before {content: \"▾\";}#sk-container-id-2 div.sk-estimator input.sk-toggleable__control:checked~label.sk-toggleable__label {background-color: #d4ebff;}#sk-container-id-2 div.sk-label input.sk-toggleable__control:checked~label.sk-toggleable__label {background-color: #d4ebff;}#sk-container-id-2 input.sk-hidden--visually {border: 0;clip: rect(1px 1px 1px 1px);clip: rect(1px, 1px, 1px, 1px);height: 1px;margin: -1px;overflow: hidden;padding: 0;position: absolute;width: 1px;}#sk-container-id-2 div.sk-estimator {font-family: monospace;background-color: #f0f8ff;border: 1px dotted black;border-radius: 0.25em;box-sizing: border-box;margin-bottom: 0.5em;}#sk-container-id-2 div.sk-estimator:hover {background-color: #d4ebff;}#sk-container-id-2 div.sk-parallel-item::after {content: \"\";width: 100%;border-bottom: 1px solid gray;flex-grow: 1;}#sk-container-id-2 div.sk-label:hover label.sk-toggleable__label {background-color: #d4ebff;}#sk-container-id-2 div.sk-serial::before {content: \"\";position: absolute;border-left: 1px solid gray;box-sizing: border-box;top: 0;bottom: 0;left: 50%;z-index: 0;}#sk-container-id-2 div.sk-serial {display: flex;flex-direction: column;align-items: center;background-color: white;padding-right: 0.2em;padding-left: 0.2em;position: relative;}#sk-container-id-2 div.sk-item {position: relative;z-index: 1;}#sk-container-id-2 div.sk-parallel {display: flex;align-items: stretch;justify-content: center;background-color: white;position: relative;}#sk-container-id-2 div.sk-item::before, #sk-container-id-2 div.sk-parallel-item::before {content: \"\";position: absolute;border-left: 1px solid gray;box-sizing: border-box;top: 0;bottom: 0;left: 50%;z-index: -1;}#sk-container-id-2 div.sk-parallel-item {display: flex;flex-direction: column;z-index: 1;position: relative;background-color: white;}#sk-container-id-2 div.sk-parallel-item:first-child::after {align-self: flex-end;width: 50%;}#sk-container-id-2 div.sk-parallel-item:last-child::after {align-self: flex-start;width: 50%;}#sk-container-id-2 div.sk-parallel-item:only-child::after {width: 0;}#sk-container-id-2 div.sk-dashed-wrapped {border: 1px dashed gray;margin: 0 0.4em 0.5em 0.4em;box-sizing: border-box;padding-bottom: 0.4em;background-color: white;}#sk-container-id-2 div.sk-label label {font-family: monospace;font-weight: bold;display: inline-block;line-height: 1.2em;}#sk-container-id-2 div.sk-label-container {text-align: center;}#sk-container-id-2 div.sk-container {/* jupyter's `normalize.less` sets `[hidden] { display: none; }` but bootstrap.min.css set `[hidden] { display: none !important; }` so we also need the `!important` here to be able to override the default hidden behavior on the sphinx rendered scikit-learn.org. See: https://github.com/scikit-learn/scikit-learn/issues/21755 */display: inline-block !important;position: relative;}#sk-container-id-2 div.sk-text-repr-fallback {display: none;}</style><div id=\"sk-container-id-2\" class=\"sk-top-container\"><div class=\"sk-text-repr-fallback\"><pre>KNeighborsRegressor()</pre><b>In a Jupyter environment, please rerun this cell to show the HTML representation or trust the notebook. <br />On GitHub, the HTML representation is unable to render, please try loading this page with nbviewer.org.</b></div><div class=\"sk-container\" hidden><div class=\"sk-item\"><div class=\"sk-estimator sk-toggleable\"><input class=\"sk-toggleable__control sk-hidden--visually\" id=\"sk-estimator-id-2\" type=\"checkbox\" checked><label for=\"sk-estimator-id-2\" class=\"sk-toggleable__label sk-toggleable__label-arrow\">KNeighborsRegressor</label><div class=\"sk-toggleable__content\"><pre>KNeighborsRegressor()</pre></div></div></div></div></div>"
      ],
      "text/plain": [
       "KNeighborsRegressor()"
      ]
     },
     "execution_count": 49,
     "metadata": {},
     "output_type": "execute_result"
    }
   ],
   "source": [
    "knn_model = model(KNeighborsRegressor(),scaled_x_train,y_train)\n",
    "knn_model"
   ]
  },
  {
   "cell_type": "markdown",
   "id": "bead5ac0",
   "metadata": {},
   "source": [
    "# Testing Accuracy :-"
   ]
  },
  {
   "cell_type": "code",
   "execution_count": 50,
   "id": "049ec08f",
   "metadata": {},
   "outputs": [
    {
     "name": "stdout",
     "output_type": "stream",
     "text": [
      "Mean Squared Error = 26106012.10275245\n",
      "Root Mean Squared Error = 5109.404280613588\n",
      "R2-Squared Error = 83.47969011545227\n",
      "Adjusted R2-Squared  Error = 82.83436551058712\n"
     ]
    },
    {
     "data": {
      "text/plain": [
       "'All result Printed'"
      ]
     },
     "execution_count": 50,
     "metadata": {},
     "output_type": "execute_result"
    }
   ],
   "source": [
    "y_predict_knn = knn_model.predict(scaled_x_test)\n",
    "result_knn =  test_vallidation(y_test,y_predict_knn,scaled_x_test)\n",
    "printin_accuracy(result_knn)"
   ]
  },
  {
   "cell_type": "markdown",
   "id": "e5cd5354",
   "metadata": {},
   "source": [
    "# Training Accuracy :-"
   ]
  },
  {
   "cell_type": "code",
   "execution_count": 51,
   "id": "59f1070e",
   "metadata": {},
   "outputs": [
    {
     "name": "stdout",
     "output_type": "stream",
     "text": [
      "Mean Squared Error = 18458309.12708474\n",
      "Root Mean Squared Error = 4296.313434455724\n",
      "R2-Squared Error = 87.27119818089737\n",
      "Adjusted R2-Squared  Error = 87.21807296462399\n"
     ]
    },
    {
     "data": {
      "text/plain": [
       "'All result Printed'"
      ]
     },
     "execution_count": 51,
     "metadata": {},
     "output_type": "execute_result"
    }
   ],
   "source": [
    "y_predict1_knn = knn_model.predict(scaled_x_train)\n",
    "result =  test_vallidation(y_train,y_predict1_knn,scaled_x_train)\n",
    "printin_accuracy(result)"
   ]
  },
  {
   "cell_type": "raw",
   "id": "9df70cb5",
   "metadata": {},
   "source": [
    "There is low bias but high varrience between testing and training accuracy and it is condition for overfitting .So for decreasing the varrience and make our model genralised we would do Hyperparameter tunning. "
   ]
  },
  {
   "cell_type": "markdown",
   "id": "63ac7962",
   "metadata": {},
   "source": [
    "# Hyperparameter Tunning :-"
   ]
  },
  {
   "cell_type": "code",
   "execution_count": 52,
   "id": "c0e9d0f4",
   "metadata": {},
   "outputs": [
    {
     "data": {
      "text/html": [
       "<style>#sk-container-id-3 {color: black;background-color: white;}#sk-container-id-3 pre{padding: 0;}#sk-container-id-3 div.sk-toggleable {background-color: white;}#sk-container-id-3 label.sk-toggleable__label {cursor: pointer;display: block;width: 100%;margin-bottom: 0;padding: 0.3em;box-sizing: border-box;text-align: center;}#sk-container-id-3 label.sk-toggleable__label-arrow:before {content: \"▸\";float: left;margin-right: 0.25em;color: #696969;}#sk-container-id-3 label.sk-toggleable__label-arrow:hover:before {color: black;}#sk-container-id-3 div.sk-estimator:hover label.sk-toggleable__label-arrow:before {color: black;}#sk-container-id-3 div.sk-toggleable__content {max-height: 0;max-width: 0;overflow: hidden;text-align: left;background-color: #f0f8ff;}#sk-container-id-3 div.sk-toggleable__content pre {margin: 0.2em;color: black;border-radius: 0.25em;background-color: #f0f8ff;}#sk-container-id-3 input.sk-toggleable__control:checked~div.sk-toggleable__content {max-height: 200px;max-width: 100%;overflow: auto;}#sk-container-id-3 input.sk-toggleable__control:checked~label.sk-toggleable__label-arrow:before {content: \"▾\";}#sk-container-id-3 div.sk-estimator input.sk-toggleable__control:checked~label.sk-toggleable__label {background-color: #d4ebff;}#sk-container-id-3 div.sk-label input.sk-toggleable__control:checked~label.sk-toggleable__label {background-color: #d4ebff;}#sk-container-id-3 input.sk-hidden--visually {border: 0;clip: rect(1px 1px 1px 1px);clip: rect(1px, 1px, 1px, 1px);height: 1px;margin: -1px;overflow: hidden;padding: 0;position: absolute;width: 1px;}#sk-container-id-3 div.sk-estimator {font-family: monospace;background-color: #f0f8ff;border: 1px dotted black;border-radius: 0.25em;box-sizing: border-box;margin-bottom: 0.5em;}#sk-container-id-3 div.sk-estimator:hover {background-color: #d4ebff;}#sk-container-id-3 div.sk-parallel-item::after {content: \"\";width: 100%;border-bottom: 1px solid gray;flex-grow: 1;}#sk-container-id-3 div.sk-label:hover label.sk-toggleable__label {background-color: #d4ebff;}#sk-container-id-3 div.sk-serial::before {content: \"\";position: absolute;border-left: 1px solid gray;box-sizing: border-box;top: 0;bottom: 0;left: 50%;z-index: 0;}#sk-container-id-3 div.sk-serial {display: flex;flex-direction: column;align-items: center;background-color: white;padding-right: 0.2em;padding-left: 0.2em;position: relative;}#sk-container-id-3 div.sk-item {position: relative;z-index: 1;}#sk-container-id-3 div.sk-parallel {display: flex;align-items: stretch;justify-content: center;background-color: white;position: relative;}#sk-container-id-3 div.sk-item::before, #sk-container-id-3 div.sk-parallel-item::before {content: \"\";position: absolute;border-left: 1px solid gray;box-sizing: border-box;top: 0;bottom: 0;left: 50%;z-index: -1;}#sk-container-id-3 div.sk-parallel-item {display: flex;flex-direction: column;z-index: 1;position: relative;background-color: white;}#sk-container-id-3 div.sk-parallel-item:first-child::after {align-self: flex-end;width: 50%;}#sk-container-id-3 div.sk-parallel-item:last-child::after {align-self: flex-start;width: 50%;}#sk-container-id-3 div.sk-parallel-item:only-child::after {width: 0;}#sk-container-id-3 div.sk-dashed-wrapped {border: 1px dashed gray;margin: 0 0.4em 0.5em 0.4em;box-sizing: border-box;padding-bottom: 0.4em;background-color: white;}#sk-container-id-3 div.sk-label label {font-family: monospace;font-weight: bold;display: inline-block;line-height: 1.2em;}#sk-container-id-3 div.sk-label-container {text-align: center;}#sk-container-id-3 div.sk-container {/* jupyter's `normalize.less` sets `[hidden] { display: none; }` but bootstrap.min.css set `[hidden] { display: none !important; }` so we also need the `!important` here to be able to override the default hidden behavior on the sphinx rendered scikit-learn.org. See: https://github.com/scikit-learn/scikit-learn/issues/21755 */display: inline-block !important;position: relative;}#sk-container-id-3 div.sk-text-repr-fallback {display: none;}</style><div id=\"sk-container-id-3\" class=\"sk-top-container\"><div class=\"sk-text-repr-fallback\"><pre>KNeighborsRegressor(n_neighbors=14)</pre><b>In a Jupyter environment, please rerun this cell to show the HTML representation or trust the notebook. <br />On GitHub, the HTML representation is unable to render, please try loading this page with nbviewer.org.</b></div><div class=\"sk-container\" hidden><div class=\"sk-item\"><div class=\"sk-estimator sk-toggleable\"><input class=\"sk-toggleable__control sk-hidden--visually\" id=\"sk-estimator-id-3\" type=\"checkbox\" checked><label for=\"sk-estimator-id-3\" class=\"sk-toggleable__label sk-toggleable__label-arrow\">KNeighborsRegressor</label><div class=\"sk-toggleable__content\"><pre>KNeighborsRegressor(n_neighbors=14)</pre></div></div></div></div></div>"
      ],
      "text/plain": [
       "KNeighborsRegressor(n_neighbors=14)"
      ]
     },
     "execution_count": 52,
     "metadata": {},
     "output_type": "execute_result"
    }
   ],
   "source": [
    "model_name = KNeighborsRegressor()\n",
    "hyper_para = {'n_neighbors':np.arange(2,20),\n",
    "                'p' : [1,2]}\n",
    "\n",
    "tunned_model = hyp_model(model_name,hyper_para,scaled_x_train,y_train)\n",
    "tunned_model"
   ]
  },
  {
   "cell_type": "markdown",
   "id": "e821ec6a",
   "metadata": {},
   "source": [
    "# Tunned model testing Accuracy :-"
   ]
  },
  {
   "cell_type": "code",
   "execution_count": 53,
   "id": "b9bafb16",
   "metadata": {},
   "outputs": [
    {
     "name": "stdout",
     "output_type": "stream",
     "text": [
      "Mean Squared Error = 27864481.868626148\n",
      "Root Mean Squared Error = 5278.6818305923825\n",
      "R2-Squared Error = 82.36690179142562\n",
      "Adjusted R2-Squared  Error = 81.67810889265319\n"
     ]
    },
    {
     "data": {
      "text/plain": [
       "'All result Printed'"
      ]
     },
     "execution_count": 53,
     "metadata": {},
     "output_type": "execute_result"
    }
   ],
   "source": [
    "y_predict_knn_tunned = tunned_model.predict(scaled_x_test)\n",
    "result_knn_tunned =  test_vallidation(y_test,y_predict_knn_tunned,scaled_x_test)\n",
    "printin_accuracy(result_knn_tunned)"
   ]
  },
  {
   "cell_type": "markdown",
   "id": "bbb77d36",
   "metadata": {},
   "source": [
    "# Tunned model training accuracy :-"
   ]
  },
  {
   "cell_type": "code",
   "execution_count": 54,
   "id": "346bbef0",
   "metadata": {},
   "outputs": [
    {
     "name": "stdout",
     "output_type": "stream",
     "text": [
      "Mean Squared Error = 21227923.81309915\n",
      "Root Mean Squared Error = 4607.377107758724\n",
      "R2-Squared Error = 85.36127911892738\n",
      "Adjusted R2-Squared  Error = 85.3001826210932\n"
     ]
    },
    {
     "data": {
      "text/plain": [
       "'All result Printed'"
      ]
     },
     "execution_count": 54,
     "metadata": {},
     "output_type": "execute_result"
    }
   ],
   "source": [
    "y_predict1_knn_tunned = tunned_model.predict(scaled_x_train)\n",
    "result_training =  test_vallidation(y_train,y_predict1_knn_tunned,scaled_x_train)\n",
    "printin_accuracy(result_training)"
   ]
  },
  {
   "cell_type": "raw",
   "id": "5966a9d0",
   "metadata": {},
   "source": [
    "Now we have low bias and low varrience which is condition for genralised model."
   ]
  },
  {
   "cell_type": "markdown",
   "id": "67c5d802",
   "metadata": {},
   "source": [
    "# Decision Tree :-"
   ]
  },
  {
   "cell_type": "code",
   "execution_count": 55,
   "id": "babd5aaf",
   "metadata": {},
   "outputs": [
    {
     "data": {
      "text/html": [
       "<style>#sk-container-id-4 {color: black;background-color: white;}#sk-container-id-4 pre{padding: 0;}#sk-container-id-4 div.sk-toggleable {background-color: white;}#sk-container-id-4 label.sk-toggleable__label {cursor: pointer;display: block;width: 100%;margin-bottom: 0;padding: 0.3em;box-sizing: border-box;text-align: center;}#sk-container-id-4 label.sk-toggleable__label-arrow:before {content: \"▸\";float: left;margin-right: 0.25em;color: #696969;}#sk-container-id-4 label.sk-toggleable__label-arrow:hover:before {color: black;}#sk-container-id-4 div.sk-estimator:hover label.sk-toggleable__label-arrow:before {color: black;}#sk-container-id-4 div.sk-toggleable__content {max-height: 0;max-width: 0;overflow: hidden;text-align: left;background-color: #f0f8ff;}#sk-container-id-4 div.sk-toggleable__content pre {margin: 0.2em;color: black;border-radius: 0.25em;background-color: #f0f8ff;}#sk-container-id-4 input.sk-toggleable__control:checked~div.sk-toggleable__content {max-height: 200px;max-width: 100%;overflow: auto;}#sk-container-id-4 input.sk-toggleable__control:checked~label.sk-toggleable__label-arrow:before {content: \"▾\";}#sk-container-id-4 div.sk-estimator input.sk-toggleable__control:checked~label.sk-toggleable__label {background-color: #d4ebff;}#sk-container-id-4 div.sk-label input.sk-toggleable__control:checked~label.sk-toggleable__label {background-color: #d4ebff;}#sk-container-id-4 input.sk-hidden--visually {border: 0;clip: rect(1px 1px 1px 1px);clip: rect(1px, 1px, 1px, 1px);height: 1px;margin: -1px;overflow: hidden;padding: 0;position: absolute;width: 1px;}#sk-container-id-4 div.sk-estimator {font-family: monospace;background-color: #f0f8ff;border: 1px dotted black;border-radius: 0.25em;box-sizing: border-box;margin-bottom: 0.5em;}#sk-container-id-4 div.sk-estimator:hover {background-color: #d4ebff;}#sk-container-id-4 div.sk-parallel-item::after {content: \"\";width: 100%;border-bottom: 1px solid gray;flex-grow: 1;}#sk-container-id-4 div.sk-label:hover label.sk-toggleable__label {background-color: #d4ebff;}#sk-container-id-4 div.sk-serial::before {content: \"\";position: absolute;border-left: 1px solid gray;box-sizing: border-box;top: 0;bottom: 0;left: 50%;z-index: 0;}#sk-container-id-4 div.sk-serial {display: flex;flex-direction: column;align-items: center;background-color: white;padding-right: 0.2em;padding-left: 0.2em;position: relative;}#sk-container-id-4 div.sk-item {position: relative;z-index: 1;}#sk-container-id-4 div.sk-parallel {display: flex;align-items: stretch;justify-content: center;background-color: white;position: relative;}#sk-container-id-4 div.sk-item::before, #sk-container-id-4 div.sk-parallel-item::before {content: \"\";position: absolute;border-left: 1px solid gray;box-sizing: border-box;top: 0;bottom: 0;left: 50%;z-index: -1;}#sk-container-id-4 div.sk-parallel-item {display: flex;flex-direction: column;z-index: 1;position: relative;background-color: white;}#sk-container-id-4 div.sk-parallel-item:first-child::after {align-self: flex-end;width: 50%;}#sk-container-id-4 div.sk-parallel-item:last-child::after {align-self: flex-start;width: 50%;}#sk-container-id-4 div.sk-parallel-item:only-child::after {width: 0;}#sk-container-id-4 div.sk-dashed-wrapped {border: 1px dashed gray;margin: 0 0.4em 0.5em 0.4em;box-sizing: border-box;padding-bottom: 0.4em;background-color: white;}#sk-container-id-4 div.sk-label label {font-family: monospace;font-weight: bold;display: inline-block;line-height: 1.2em;}#sk-container-id-4 div.sk-label-container {text-align: center;}#sk-container-id-4 div.sk-container {/* jupyter's `normalize.less` sets `[hidden] { display: none; }` but bootstrap.min.css set `[hidden] { display: none !important; }` so we also need the `!important` here to be able to override the default hidden behavior on the sphinx rendered scikit-learn.org. See: https://github.com/scikit-learn/scikit-learn/issues/21755 */display: inline-block !important;position: relative;}#sk-container-id-4 div.sk-text-repr-fallback {display: none;}</style><div id=\"sk-container-id-4\" class=\"sk-top-container\"><div class=\"sk-text-repr-fallback\"><pre>DecisionTreeRegressor(random_state=20)</pre><b>In a Jupyter environment, please rerun this cell to show the HTML representation or trust the notebook. <br />On GitHub, the HTML representation is unable to render, please try loading this page with nbviewer.org.</b></div><div class=\"sk-container\" hidden><div class=\"sk-item\"><div class=\"sk-estimator sk-toggleable\"><input class=\"sk-toggleable__control sk-hidden--visually\" id=\"sk-estimator-id-4\" type=\"checkbox\" checked><label for=\"sk-estimator-id-4\" class=\"sk-toggleable__label sk-toggleable__label-arrow\">DecisionTreeRegressor</label><div class=\"sk-toggleable__content\"><pre>DecisionTreeRegressor(random_state=20)</pre></div></div></div></div></div>"
      ],
      "text/plain": [
       "DecisionTreeRegressor(random_state=20)"
      ]
     },
     "execution_count": 55,
     "metadata": {},
     "output_type": "execute_result"
    }
   ],
   "source": [
    "decision_tree_model = model(DecisionTreeRegressor(random_state=20),x_train,y_train)\n",
    "decision_tree_model"
   ]
  },
  {
   "cell_type": "markdown",
   "id": "f4544d8c",
   "metadata": {},
   "source": [
    "# Testing accuracy :-"
   ]
  },
  {
   "cell_type": "code",
   "execution_count": 56,
   "id": "f0b78054",
   "metadata": {},
   "outputs": [
    {
     "name": "stdout",
     "output_type": "stream",
     "text": [
      "Mean Squared Error = 49608836.02555306\n",
      "Root Mean Squared Error = 7043.3540323877705\n",
      "R2-Squared Error = 68.60672013296724\n",
      "Adjusted R2-Squared  Error = 67.38042013816128\n"
     ]
    },
    {
     "data": {
      "text/plain": [
       "'All result Printed'"
      ]
     },
     "execution_count": 56,
     "metadata": {},
     "output_type": "execute_result"
    }
   ],
   "source": [
    "y_predict_tree = decision_tree_model.predict(x_test)\n",
    "result_tree =  test_vallidation(y_test,y_predict_tree,x_test)\n",
    "printin_accuracy(result_tree)"
   ]
  },
  {
   "cell_type": "markdown",
   "id": "9088d4c1",
   "metadata": {},
   "source": [
    "# Traning Accuracy :-"
   ]
  },
  {
   "cell_type": "code",
   "execution_count": 57,
   "id": "418ceadb",
   "metadata": {},
   "outputs": [
    {
     "name": "stdout",
     "output_type": "stream",
     "text": [
      "Mean Squared Error = 64900.50466361872\n",
      "Root Mean Squared Error = 254.7557745442068\n",
      "R2-Squared Error = 99.95524478129957\n",
      "Adjusted R2-Squared  Error = 99.95505798990266\n"
     ]
    },
    {
     "data": {
      "text/plain": [
       "'All result Printed'"
      ]
     },
     "execution_count": 57,
     "metadata": {},
     "output_type": "execute_result"
    }
   ],
   "source": [
    "y_predict1_tree = decision_tree_model.predict(x_train)\n",
    "result_tree_train =  test_vallidation(y_train,y_predict1_tree,x_train)\n",
    "printin_accuracy(result_tree_train)"
   ]
  },
  {
   "cell_type": "raw",
   "id": "5502a655",
   "metadata": {},
   "source": [
    "We have condition for low bias and high varrience so we can call our model has overfitted model.\n",
    "so for making our model genralised we have two methods :-\n",
    "                        \n",
    "                                 1) pre-pruning - Hyperpara tunning \n",
    "                                 2) post-pruning - cost comprexity pruning method\n",
    "                                 "
   ]
  },
  {
   "cell_type": "markdown",
   "id": "f4f6eef0",
   "metadata": {},
   "source": [
    "# Hyperpara Meter Tunning :-"
   ]
  },
  {
   "cell_type": "code",
   "execution_count": 58,
   "id": "c83a6c97",
   "metadata": {},
   "outputs": [
    {
     "data": {
      "text/html": [
       "<style>#sk-container-id-5 {color: black;background-color: white;}#sk-container-id-5 pre{padding: 0;}#sk-container-id-5 div.sk-toggleable {background-color: white;}#sk-container-id-5 label.sk-toggleable__label {cursor: pointer;display: block;width: 100%;margin-bottom: 0;padding: 0.3em;box-sizing: border-box;text-align: center;}#sk-container-id-5 label.sk-toggleable__label-arrow:before {content: \"▸\";float: left;margin-right: 0.25em;color: #696969;}#sk-container-id-5 label.sk-toggleable__label-arrow:hover:before {color: black;}#sk-container-id-5 div.sk-estimator:hover label.sk-toggleable__label-arrow:before {color: black;}#sk-container-id-5 div.sk-toggleable__content {max-height: 0;max-width: 0;overflow: hidden;text-align: left;background-color: #f0f8ff;}#sk-container-id-5 div.sk-toggleable__content pre {margin: 0.2em;color: black;border-radius: 0.25em;background-color: #f0f8ff;}#sk-container-id-5 input.sk-toggleable__control:checked~div.sk-toggleable__content {max-height: 200px;max-width: 100%;overflow: auto;}#sk-container-id-5 input.sk-toggleable__control:checked~label.sk-toggleable__label-arrow:before {content: \"▾\";}#sk-container-id-5 div.sk-estimator input.sk-toggleable__control:checked~label.sk-toggleable__label {background-color: #d4ebff;}#sk-container-id-5 div.sk-label input.sk-toggleable__control:checked~label.sk-toggleable__label {background-color: #d4ebff;}#sk-container-id-5 input.sk-hidden--visually {border: 0;clip: rect(1px 1px 1px 1px);clip: rect(1px, 1px, 1px, 1px);height: 1px;margin: -1px;overflow: hidden;padding: 0;position: absolute;width: 1px;}#sk-container-id-5 div.sk-estimator {font-family: monospace;background-color: #f0f8ff;border: 1px dotted black;border-radius: 0.25em;box-sizing: border-box;margin-bottom: 0.5em;}#sk-container-id-5 div.sk-estimator:hover {background-color: #d4ebff;}#sk-container-id-5 div.sk-parallel-item::after {content: \"\";width: 100%;border-bottom: 1px solid gray;flex-grow: 1;}#sk-container-id-5 div.sk-label:hover label.sk-toggleable__label {background-color: #d4ebff;}#sk-container-id-5 div.sk-serial::before {content: \"\";position: absolute;border-left: 1px solid gray;box-sizing: border-box;top: 0;bottom: 0;left: 50%;z-index: 0;}#sk-container-id-5 div.sk-serial {display: flex;flex-direction: column;align-items: center;background-color: white;padding-right: 0.2em;padding-left: 0.2em;position: relative;}#sk-container-id-5 div.sk-item {position: relative;z-index: 1;}#sk-container-id-5 div.sk-parallel {display: flex;align-items: stretch;justify-content: center;background-color: white;position: relative;}#sk-container-id-5 div.sk-item::before, #sk-container-id-5 div.sk-parallel-item::before {content: \"\";position: absolute;border-left: 1px solid gray;box-sizing: border-box;top: 0;bottom: 0;left: 50%;z-index: -1;}#sk-container-id-5 div.sk-parallel-item {display: flex;flex-direction: column;z-index: 1;position: relative;background-color: white;}#sk-container-id-5 div.sk-parallel-item:first-child::after {align-self: flex-end;width: 50%;}#sk-container-id-5 div.sk-parallel-item:last-child::after {align-self: flex-start;width: 50%;}#sk-container-id-5 div.sk-parallel-item:only-child::after {width: 0;}#sk-container-id-5 div.sk-dashed-wrapped {border: 1px dashed gray;margin: 0 0.4em 0.5em 0.4em;box-sizing: border-box;padding-bottom: 0.4em;background-color: white;}#sk-container-id-5 div.sk-label label {font-family: monospace;font-weight: bold;display: inline-block;line-height: 1.2em;}#sk-container-id-5 div.sk-label-container {text-align: center;}#sk-container-id-5 div.sk-container {/* jupyter's `normalize.less` sets `[hidden] { display: none; }` but bootstrap.min.css set `[hidden] { display: none !important; }` so we also need the `!important` here to be able to override the default hidden behavior on the sphinx rendered scikit-learn.org. See: https://github.com/scikit-learn/scikit-learn/issues/21755 */display: inline-block !important;position: relative;}#sk-container-id-5 div.sk-text-repr-fallback {display: none;}</style><div id=\"sk-container-id-5\" class=\"sk-top-container\"><div class=\"sk-text-repr-fallback\"><pre>DecisionTreeRegressor(criterion=&#x27;mse&#x27;, max_depth=3, max_leaf_nodes=7,\n",
       "                      min_samples_leaf=5, min_samples_split=5, random_state=20)</pre><b>In a Jupyter environment, please rerun this cell to show the HTML representation or trust the notebook. <br />On GitHub, the HTML representation is unable to render, please try loading this page with nbviewer.org.</b></div><div class=\"sk-container\" hidden><div class=\"sk-item\"><div class=\"sk-estimator sk-toggleable\"><input class=\"sk-toggleable__control sk-hidden--visually\" id=\"sk-estimator-id-5\" type=\"checkbox\" checked><label for=\"sk-estimator-id-5\" class=\"sk-toggleable__label sk-toggleable__label-arrow\">DecisionTreeRegressor</label><div class=\"sk-toggleable__content\"><pre>DecisionTreeRegressor(criterion=&#x27;mse&#x27;, max_depth=3, max_leaf_nodes=7,\n",
       "                      min_samples_leaf=5, min_samples_split=5, random_state=20)</pre></div></div></div></div></div>"
      ],
      "text/plain": [
       "DecisionTreeRegressor(criterion='mse', max_depth=3, max_leaf_nodes=7,\n",
       "                      min_samples_leaf=5, min_samples_split=5, random_state=20)"
      ]
     },
     "execution_count": 58,
     "metadata": {},
     "output_type": "execute_result"
    }
   ],
   "source": [
    "model_name_tree = DecisionTreeRegressor(random_state=20)\n",
    "hyper_para_tree = {'criterion':['mse','mae'],\n",
    "    'max_depth':np.arange(3,8),\n",
    "    'min_samples_split':np.arange(5,15),\n",
    "    'min_samples_leaf':np.arange(5,10),\n",
    "    'max_leaf_nodes':np.arange(2,8)}\n",
    "\n",
    "tunned_model_tree = hyp_model(model_name_tree,hyper_para_tree,x_train,y_train)\n",
    "tunned_model_tree"
   ]
  },
  {
   "cell_type": "markdown",
   "id": "9e02e387",
   "metadata": {},
   "source": [
    "# Tunned Model Testing Accuracy :-"
   ]
  },
  {
   "cell_type": "code",
   "execution_count": 59,
   "id": "9bb388bc",
   "metadata": {},
   "outputs": [
    {
     "name": "stdout",
     "output_type": "stream",
     "text": [
      "Mean Squared Error = 24624948.98044913\n",
      "Root Mean Squared Error = 4962.353169661459\n",
      "R2-Squared Error = 84.41693099478394\n",
      "Adjusted R2-Squared  Error = 83.80821736176767\n"
     ]
    },
    {
     "data": {
      "text/plain": [
       "'All result Printed'"
      ]
     },
     "execution_count": 59,
     "metadata": {},
     "output_type": "execute_result"
    }
   ],
   "source": [
    "y_predict_tunned_tree = tunned_model_tree.predict(x_test)\n",
    "result_tunned_tree =  test_vallidation(y_test,y_predict_tunned_tree,x_test)\n",
    "printin_accuracy(result_tunned_tree)"
   ]
  },
  {
   "cell_type": "markdown",
   "id": "cc5a39e8",
   "metadata": {},
   "source": [
    "# Tunned Model Training Accuracy :-"
   ]
  },
  {
   "cell_type": "code",
   "execution_count": 60,
   "id": "9a505e20",
   "metadata": {},
   "outputs": [
    {
     "name": "stdout",
     "output_type": "stream",
     "text": [
      "Mean Squared Error = 21392501.98724459\n",
      "Root Mean Squared Error = 4625.202913088742\n",
      "R2-Squared Error = 85.24778643939624\n",
      "Adjusted R2-Squared  Error = 85.18621626593796\n"
     ]
    },
    {
     "data": {
      "text/plain": [
       "'All result Printed'"
      ]
     },
     "execution_count": 60,
     "metadata": {},
     "output_type": "execute_result"
    }
   ],
   "source": [
    "y_predict1_tunned_tree = tunned_model_tree.predict(x_train)\n",
    "result_tunned_tree_train =  test_vallidation(y_train,y_predict1_tunned_tree,x_train)\n",
    "printin_accuracy(result_tunned_tree_train)"
   ]
  },
  {
   "cell_type": "markdown",
   "id": "62d2825e",
   "metadata": {},
   "source": [
    "# Cost Complexity pruning :-"
   ]
  },
  {
   "cell_type": "code",
   "execution_count": 61,
   "id": "ed74adf9",
   "metadata": {},
   "outputs": [
    {
     "name": "stdout",
     "output_type": "stream",
     "text": [
      "CCP\t R2_score Test \t R2_Score Train\n",
      "0.0\t 0.6860672013296725 \t 0.9995524478129957\n",
      "CCP\t R2_score Test \t R2_Score Train\n",
      "1.2839008803383457e-06\t 0.6860672013296725 \t 0.9995524478129868\n",
      "CCP\t R2_score Test \t R2_Score Train\n",
      "7.241362151983767e-06\t 0.6860672013296725 \t 0.9995524478129368\n",
      "CCP\t R2_score Test \t R2_Score Train\n",
      "7.241370273982964e-06\t 0.6860672013296725 \t 0.9995524478128369\n",
      "CCP\t R2_score Test \t R2_Score Train\n",
      "7.241370273982964e-06\t 0.6860672013296725 \t 0.9995524478128369\n",
      "CCP\t R2_score Test \t R2_Score Train\n",
      "9.70862632574037e-06\t 0.6860672013296725 \t 0.99955244781277\n",
      "CCP\t R2_score Test \t R2_Score Train\n",
      "2.3188409813218732e-05\t 0.6860672013296725 \t 0.9995524478126101\n",
      "CCP\t R2_score Test \t R2_Score Train\n",
      "5.8492562467498435e-05\t 0.6860672013296725 \t 0.9995524478122068\n",
      "CCP\t R2_score Test \t R2_Score Train\n",
      "6.747907460775487e-05\t 0.6860672013296725 \t 0.9995524478117415\n",
      "CCP\t R2_score Test \t R2_Score Train\n",
      "7.221303888723453e-05\t 0.6860672013296725 \t 0.9995524478112434\n",
      "CCP\t R2_score Test \t R2_Score Train\n",
      "8.737777307184035e-05\t 0.6860672013296725 \t 0.9995524478106409\n",
      "CCP\t R2_score Test \t R2_Score Train\n",
      "8.737777790636369e-05\t 0.6860672013296725 \t 0.9995524478100384\n",
      "CCP\t R2_score Test \t R2_Score Train\n",
      "0.00011586175111441121\t 0.6860671795610833 \t 0.9995524478092394\n",
      "CCP\t R2_score Test \t R2_Score Train\n",
      "0.00011586180680812\t 0.6860671795610833 \t 0.9995524478084403\n",
      "CCP\t R2_score Test \t R2_Score Train\n",
      "0.00011586181609040479\t 0.6860671795610833 \t 0.9995524478076414\n",
      "CCP\t R2_score Test \t R2_Score Train\n",
      "0.00015533827183353545\t 0.6860671795610833 \t 0.9995524478065702\n",
      "CCP\t R2_score Test \t R2_Score Train\n",
      "0.00018103402169835923\t 0.6860671795610833 \t 0.9995524478053218\n",
      "CCP\t R2_score Test \t R2_Score Train\n",
      "0.00018103407120387816\t 0.6860671795610833 \t 0.9995524478040734\n",
      "CCP\t R2_score Test \t R2_Score Train\n",
      "0.0001810340835802579\t 0.6860671795641714 \t 0.9995524478028249\n",
      "CCP\t R2_score Test \t R2_Score Train\n",
      "0.0002005917772007147\t 0.6860671795641714 \t 0.9995524478014417\n",
      "CCP\t R2_score Test \t R2_Score Train\n",
      "0.00020869568213077874\t 0.6860671795641714 \t 0.9995524478000025\n",
      "CCP\t R2_score Test \t R2_Score Train\n",
      "0.00024271602943490113\t 0.6860671795641714 \t 0.9995524477983287\n",
      "CCP\t R2_score Test \t R2_Score Train\n",
      "0.00026991629843101946\t 0.6860671795641714 \t 0.9995524477964675\n",
      "CCP\t R2_score Test \t R2_Score Train\n",
      "0.00027930398975990934\t 0.6860671795641714 \t 0.9995524477945413\n",
      "CCP\t R2_score Test \t R2_Score Train\n",
      "0.00034951111317250223\t 0.6860671795641714 \t 0.9995524477921311\n",
      "CCP\t R2_score Test \t R2_Score Train\n",
      "0.0003495111143327878\t 0.6860671795641714 \t 0.999552447789721\n",
      "CCP\t R2_score Test \t R2_Score Train\n",
      "0.0003548267949527235\t 0.6860671795641714 \t 0.999552447787274\n",
      "CCP\t R2_score Test \t R2_Score Train\n",
      "0.00035482679533948533\t 0.6860671777118124 \t 0.9995524477848271\n",
      "CCP\t R2_score Test \t R2_Score Train\n",
      "0.0003915818942249737\t 0.6860671776726799 \t 0.9995524477821268\n",
      "CCP\t R2_score Test \t R2_Score Train\n",
      "0.00047572342016768217\t 0.6860671776726799 \t 0.9995524477788462\n",
      "CCP\t R2_score Test \t R2_Score Train\n",
      "0.00047572345729682134\t 0.6860671776726799 \t 0.9995524477755656\n",
      "CCP\t R2_score Test \t R2_Score Train\n",
      "0.0005135149474524926\t 0.6860671776726799 \t 0.9995524477720245\n",
      "CCP\t R2_score Test \t R2_Score Train\n",
      "0.0005135149679508717\t 0.6860671776726799 \t 0.9995524477684833\n",
      "CCP\t R2_score Test \t R2_Score Train\n",
      "0.0005797102453304684\t 0.6860671776726799 \t 0.9995524477644856\n",
      "CCP\t R2_score Test \t R2_Score Train\n",
      "0.0005865504159174389\t 0.6860671776726799 \t 0.9995524477604408\n",
      "CCP\t R2_score Test \t R2_Score Train\n",
      "0.0006213530888811892\t 0.6860671776726799 \t 0.9995524477561559\n",
      "CCP\t R2_score Test \t R2_Score Train\n",
      "0.0006939672936137728\t 0.6860671776726799 \t 0.9995524477513704\n",
      "CCP\t R2_score Test \t R2_Score Train\n",
      "0.0007241363173035094\t 0.6860671776726799 \t 0.9995524477463767\n",
      "CCP\t R2_score Test \t R2_Score Train\n",
      "0.0007863999994168449\t 0.6860671776726799 \t 0.9995524477409538\n",
      "CCP\t R2_score Test \t R2_Score Train\n",
      "0.0008079754900298641\t 0.6860671776726799 \t 0.999552447735382\n",
      "CCP\t R2_score Test \t R2_Score Train\n",
      "0.0008762049120525982\t 0.6860671776726799 \t 0.9995524477293397\n",
      "CCP\t R2_score Test \t R2_Score Train\n",
      "0.0009708642167506424\t 0.6860671776726799 \t 0.9995524477226446\n",
      "CCP\t R2_score Test \t R2_Score Train\n",
      "0.0012237903719266685\t 0.6860671404193546 \t 0.9995524477142054\n",
      "CCP\t R2_score Test \t R2_Score Train\n",
      "0.0012237903742472397\t 0.686067140395268 \t 0.9995524477057662\n",
      "CCP\t R2_score Test \t R2_Score Train\n",
      "0.0013560004210551315\t 0.686067140395268 \t 0.9995524476964153\n",
      "CCP\t R2_score Test \t R2_Score Train\n",
      "0.0013560004210551317\t 0.686067140395268 \t 0.9995524476870643\n",
      "CCP\t R2_score Test \t R2_Score Train\n",
      "0.001398044451529723\t 0.6860671914445464 \t 0.9995524476774235\n",
      "CCP\t R2_score Test \t R2_Score Train\n",
      "0.0013980444519164851\t 0.6860671914445464 \t 0.9995524476677825\n",
      "CCP\t R2_score Test \t R2_Score Train\n",
      "0.001414840670257646\t 0.6860644894014576 \t 0.9995524476580259\n",
      "CCP\t R2_score Test \t R2_Score Train\n",
      "0.0014193071767167988\t 0.6860644894014576 \t 0.9995524476482384\n",
      "CCP\t R2_score Test \t R2_Score Train\n",
      "0.0014193071805844175\t 0.6860644894014576 \t 0.9995524476384509\n",
      "CCP\t R2_score Test \t R2_Score Train\n",
      "0.0016293066779640424\t 0.6860644894014576 \t 0.9995524476272152\n",
      "CCP\t R2_score Test \t R2_Score Train\n",
      "0.001629306708904992\t 0.6860644894014576 \t 0.9995524476159795\n",
      "CCP\t R2_score Test \t R2_Score Train\n",
      "0.0016407605022365271\t 0.6860644894014576 \t 0.9995524476046649\n",
      "CCP\t R2_score Test \t R2_Score Train\n",
      "0.0017338351198035813\t 0.6860644894014576 \t 0.9995524475927083\n",
      "CCP\t R2_score Test \t R2_Score Train\n",
      "0.0017941196346995837\t 0.6860644894014576 \t 0.9995524475803362\n",
      "CCP\t R2_score Test \t R2_Score Train\n",
      "0.0018537889584354387\t 0.6860644894014576 \t 0.9995524475675525\n",
      "CCP\t R2_score Test \t R2_Score Train\n",
      "0.001961294846281261\t 0.6860645288817896 \t 0.9995524475540275\n",
      "CCP\t R2_score Test \t R2_Score Train\n",
      "0.002513735917121469\t 0.6860645288817896 \t 0.9995524475366928\n",
      "CCP\t R2_score Test \t R2_Score Train\n",
      "0.002599669434749011\t 0.6860645288817896 \t 0.9995524475187656\n",
      "CCP\t R2_score Test \t R2_Score Train\n",
      "0.0026286148336217845\t 0.6860645288817896 \t 0.9995524475006387\n",
      "CCP\t R2_score Test \t R2_Score Train\n",
      "0.0027164940879312017\t 0.6860645288817896 \t 0.9995524474819059\n",
      "CCP\t R2_score Test \t R2_Score Train\n",
      "0.0031456000162319486\t 0.6860645288817896 \t 0.9995524474602139\n",
      "CCP\t R2_score Test \t R2_Score Train\n",
      "0.003339130969786169\t 0.6860645288817896 \t 0.9995524474371873\n",
      "CCP\t R2_score Test \t R2_Score Train\n",
      "0.0035048195491993546\t 0.6860645288817896 \t 0.9995524474130182\n",
      "CCP\t R2_score Test \t R2_Score Train\n",
      "0.00383610652134664\t 0.6860645288817896 \t 0.9995524473865645\n",
      "CCP\t R2_score Test \t R2_Score Train\n",
      "0.0038834568113088608\t 0.6860645288817896 \t 0.9995524473597842\n",
      "CCP\t R2_score Test \t R2_Score Train\n",
      "0.004186569728526562\t 0.686066082461184 \t 0.9995524473309138\n",
      "CCP\t R2_score Test \t R2_Score Train\n",
      "0.004194133379728691\t 0.686066082461184 \t 0.9995524473019911\n",
      "CCP\t R2_score Test \t R2_Score Train\n",
      "0.004463093500333742\t 0.686066082461184 \t 0.9995524472712137\n",
      "CCP\t R2_score Test \t R2_Score Train\n",
      "0.004660228372511278\t 0.686066082461184 \t 0.999552447239077\n",
      "CCP\t R2_score Test \t R2_Score Train\n",
      "0.004698982743849588\t 0.686066082461184 \t 0.9995524472066729\n",
      "CCP\t R2_score Test \t R2_Score Train\n",
      "0.00471791862649379\t 0.686066082461184 \t 0.9995524471741383\n",
      "CCP\t R2_score Test \t R2_Score Train\n",
      "0.0047629580297739406\t 0.6860660722539038 \t 0.999552447141293\n",
      "CCP\t R2_score Test \t R2_Score Train\n",
      "0.005424001671844147\t 0.6860660722539038 \t 0.9995524471038892\n",
      "CCP\t R2_score Test \t R2_Score Train\n",
      "0.005520205177440991\t 0.6860660722539038 \t 0.999552447065822\n",
      "CCP\t R2_score Test \t R2_Score Train\n",
      "0.00597996183630834\t 0.6860660722539038 \t 0.9995524470245843\n",
      "CCP\t R2_score Test \t R2_Score Train\n",
      "0.006162179400370862\t 0.6860660722539038 \t 0.9995524469820901\n",
      "CCP\t R2_score Test \t R2_Score Train\n",
      "0.006517226847996347\t 0.6860660722539038 \t 0.9995524469371475\n",
      "CCP\t R2_score Test \t R2_Score Train\n",
      "0.0069589500046301125\t 0.6860660722539038 \t 0.9995524468891588\n",
      "CCP\t R2_score Test \t R2_Score Train\n",
      "0.007415155877059085\t 0.6860660722539038 \t 0.999552446838024\n",
      "CCP\t R2_score Test \t R2_Score Train\n",
      "0.007712593345448028\t 0.6860660722539038 \t 0.9995524467848382\n",
      "CCP\t R2_score Test \t R2_Score Train\n",
      "0.009384806660867212\t 0.6860660722539038 \t 0.9995524467201209\n",
      "CCP\t R2_score Test \t R2_Score Train\n",
      "0.011014113369772205\t 0.6860660722539038 \t 0.9995524466441678\n",
      "CCP\t R2_score Test \t R2_Score Train\n",
      "0.011223190163952172\t 0.6860660722539038 \t 0.999552446566773\n",
      "CCP\t R2_score Test \t R2_Score Train\n",
      "0.01147451829876862\t 0.6860660722539038 \t 0.999552446487645\n",
      "CCP\t R2_score Test \t R2_Score Train\n",
      "0.011586181063319486\t 0.6860660720233311 \t 0.999552446407747\n",
      "CCP\t R2_score Test \t R2_Score Train\n",
      "0.011893086482312815\t 0.6860660707332265 \t 0.9995524463257326\n",
      "CCP\t R2_score Test \t R2_Score Train\n",
      "0.012079155480990379\t 0.6860660707332265 \t 0.999552446242435\n",
      "CCP\t R2_score Test \t R2_Score Train\n",
      "0.012204003739990666\t 0.6860662502275251 \t 0.9995524461582765\n",
      "CCP\t R2_score Test \t R2_Score Train\n",
      "0.013142800026656782\t 0.6860662502275251 \t 0.9995524460676442\n",
      "CCP\t R2_score Test \t R2_Score Train\n",
      "0.015322724431505631\t 0.6860662502275251 \t 0.999552445961979\n",
      "CCP\t R2_score Test \t R2_Score Train\n",
      "0.015533827242141349\t 0.6860662502275251 \t 0.9995524458548581\n",
      "CCP\t R2_score Test \t R2_Score Train\n",
      "0.015540299670456715\t 0.6860662502741097 \t 0.9995524457476926\n",
      "CCP\t R2_score Test \t R2_Score Train\n",
      "0.0195014523806366\t 0.6860662502741097 \t 0.9995524456132111\n",
      "CCP\t R2_score Test \t R2_Score Train\n",
      "0.019742950846586515\t 0.6860662502741097 \t 0.9995524454770642\n",
      "CCP\t R2_score Test \t R2_Score Train\n",
      "0.02001170450171759\t 0.6860662502741097 \t 0.9995524453390641\n",
      "CCP\t R2_score Test \t R2_Score Train\n",
      "0.02111581498695123\t 0.6860662502741097 \t 0.99955244519345\n",
      "CCP\t R2_score Test \t R2_Score Train\n",
      "0.02144639020742372\t 0.6860662502741097 \t 0.9995524450455562\n",
      "CCP\t R2_score Test \t R2_Score Train\n",
      "0.023483760809631046\t 0.6860663854255209 \t 0.9995524448836128\n",
      "CCP\t R2_score Test \t R2_Score Train\n",
      "0.023570657141531424\t 0.6860663854255209 \t 0.9995524447210702\n",
      "CCP\t R2_score Test \t R2_Score Train\n",
      "0.02427160506449219\t 0.6860663854255209 \t 0.9995524445536939\n",
      "CCP\t R2_score Test \t R2_Score Train\n",
      "0.025207185177163426\t 0.6860663854255209 \t 0.9995524443798658\n"
     ]
    },
    {
     "name": "stdout",
     "output_type": "stream",
     "text": [
      "CCP\t R2_score Test \t R2_Score Train\n",
      "0.025718362562581157\t 0.6860663854255209 \t 0.9995524442025125\n",
      "CCP\t R2_score Test \t R2_Score Train\n",
      "0.032557156145807814\t 0.6860663854255209 \t 0.9995524439779992\n",
      "CCP\t R2_score Test \t R2_Score Train\n",
      "0.03301261911212012\t 0.6860663854255209 \t 0.9995524437503451\n",
      "CCP\t R2_score Test \t R2_Score Train\n",
      "0.03396833256085054\t 0.6860663854255209 \t 0.9995524435161004\n",
      "CCP\t R2_score Test \t R2_Score Train\n",
      "0.034358931235053215\t 0.6860663854255209 \t 0.9995524432791622\n",
      "CCP\t R2_score Test \t R2_Score Train\n",
      "0.03484527907176469\t 0.6860663854255209 \t 0.9995524430388699\n",
      "CCP\t R2_score Test \t R2_Score Train\n",
      "0.03612585698078043\t 0.6860663854255209 \t 0.999552442789747\n",
      "CCP\t R2_score Test \t R2_Score Train\n",
      "0.040732667796883074\t 0.6860663854255209 \t 0.9995524425088556\n",
      "CCP\t R2_score Test \t R2_Score Train\n",
      "0.04757234592770421\t 0.6860663854255209 \t 0.999552442180798\n",
      "CCP\t R2_score Test \t R2_Score Train\n",
      "0.051714195037551494\t 0.6860663854255209 \t 0.9995524418241782\n",
      "CCP\t R2_score Test \t R2_Score Train\n",
      "0.05197295508745043\t 0.6860663854255209 \t 0.999552441465774\n",
      "CCP\t R2_score Test \t R2_Score Train\n",
      "0.0526953649233742\t 0.6860665029096131 \t 0.9995524411023882\n",
      "CCP\t R2_score Test \t R2_Score Train\n",
      "0.0531645237369172\t 0.6860665029096131 \t 0.999552440735767\n",
      "CCP\t R2_score Test \t R2_Score Train\n",
      "0.05945756920517432\t 0.6860665029096131 \t 0.9995524403257492\n",
      "CCP\t R2_score Test \t R2_Score Train\n",
      "0.059640804658399466\t 0.6860665029096131 \t 0.9995524399144677\n",
      "CCP\t R2_score Test \t R2_Score Train\n",
      "0.06221887548500517\t 0.6860665029096131 \t 0.999552439485408\n",
      "CCP\t R2_score Test \t R2_Score Train\n",
      "0.06499173587800755\t 0.6860668450097471 \t 0.9995524390372267\n",
      "CCP\t R2_score Test \t R2_Score Train\n",
      "0.06857887039152888\t 0.6860668450097471 \t 0.9995524385643085\n",
      "CCP\t R2_score Test \t R2_Score Train\n",
      "0.07079897481643369\t 0.6860668466324248 \t 0.9995524380760807\n",
      "CCP\t R2_score Test \t R2_Score Train\n",
      "0.07190381834574316\t 0.6860668466324248 \t 0.9995524375802338\n",
      "CCP\t R2_score Test \t R2_Score Train\n",
      "0.0843282799388087\t 0.6860668466324248 \t 0.9995524369987082\n",
      "CCP\t R2_score Test \t R2_Score Train\n",
      "0.0907767073706139\t 0.6860668466324248 \t 0.9995524363727144\n",
      "CCP\t R2_score Test \t R2_Score Train\n",
      "0.09893078621835805\t 0.6860668466324248 \t 0.9995524356904902\n",
      "CCP\t R2_score Test \t R2_Score Train\n",
      "0.1006282429486216\t 0.6860668466324248 \t 0.9995524349965605\n",
      "CCP\t R2_score Test \t R2_Score Train\n",
      "0.11534837591871805\t 0.6860668453989275 \t 0.9995524342011212\n",
      "CCP\t R2_score Test \t R2_Score Train\n",
      "0.122707188649233\t 0.686066850807607 \t 0.9995524333549356\n",
      "CCP\t R2_score Test \t R2_Score Train\n",
      "0.12510807393892262\t 0.6860520003864357 \t 0.9995524324921936\n",
      "CCP\t R2_score Test \t R2_Score Train\n",
      "0.12843622532100774\t 0.6860520003864357 \t 0.9995524316065008\n",
      "CCP\t R2_score Test \t R2_Score Train\n",
      "0.13757450652751216\t 0.6860520003864357 \t 0.9995524306577905\n",
      "CCP\t R2_score Test \t R2_Score Train\n",
      "0.13840665784277692\t 0.6860520003864357 \t 0.9995524297033418\n",
      "CCP\t R2_score Test \t R2_Score Train\n",
      "0.15158722705619282\t 0.6860520003864357 \t 0.9995524286580002\n",
      "CCP\t R2_score Test \t R2_Score Train\n",
      "0.18489137875454567\t 0.6860625174971776 \t 0.9995524273829941\n",
      "CCP\t R2_score Test \t R2_Score Train\n",
      "0.19954300335178343\t 0.6860625174971776 \t 0.9995524260069508\n",
      "CCP\t R2_score Test \t R2_Score Train\n",
      "0.22851189876909667\t 0.6860625174971776 \t 0.9995524244311387\n",
      "CCP\t R2_score Test \t R2_Score Train\n",
      "0.24684952506393293\t 0.6860625174971776 \t 0.9995524227288708\n",
      "CCP\t R2_score Test \t R2_Score Train\n",
      "0.25066399836659037\t 0.6860625174971776 \t 0.9995524210002984\n",
      "CCP\t R2_score Test \t R2_Score Train\n",
      "0.27821860281731997\t 0.6860625174971776 \t 0.9995524190817102\n",
      "CCP\t R2_score Test \t R2_Score Train\n",
      "0.32156479051893583\t 0.6860625174971776 \t 0.9995524168642078\n",
      "CCP\t R2_score Test \t R2_Score Train\n",
      "0.32228281598946584\t 0.6860625174971776 \t 0.9995524146417539\n",
      "CCP\t R2_score Test \t R2_Score Train\n",
      "0.3474579589360972\t 0.6860626522257541 \t 0.9995524122456929\n",
      "CCP\t R2_score Test \t R2_Score Train\n",
      "0.4059542124453573\t 0.6860626522257541 \t 0.9995524094462432\n",
      "CCP\t R2_score Test \t R2_Score Train\n",
      "0.4360894804381057\t 0.6860626522257541 \t 0.9995524064389816\n",
      "CCP\t R2_score Test \t R2_Score Train\n",
      "0.45183422854572436\t 0.6860626522257541 \t 0.9995524033231444\n",
      "CCP\t R2_score Test \t R2_Score Train\n",
      "0.6033351244869026\t 0.686062165951765 \t 0.9995523991625612\n",
      "CCP\t R2_score Test \t R2_Score Train\n",
      "0.6116206876754117\t 0.686062165951765 \t 0.9995523949448409\n",
      "CCP\t R2_score Test \t R2_Score Train\n",
      "0.6431862177246829\t 0.686062165951765 \t 0.9995523905094456\n",
      "CCP\t R2_score Test \t R2_Score Train\n",
      "0.8312907528342599\t 0.6860627057777343 \t 0.9995523847768861\n",
      "CCP\t R2_score Test \t R2_Score Train\n",
      "0.871641791184306\t 0.6860627057777343 \t 0.9995523787660671\n",
      "CCP\t R2_score Test \t R2_Score Train\n",
      "0.9495864453512024\t 0.6860627057777343 \t 0.9995523722177437\n",
      "CCP\t R2_score Test \t R2_Score Train\n",
      "0.9896146564827953\t 0.6860628057924716 \t 0.9995523653933869\n",
      "CCP\t R2_score Test \t R2_Score Train\n",
      "1.0201209794074\t 0.6860628057924716 \t 0.9995523583586593\n",
      "CCP\t R2_score Test \t R2_Score Train\n",
      "1.0261006929116492\t 0.6860628057924716 \t 0.9995523512826956\n",
      "CCP\t R2_score Test \t R2_Score Train\n",
      "1.3235931015539406\t 0.6860628057924716 \t 0.9995523421552321\n",
      "CCP\t R2_score Test \t R2_Score Train\n",
      "1.3985519202664323\t 0.6860628057924716 \t 0.9995523325108546\n",
      "CCP\t R2_score Test \t R2_Score Train\n",
      "1.5517986205675673\t 0.6860629434206452 \t 0.9995523218096918\n",
      "CCP\t R2_score Test \t R2_Score Train\n",
      "1.5792266578101044\t 0.6860629434206452 \t 0.9995523109193859\n",
      "CCP\t R2_score Test \t R2_Score Train\n",
      "1.6924625583715502\t 0.6860648622369934 \t 0.9995522992482083\n",
      "CCP\t R2_score Test \t R2_Score Train\n",
      "1.7141249012511435\t 0.6860648622369934 \t 0.9995522874276477\n",
      "CCP\t R2_score Test \t R2_Score Train\n",
      "1.7886031146325245\t 0.6860648622369934 \t 0.9995522750934873\n",
      "CCP\t R2_score Test \t R2_Score Train\n",
      "1.8717171088084608\t 0.6860648622369934 \t 0.9995522621861749\n",
      "CCP\t R2_score Test \t R2_Score Train\n",
      "1.9231476019634757\t 0.6860661424014713 \t 0.9995522489241992\n",
      "CCP\t R2_score Test \t R2_Score Train\n",
      "1.9418443359706885\t 0.6860661424014713 \t 0.9995522355332913\n",
      "CCP\t R2_score Test \t R2_Score Train\n",
      "2.030348459945565\t 0.6860666074463495 \t 0.9995522215320614\n",
      "CCP\t R2_score Test \t R2_Score Train\n",
      "2.0589135491793535\t 0.6860377398980951 \t 0.9995522073338472\n",
      "CCP\t R2_score Test \t R2_Score Train\n",
      "2.1384867408198374\t 0.6860377398980951 \t 0.9995521925868984\n",
      "CCP\t R2_score Test \t R2_Score Train\n",
      "2.243614935300675\t 0.6860377398980951 \t 0.9995521771149883\n",
      "CCP\t R2_score Test \t R2_Score Train\n",
      "2.2972145712751884\t 0.6860377398980951 \t 0.9995521612734566\n",
      "CCP\t R2_score Test \t R2_Score Train\n",
      "2.357879236297979\t 0.6860377398980951 \t 0.9995521450135829\n",
      "CCP\t R2_score Test \t R2_Score Train\n",
      "2.3993812817956424\t 0.6860377398980951 \t 0.9995521284675122\n",
      "CCP\t R2_score Test \t R2_Score Train\n",
      "2.47483809389471\t 0.6860377398980951 \t 0.9995521114010932\n",
      "CCP\t R2_score Test \t R2_Score Train\n",
      "2.5496938274152257\t 0.6860326440305717 \t 0.9995520938184712\n",
      "CCP\t R2_score Test \t R2_Score Train\n",
      "2.614991116687111\t 0.6860326440305717 \t 0.9995520757855606\n",
      "CCP\t R2_score Test \t R2_Score Train\n",
      "3.1513055411548017\t 0.6860326440305717 \t 0.9995520540542399\n",
      "CCP\t R2_score Test \t R2_Score Train\n",
      "3.199912726483076\t 0.6860326440305717 \t 0.9995520319877251\n",
      "CCP\t R2_score Test \t R2_Score Train\n",
      "3.471944151402906\t 0.6860326440305717 \t 0.9995520080452889\n",
      "CCP\t R2_score Test \t R2_Score Train\n",
      "3.4871341538835208\t 0.6860326440305717 \t 0.9995519839981027\n",
      "CCP\t R2_score Test \t R2_Score Train\n",
      "3.5430941603949413\t 0.6860337688253787 \t 0.9995519595650179\n",
      "CCP\t R2_score Test \t R2_Score Train\n",
      "3.562058284433181\t 0.6860337688253787 \t 0.9995519350011568\n",
      "CCP\t R2_score Test \t R2_Score Train\n",
      "3.630347177711164\t 0.6860337688253787 \t 0.9995519099663774\n",
      "CCP\t R2_score Test \t R2_Score Train\n",
      "3.631011168153777\t 0.6860337688253787 \t 0.9995518849270191\n",
      "CCP\t R2_score Test \t R2_Score Train\n",
      "3.6330345775375137\t 0.6860337688253787 \t 0.9995518598737074\n",
      "CCP\t R2_score Test \t R2_Score Train\n",
      "3.6667226775985617\t 0.6860302626700042 \t 0.9995518345880835\n",
      "CCP\t R2_score Test \t R2_Score Train\n",
      "3.696741142344237\t 0.6860369203722922 \t 0.999551809095453\n",
      "CCP\t R2_score Test \t R2_Score Train\n",
      "3.762807729836566\t 0.6860369203722922 \t 0.9995517831472291\n",
      "CCP\t R2_score Test \t R2_Score Train\n",
      "3.793089160502678\t 0.6860369203722922 \t 0.9995517569901852\n",
      "CCP\t R2_score Test \t R2_Score Train\n",
      "3.8696022790135736\t 0.6860385401583026 \t 0.9995517303055088\n",
      "CCP\t R2_score Test \t R2_Score Train\n",
      "3.8723888358416843\t 0.6860385401583026 \t 0.9995517036016165\n",
      "CCP\t R2_score Test \t R2_Score Train\n",
      "3.896300327144192\t 0.6860385401583026 \t 0.9995516767328311\n",
      "CCP\t R2_score Test \t R2_Score Train\n",
      "3.908306490382384\t 0.6860385401583026 \t 0.9995516497812514\n",
      "CCP\t R2_score Test \t R2_Score Train\n",
      "3.9419498275284752\t 0.6860385401583026 \t 0.9995516225976683\n",
      "CCP\t R2_score Test \t R2_Score Train\n",
      "3.946231671618267\t 0.6860385401583026 \t 0.9995515953845576\n",
      "CCP\t R2_score Test \t R2_Score Train\n",
      "4.213128480019877\t 0.6860408665545927 \t 0.9995515663309336\n",
      "CCP\t R2_score Test \t R2_Score Train\n",
      "4.368370225114679\t 0.6860408665545927 \t 0.9995515362067664\n",
      "CCP\t R2_score Test \t R2_Score Train\n",
      "4.44127055363841\t 0.6860408665545927 \t 0.9995515055798806\n"
     ]
    },
    {
     "name": "stdout",
     "output_type": "stream",
     "text": [
      "CCP\t R2_score Test \t R2_Score Train\n",
      "4.592635912133808\t 0.6860408665545927 \t 0.9995514739091831\n",
      "CCP\t R2_score Test \t R2_Score Train\n",
      "4.649606898884936\t 0.6860405887076115 \t 0.9995514418456153\n",
      "CCP\t R2_score Test \t R2_Score Train\n",
      "4.715806608233737\t 0.6860405887076115 \t 0.9995514093255359\n",
      "CCP\t R2_score Test \t R2_Score Train\n",
      "4.74784743476758\t 0.6860405887076115 \t 0.9995513765845039\n",
      "CCP\t R2_score Test \t R2_Score Train\n",
      "4.793010865817731\t 0.6860405887076115 \t 0.999551343532026\n",
      "CCP\t R2_score Test \t R2_Score Train\n",
      "4.794001951962215\t 0.6860405887076115 \t 0.9995513104727136\n",
      "CCP\t R2_score Test \t R2_Score Train\n",
      "4.8004554518284985\t 0.6860405887076115 \t 0.999551277368898\n",
      "CCP\t R2_score Test \t R2_Score Train\n",
      "4.819664825583217\t 0.6860405887076115 \t 0.9995512441326151\n",
      "CCP\t R2_score Test \t R2_Score Train\n",
      "4.846387290621665\t 0.6860405887076115 \t 0.9995512107120548\n",
      "CCP\t R2_score Test \t R2_Score Train\n",
      "4.883353121393048\t 0.6860405887076115 \t 0.9995511770365791\n",
      "CCP\t R2_score Test \t R2_Score Train\n",
      "4.92011104608295\t 0.6860405887076115 \t 0.9995511431076217\n",
      "CCP\t R2_score Test \t R2_Score Train\n",
      "4.977311792217219\t 0.6860405887076115 \t 0.9995511087842094\n",
      "CCP\t R2_score Test \t R2_Score Train\n",
      "5.010295950171794\t 0.6860405887076115 \t 0.9995510742333392\n",
      "CCP\t R2_score Test \t R2_Score Train\n",
      "5.01315182820736\t 0.6860405887076115 \t 0.999551039662775\n",
      "CCP\t R2_score Test \t R2_Score Train\n",
      "5.092384425248715\t 0.6860438359111146 \t 0.9995510045458249\n",
      "CCP\t R2_score Test \t R2_Score Train\n",
      "5.115634192065939\t 0.6860438359111146 \t 0.9995509692685449\n",
      "CCP\t R2_score Test \t R2_Score Train\n",
      "5.172317044407229\t 0.6860438359111146 \t 0.9995509336003816\n",
      "CCP\t R2_score Test \t R2_Score Train\n",
      "5.20522405443546\t 0.6860438359111146 \t 0.9995508977052923\n",
      "CCP\t R2_score Test \t R2_Score Train\n",
      "5.217510207324131\t 0.6860438359111146 \t 0.999550861725478\n",
      "CCP\t R2_score Test \t R2_Score Train\n",
      "5.423957557290595\t 0.6860438359111146 \t 0.9995508243220081\n",
      "CCP\t R2_score Test \t R2_Score Train\n",
      "5.466147911150094\t 0.6860438359111146 \t 0.9995507866275948\n",
      "CCP\t R2_score Test \t R2_Score Train\n",
      "5.83169972000526\t 0.6860438359111146 \t 0.9995507464123456\n",
      "CCP\t R2_score Test \t R2_Score Train\n",
      "6.093839093937966\t 0.6860458275762927 \t 0.9995507043893902\n",
      "CCP\t R2_score Test \t R2_Score Train\n",
      "6.228932023351622\t 0.6860458275762927 \t 0.9995506614348375\n",
      "CCP\t R2_score Test \t R2_Score Train\n",
      "6.560845752335633\t 0.6860458275762927 \t 0.9995506161914164\n",
      "CCP\t R2_score Test \t R2_Score Train\n",
      "6.615039279084944\t 0.6860456701677449 \t 0.9995505705742781\n",
      "CCP\t R2_score Test \t R2_Score Train\n",
      "6.761226401239652\t 0.6860456701677449 \t 0.9995505239490372\n",
      "CCP\t R2_score Test \t R2_Score Train\n",
      "6.998769796778297\t 0.6860506339730239 \t 0.9995504756857033\n",
      "CCP\t R2_score Test \t R2_Score Train\n",
      "7.042879504594098\t 0.6860506339730239 \t 0.99955042711819\n",
      "CCP\t R2_score Test \t R2_Score Train\n",
      "7.113501927325737\t 0.6860506339730239 \t 0.9995503780636662\n",
      "CCP\t R2_score Test \t R2_Score Train\n",
      "7.134738518729607\t 0.6860506339730239 \t 0.9995503288626956\n",
      "CCP\t R2_score Test \t R2_Score Train\n",
      "7.1589034950187385\t 0.6860506339730239 \t 0.9995502794950838\n",
      "CCP\t R2_score Test \t R2_Score Train\n",
      "7.237267342157835\t 0.6860506339730239 \t 0.9995502295870771\n",
      "CCP\t R2_score Test \t R2_Score Train\n",
      "7.267956565644753\t 0.6860506339730239 \t 0.9995501794674382\n",
      "CCP\t R2_score Test \t R2_Score Train\n",
      "7.597629469420228\t 0.6860506339730239 \t 0.9995501270743835\n",
      "CCP\t R2_score Test \t R2_Score Train\n",
      "7.837282502373983\t 0.6860506339730239 \t 0.9995500730286879\n",
      "CCP\t R2_score Test \t R2_Score Train\n",
      "7.839463140964012\t 0.6860506339730239 \t 0.9995500189679546\n",
      "CCP\t R2_score Test \t R2_Score Train\n",
      "8.098426339312448\t 0.6860506339730239 \t 0.9995499631214179\n",
      "CCP\t R2_score Test \t R2_Score Train\n",
      "8.636771638334675\t 0.6860506339730239 \t 0.9995499035624659\n",
      "CCP\t R2_score Test \t R2_Score Train\n",
      "8.962480048998646\t 0.6860506339730239 \t 0.9995498417574373\n",
      "CCP\t R2_score Test \t R2_Score Train\n",
      "9.03995593619901\t 0.6860556557804556 \t 0.999549779418137\n",
      "CCP\t R2_score Test \t R2_Score Train\n",
      "9.107036860653531\t 0.6860538191408175 \t 0.9995497166162485\n",
      "CCP\t R2_score Test \t R2_Score Train\n",
      "9.201528482374263\t 0.6860538191408175 \t 0.9995495897092477\n",
      "CCP\t R2_score Test \t R2_Score Train\n",
      "9.262917894776447\t 0.6860538191408175 \t 0.9995495258324075\n",
      "CCP\t R2_score Test \t R2_Score Train\n",
      "9.49463289589977\t 0.6860538191408175 \t 0.9995494603576668\n",
      "CCP\t R2_score Test \t R2_Score Train\n",
      "9.570200102150045\t 0.6860538191408175 \t 0.9995493283659663\n",
      "CCP\t R2_score Test \t R2_Score Train\n",
      "9.784549943372559\t 0.6860538191408175 \t 0.9995492608919652\n",
      "CCP\t R2_score Test \t R2_Score Train\n",
      "9.87063821392796\t 0.6860538191408175 \t 0.9995491928243015\n",
      "CCP\t R2_score Test \t R2_Score Train\n",
      "10.266486640267717\t 0.6860538191408175 \t 0.9995491220268775\n",
      "CCP\t R2_score Test \t R2_Score Train\n",
      "10.421651086879837\t 0.6861357138022617 \t 0.9995490501594435\n",
      "CCP\t R2_score Test \t R2_Score Train\n",
      "10.788972868277781\t 0.6861328359401303 \t 0.9995489757589682\n",
      "CCP\t R2_score Test \t R2_Score Train\n",
      "10.833752474818375\t 0.6861328359401303 \t 0.9995489010496937\n",
      "CCP\t R2_score Test \t R2_Score Train\n",
      "10.946961180316254\t 0.6861328359401303 \t 0.999548825559735\n",
      "CCP\t R2_score Test \t R2_Score Train\n",
      "11.040827834526963\t 0.6861328359401303 \t 0.9995487494224743\n",
      "CCP\t R2_score Test \t R2_Score Train\n",
      "11.046625981749767\t 0.6861328359401303 \t 0.9995486732452297\n",
      "CCP\t R2_score Test \t R2_Score Train\n",
      "11.257656575152744\t 0.6861328359401303 \t 0.9995485956127237\n",
      "CCP\t R2_score Test \t R2_Score Train\n",
      "11.262418068595775\t 0.6861328359401303 \t 0.9995484402820413\n",
      "CCP\t R2_score Test \t R2_Score Train\n",
      "11.301864837378302\t 0.6861328359401303 \t 0.9995482844073111\n",
      "CCP\t R2_score Test \t R2_Score Train\n",
      "11.429314437325413\t 0.6861328359401303 \t 0.999548205591057\n",
      "CCP\t R2_score Test \t R2_Score Train\n",
      "11.480902070618944\t 0.6861328359401303 \t 0.9995481264190558\n",
      "CCP\t R2_score Test \t R2_Score Train\n",
      "11.65241546241839\t 0.6861357302824326 \t 0.9995480460643028\n",
      "CCP\t R2_score Test \t R2_Score Train\n",
      "12.01903452201007\t 0.6861357302824326 \t 0.9995479631813543\n",
      "CCP\t R2_score Test \t R2_Score Train\n",
      "12.160250531676601\t 0.6861357302824326 \t 0.9995478793245839\n",
      "CCP\t R2_score Test \t R2_Score Train\n",
      "12.214296947864574\t 0.6861357302824326 \t 0.9995477950951107\n",
      "CCP\t R2_score Test \t R2_Score Train\n",
      "12.355162151801427\t 0.6861357302824326 \t 0.9995477098942349\n",
      "CCP\t R2_score Test \t R2_Score Train\n",
      "12.443704686786646\t 0.6861357302824326 \t 0.999547624082772\n",
      "CCP\t R2_score Test \t R2_Score Train\n",
      "12.636135560932239\t 0.6861357302824326 \t 0.9995475369443109\n",
      "CCP\t R2_score Test \t R2_Score Train\n",
      "12.75675182270375\t 0.6861357302824326 \t 0.9995474489740831\n",
      "CCP\t R2_score Test \t R2_Score Train\n",
      "13.1981150091601\t 0.6861357302824326 \t 0.9995473579602263\n",
      "CCP\t R2_score Test \t R2_Score Train\n",
      "13.743307805239564\t 0.6861357302824326 \t 0.9995472631867341\n",
      "CCP\t R2_score Test \t R2_Score Train\n",
      "13.775744423270226\t 0.6861376695910135 \t 0.99954716818956\n",
      "CCP\t R2_score Test \t R2_Score Train\n",
      "13.795401697214135\t 0.6861376695910135 \t 0.9995470730568299\n",
      "CCP\t R2_score Test \t R2_Score Train\n",
      "13.814542267403482\t 0.6861376695910135 \t 0.9995469777921068\n",
      "CCP\t R2_score Test \t R2_Score Train\n",
      "13.939085477833139\t 0.6861376695910135 \t 0.999546881668537\n",
      "CCP\t R2_score Test \t R2_Score Train\n",
      "14.440603909896458\t 0.6861376695910135 \t 0.9995467820865092\n",
      "CCP\t R2_score Test \t R2_Score Train\n",
      "14.471281670934314\t 0.6861376695910135 \t 0.9995466822929282\n",
      "CCP\t R2_score Test \t R2_Score Train\n",
      "14.778424231595425\t 0.6861376695910135 \t 0.9995465803813003\n",
      "CCP\t R2_score Test \t R2_Score Train\n",
      "14.816224115877489\t 0.6861376695910135 \t 0.9995464782090053\n",
      "CCP\t R2_score Test \t R2_Score Train\n",
      "14.839969727260206\t 0.6861376695910135 \t 0.9995463758729612\n",
      "CCP\t R2_score Test \t R2_Score Train\n",
      "14.889869089835507\t 0.6861376695910135 \t 0.9995462731928124\n",
      "CCP\t R2_score Test \t R2_Score Train\n",
      "15.039268412116755\t 0.6861376695910135 \t 0.9995461694824098\n",
      "CCP\t R2_score Test \t R2_Score Train\n",
      "15.237102483983996\t 0.6861376695910135 \t 0.9995460644077486\n",
      "CCP\t R2_score Test \t R2_Score Train\n",
      "15.32125163167418\t 0.686133766119138 \t 0.9995459587527971\n",
      "CCP\t R2_score Test \t R2_Score Train\n",
      "15.669650582208352\t 0.686133766119138 \t 0.9995458506952954\n",
      "CCP\t R2_score Test \t R2_Score Train\n",
      "15.677374348609066\t 0.6861333409673983 \t 0.999545742584531\n",
      "CCP\t R2_score Test \t R2_Score Train\n",
      "15.917022603678447\t 0.6861363065486072 \t 0.9995456328211583\n",
      "CCP\t R2_score Test \t R2_Score Train\n",
      "16.021485090350108\t 0.6861426309756009 \t 0.9995455223374151\n",
      "CCP\t R2_score Test \t R2_Score Train\n",
      "16.06628122079833\t 0.6861426309756009 \t 0.999545411544759\n",
      "CCP\t R2_score Test \t R2_Score Train\n",
      "16.283896748572154\t 0.6861426309756009 \t 0.9995452992514318\n",
      "CCP\t R2_score Test \t R2_Score Train\n",
      "16.298057859348894\t 0.6861426309756009 \t 0.99954518686045\n",
      "CCP\t R2_score Test \t R2_Score Train\n",
      "16.305621964987708\t 0.6861426309756009 \t 0.9995450744173063\n",
      "CCP\t R2_score Test \t R2_Score Train\n",
      "16.392667657909204\t 0.6861385781636611 \t 0.9995449613738978\n",
      "CCP\t R2_score Test \t R2_Score Train\n",
      "16.392667657921578\t 0.6861385781636611 \t 0.9995448483304893\n",
      "CCP\t R2_score Test \t R2_Score Train\n",
      "16.55632462350039\t 0.6861385781636611 \t 0.9995447341585066\n",
      "CCP\t R2_score Test \t R2_Score Train\n",
      "16.677166501177705\t 0.6861385781636611 \t 0.9995446191532015\n",
      "CCP\t R2_score Test \t R2_Score Train\n",
      "16.67716650125196\t 0.6861385781636611 \t 0.9995445041478964\n"
     ]
    },
    {
     "name": "stdout",
     "output_type": "stream",
     "text": [
      "CCP\t R2_score Test \t R2_Score Train\n",
      "16.809299174999428\t 0.6861481130432652 \t 0.9995443882314078\n",
      "CCP\t R2_score Test \t R2_Score Train\n",
      "16.919808011502028\t 0.6861481130432652 \t 0.9995442715528532\n",
      "CCP\t R2_score Test \t R2_Score Train\n",
      "16.964473842813376\t 0.6861481130432652 \t 0.9995441545662841\n",
      "CCP\t R2_score Test \t R2_Score Train\n",
      "16.97239674086701\t 0.6861481130432652 \t 0.999544037525079\n",
      "CCP\t R2_score Test \t R2_Score Train\n",
      "17.012312210625982\t 0.6861481130432652 \t 0.9995438028921566\n",
      "CCP\t R2_score Test \t R2_Score Train\n",
      "17.01535122754962\t 0.6861495981744665 \t 0.9995436855547385\n",
      "CCP\t R2_score Test \t R2_Score Train\n",
      "17.154688279098053\t 0.6861495981744665 \t 0.9995435672564557\n",
      "CCP\t R2_score Test \t R2_Score Train\n",
      "17.18650645718127\t 0.6861495981744665 \t 0.9995434487387554\n",
      "CCP\t R2_score Test \t R2_Score Train\n",
      "17.331204674557856\t 0.6861495981744665 \t 0.9995433292232202\n",
      "CCP\t R2_score Test \t R2_Score Train\n",
      "17.387898909076554\t 0.6861495981744665 \t 0.9995432093167229\n",
      "CCP\t R2_score Test \t R2_Score Train\n",
      "17.432812097265796\t 0.6861495981744665 \t 0.9995430891005055\n",
      "CCP\t R2_score Test \t R2_Score Train\n",
      "17.45428575823653\t 0.6861495981744665 \t 0.9995429687362063\n",
      "CCP\t R2_score Test \t R2_Score Train\n",
      "17.781431321815845\t 0.6861495981744665 \t 0.9995428461159198\n",
      "CCP\t R2_score Test \t R2_Score Train\n",
      "18.155844921128594\t 0.6861495981744665 \t 0.9995427209136869\n",
      "CCP\t R2_score Test \t R2_Score Train\n",
      "18.200843794797347\t 0.6861495981744665 \t 0.9995425954011429\n",
      "CCP\t R2_score Test \t R2_Score Train\n",
      "18.714173995097635\t 0.6861495981744665 \t 0.9995424663486873\n",
      "CCP\t R2_score Test \t R2_Score Train\n",
      "19.305008445789053\t 0.6861479241684627 \t 0.9995423332218527\n",
      "CCP\t R2_score Test \t R2_Score Train\n",
      "19.79377245903015\t 0.6861479241684627 \t 0.9995421967245142\n",
      "CCP\t R2_score Test \t R2_Score Train\n",
      "20.299561128224497\t 0.6861479241684627 \t 0.9995420567392702\n",
      "CCP\t R2_score Test \t R2_Score Train\n",
      "20.680425151142963\t 0.6861479241684627 \t 0.9995419141275979\n",
      "CCP\t R2_score Test \t R2_Score Train\n",
      "20.73130227078334\t 0.6861479241684627 \t 0.9995417711650783\n",
      "CCP\t R2_score Test \t R2_Score Train\n",
      "21.100424504643957\t 0.6861479241684627 \t 0.9995416256571014\n",
      "CCP\t R2_score Test \t R2_Score Train\n",
      "21.448672338107297\t 0.6861479241684627 \t 0.9995414777476165\n",
      "CCP\t R2_score Test \t R2_Score Train\n",
      "21.897742157897902\t 0.6861479241684627 \t 0.9995411757350993\n",
      "CCP\t R2_score Test \t R2_Score Train\n",
      "22.677967693033224\t 0.6861479241684627 \t 0.9995410193484257\n",
      "CCP\t R2_score Test \t R2_Score Train\n",
      "22.76593438521077\t 0.6861477080055287 \t 0.9995408623551361\n",
      "CCP\t R2_score Test \t R2_Score Train\n",
      "22.932658445746004\t 0.6861487670128628 \t 0.9995407042121217\n",
      "CCP\t R2_score Test \t R2_Score Train\n",
      "23.18420544322163\t 0.6861487670128628 \t 0.9995405443344458\n",
      "CCP\t R2_score Test \t R2_Score Train\n",
      "23.369893805578695\t 0.6861714698722492 \t 0.9995403831762678\n",
      "CCP\t R2_score Test \t R2_Score Train\n",
      "23.40023458282466\t 0.6861754965603958 \t 0.9995402218088606\n",
      "CCP\t R2_score Test \t R2_Score Train\n",
      "23.80837036694007\t 0.6861754965603958 \t 0.9995400576269596\n",
      "CCP\t R2_score Test \t R2_Score Train\n",
      "23.816502251981007\t 0.6861754965603958 \t 0.9995398933889814\n",
      "CCP\t R2_score Test \t R2_Score Train\n",
      "24.2101045514262\t 0.6861754965603958 \t 0.9995395594844827\n",
      "CCP\t R2_score Test \t R2_Score Train\n",
      "24.245656160037484\t 0.6861752512129753 \t 0.9995393922870703\n",
      "CCP\t R2_score Test \t R2_Score Train\n",
      "25.159182737770173\t 0.6861752512129753 \t 0.9995392187900025\n",
      "CCP\t R2_score Test \t R2_Score Train\n",
      "25.198997917229256\t 0.6861752512129753 \t 0.9995390450183703\n",
      "CCP\t R2_score Test \t R2_Score Train\n",
      "25.395890977072757\t 0.6861752512129753 \t 0.999538694759567\n",
      "CCP\t R2_score Test \t R2_Score Train\n",
      "27.03112945120327\t 0.6861752512129753 \t 0.9995385083536036\n",
      "CCP\t R2_score Test \t R2_Score Train\n",
      "27.712429297800202\t 0.6861752512129753 \t 0.9995383172494141\n",
      "CCP\t R2_score Test \t R2_Score Train\n",
      "29.122211775262887\t 0.6861707349971253 \t 0.9995381164234014\n",
      "CCP\t R2_score Test \t R2_Score Train\n",
      "29.29144601548629\t 0.6861840393417764 \t 0.9995379144303539\n",
      "CCP\t R2_score Test \t R2_Score Train\n",
      "29.342812037762204\t 0.6861840393417764 \t 0.9995377120830876\n",
      "CCP\t R2_score Test \t R2_Score Train\n",
      "29.38084452564633\t 0.6861840393417764 \t 0.9995373068640129\n",
      "CCP\t R2_score Test \t R2_Score Train\n",
      "30.62732474403177\t 0.6861840393417764 \t 0.9995370956587805\n",
      "CCP\t R2_score Test \t R2_Score Train\n",
      "31.16185500014239\t 0.6861837640037703 \t 0.9995368807674414\n",
      "CCP\t R2_score Test \t R2_Score Train\n",
      "32.414440778214825\t 0.6861837640037703 \t 0.9995364337091655\n",
      "CCP\t R2_score Test \t R2_Score Train\n",
      "32.447141277879176\t 0.6861837640037703 \t 0.9995362099545256\n",
      "CCP\t R2_score Test \t R2_Score Train\n",
      "32.76292994578811\t 0.6862804716829118 \t 0.9995359840222156\n",
      "CCP\t R2_score Test \t R2_Score Train\n",
      "33.031206439533875\t 0.6862804716829118 \t 0.9995357562398777\n",
      "CCP\t R2_score Test \t R2_Score Train\n",
      "33.04741605033362\t 0.6862951879845376 \t 0.9995353004516397\n",
      "CCP\t R2_score Test \t R2_Score Train\n",
      "33.078317084057296\t 0.6862951879845376 \t 0.9995350723444282\n",
      "CCP\t R2_score Test \t R2_Score Train\n",
      "33.418320216571885\t 0.6863035800025035 \t 0.9995348418925637\n",
      "CCP\t R2_score Test \t R2_Score Train\n",
      "34.478798895455476\t 0.6863035800025035 \t 0.999534604127666\n",
      "CCP\t R2_score Test \t R2_Score Train\n",
      "34.58977667539322\t 0.6863035800025035 \t 0.9995343655974686\n",
      "CCP\t R2_score Test \t R2_Score Train\n",
      "34.63865763259637\t 0.6863035800025035 \t 0.9995341267301892\n",
      "CCP\t R2_score Test \t R2_Score Train\n",
      "34.75804704328708\t 0.6863050495334235 \t 0.9995336473490178\n",
      "CCP\t R2_score Test \t R2_Score Train\n",
      "34.86458989982787\t 0.6863050495334235 \t 0.9995334069237155\n",
      "CCP\t R2_score Test \t R2_Score Train\n",
      "35.174190367389464\t 0.6863143345373897 \t 0.9995331643634163\n",
      "CCP\t R2_score Test \t R2_Score Train\n",
      "35.55623438677122\t 0.6863143345373897 \t 0.9995329191685517\n",
      "CCP\t R2_score Test \t R2_Score Train\n",
      "35.94874581426345\t 0.6863143345373897 \t 0.9995326712669383\n",
      "CCP\t R2_score Test \t R2_Score Train\n",
      "36.276442794048805\t 0.6863143345373897 \t 0.9995324211055353\n",
      "CCP\t R2_score Test \t R2_Score Train\n",
      "36.30628803525851\t 0.6863143345373897 \t 0.9995321707383201\n",
      "CCP\t R2_score Test \t R2_Score Train\n",
      "37.15743669072952\t 0.6863143345373897 \t 0.9995319145016061\n",
      "CCP\t R2_score Test \t R2_Score Train\n",
      "37.71958436883763\t 0.6863260352425075 \t 0.9995316543883364\n",
      "CCP\t R2_score Test \t R2_Score Train\n",
      "37.91832364828286\t 0.6863260352425075 \t 0.9995313929045657\n",
      "CCP\t R2_score Test \t R2_Score Train\n",
      "38.422216293819716\t 0.6863260352425075 \t 0.9995311279459645\n",
      "CCP\t R2_score Test \t R2_Score Train\n",
      "38.520994232916436\t 0.6863260352425075 \t 0.9995308623061933\n",
      "CCP\t R2_score Test \t R2_Score Train\n",
      "39.122065925754086\t 0.6863260352425075 \t 0.9995305925214473\n",
      "CCP\t R2_score Test \t R2_Score Train\n",
      "39.12947330035755\t 0.6863260352425075 \t 0.9995300528497931\n",
      "CCP\t R2_score Test \t R2_Score Train\n",
      "39.421983570083235\t 0.6863260352425075 \t 0.9995297809968229\n",
      "CCP\t R2_score Test \t R2_Score Train\n",
      "39.82295796092742\t 0.6863260352425075 \t 0.9995292317606645\n",
      "CCP\t R2_score Test \t R2_Score Train\n",
      "39.85543025156485\t 0.6863260352425075 \t 0.9995289569186573\n",
      "CCP\t R2_score Test \t R2_Score Train\n",
      "39.90206114893339\t 0.6863260352425075 \t 0.9995286817550846\n",
      "CCP\t R2_score Test \t R2_Score Train\n",
      "39.92551175597745\t 0.6863260352425075 \t 0.9995284064297971\n",
      "CCP\t R2_score Test \t R2_Score Train\n",
      "40.68605352574929\t 0.6863260352425075 \t 0.9995281258598334\n",
      "CCP\t R2_score Test \t R2_Score Train\n",
      "41.33093261748453\t 0.6863260352425075 \t 0.9995278408428003\n",
      "CCP\t R2_score Test \t R2_Score Train\n",
      "41.67446123613075\t 0.6863260352425075 \t 0.9995275534568029\n",
      "CCP\t R2_score Test \t R2_Score Train\n",
      "42.56389878022847\t 0.6863260352425075 \t 0.9995272599372673\n",
      "CCP\t R2_score Test \t R2_Score Train\n",
      "42.71370534595115\t 0.6863260352425075 \t 0.9995269653846697\n",
      "CCP\t R2_score Test \t R2_Score Train\n",
      "42.994149828385375\t 0.6863260352425075 \t 0.999526668898134\n",
      "CCP\t R2_score Test \t R2_Score Train\n",
      "44.85508487224977\t 0.6863252138374364 \t 0.9995260502591439\n",
      "CCP\t R2_score Test \t R2_Score Train\n",
      "45.12751143873728\t 0.6863399473188958 \t 0.9995257390610023\n",
      "CCP\t R2_score Test \t R2_Score Train\n",
      "45.433720951234655\t 0.6863399473188958 \t 0.9995251124414936\n",
      "CCP\t R2_score Test \t R2_Score Train\n",
      "45.54980149813082\t 0.6863379641141638 \t 0.9995238560005223\n",
      "CCP\t R2_score Test \t R2_Score Train\n",
      "46.602174535947555\t 0.6863379641141638 \t 0.9995232132657627\n",
      "CCP\t R2_score Test \t R2_Score Train\n",
      "47.19799332737774\t 0.6863379641141638 \t 0.999522887789632\n",
      "CCP\t R2_score Test \t R2_Score Train\n",
      "47.47412619677889\t 0.6863379641141638 \t 0.9995225604092963\n",
      "CCP\t R2_score Test \t R2_Score Train\n",
      "47.56460780880578\t 0.6861597532661188 \t 0.9995222324050017\n",
      "CCP\t R2_score Test \t R2_Score Train\n",
      "47.667408857615264\t 0.6861597532661188 \t 0.999521574978586\n",
      "CCP\t R2_score Test \t R2_Score Train\n",
      "48.02334945959556\t 0.6861597532661188 \t 0.9995212438108209\n",
      "CCP\t R2_score Test \t R2_Score Train\n",
      "48.27288968179165\t 0.6861597532661188 \t 0.999520910922233\n",
      "CCP\t R2_score Test \t R2_Score Train\n",
      "48.46334249546683\t 0.6861580068416249 \t 0.9995205767202875\n"
     ]
    },
    {
     "name": "stdout",
     "output_type": "stream",
     "text": [
      "CCP\t R2_score Test \t R2_Score Train\n",
      "48.71351999042562\t 0.6861580068416249 \t 0.9995202407931245\n",
      "CCP\t R2_score Test \t R2_Score Train\n",
      "49.297042696238606\t 0.6861580068416249 \t 0.9995199008420041\n",
      "CCP\t R2_score Test \t R2_Score Train\n",
      "49.43748579175518\t 0.6861580068416249 \t 0.9995195599223919\n",
      "CCP\t R2_score Test \t R2_Score Train\n",
      "49.47604337978205\t 0.6858666437968255 \t 0.9995192187368875\n",
      "CCP\t R2_score Test \t R2_Score Train\n",
      "49.69568894113232\t 0.6858666437968255 \t 0.9995188760367131\n",
      "CCP\t R2_score Test \t R2_Score Train\n",
      "49.92660723171162\t 0.6858707605206782 \t 0.9995185317441321\n",
      "CCP\t R2_score Test \t R2_Score Train\n",
      "50.01856328560614\t 0.6858707605206782 \t 0.9995181868174245\n",
      "CCP\t R2_score Test \t R2_Score Train\n",
      "50.06740748020897\t 0.685873122839231 \t 0.9995178415538888\n",
      "CCP\t R2_score Test \t R2_Score Train\n",
      "50.27248908044071\t 0.685873122839231 \t 0.9995174948761156\n",
      "CCP\t R2_score Test \t R2_Score Train\n",
      "50.37912868301601\t 0.685873122839231 \t 0.9995164526366443\n",
      "CCP\t R2_score Test \t R2_Score Train\n",
      "50.518187392337104\t 0.685873122839231 \t 0.9995157558924397\n",
      "CCP\t R2_score Test \t R2_Score Train\n",
      "50.94973534351814\t 0.685873122839231 \t 0.9995150531963483\n",
      "CCP\t R2_score Test \t R2_Score Train\n",
      "52.74901124888233\t 0.6858669602572851 \t 0.9995139619289319\n",
      "CCP\t R2_score Test \t R2_Score Train\n",
      "52.84700142900364\t 0.6858669602572851 \t 0.9995135974973888\n",
      "CCP\t R2_score Test \t R2_Score Train\n",
      "52.88047668424766\t 0.6858837732603857 \t 0.9995125035102259\n",
      "CCP\t R2_score Test \t R2_Score Train\n",
      "53.5034382343973\t 0.6858830857934246 \t 0.9995121345519117\n",
      "CCP\t R2_score Test \t R2_Score Train\n",
      "53.9660655627912\t 0.6858832516453808 \t 0.9995117624033314\n",
      "CCP\t R2_score Test \t R2_Score Train\n",
      "54.76402937379538\t 0.6858832516453808 \t 0.9995113847520136\n",
      "CCP\t R2_score Test \t R2_Score Train\n",
      "55.2314826750871\t 0.6858832516453808 \t 0.99951100387715\n",
      "CCP\t R2_score Test \t R2_Score Train\n",
      "55.236904666211416\t 0.6858832516453808 \t 0.9995106229648965\n",
      "CCP\t R2_score Test \t R2_Score Train\n",
      "56.36199329000746\t 0.6858832516453808 \t 0.999510234294061\n",
      "CCP\t R2_score Test \t R2_Score Train\n",
      "56.70453387244211\t 0.6858832516453808 \t 0.9995098432610748\n",
      "CCP\t R2_score Test \t R2_Score Train\n",
      "56.886728185949934\t 0.6858832516453808 \t 0.9995094509716813\n",
      "CCP\t R2_score Test \t R2_Score Train\n",
      "57.964779689795094\t 0.6858832516453808 \t 0.9995086515244643\n",
      "CCP\t R2_score Test \t R2_Score Train\n",
      "58.62753062824598\t 0.6858766184699117 \t 0.9995082472305425\n",
      "CCP\t R2_score Test \t R2_Score Train\n",
      "58.82931938930801\t 0.6858766184699117 \t 0.9995078415450909\n",
      "CCP\t R2_score Test \t R2_Score Train\n",
      "58.94602650698534\t 0.6858768792887795 \t 0.9995074350548299\n",
      "CCP\t R2_score Test \t R2_Score Train\n",
      "58.95804510306161\t 0.6858768792887795 \t 0.9995070284816889\n",
      "CCP\t R2_score Test \t R2_Score Train\n",
      "59.05046180183953\t 0.6858768792887795 \t 0.9995066212712449\n",
      "CCP\t R2_score Test \t R2_Score Train\n",
      "59.163704345664904\t 0.6858768792887795 \t 0.9995062132798832\n",
      "CCP\t R2_score Test \t R2_Score Train\n",
      "59.595890037913456\t 0.6858768792887795 \t 0.9995058023081803\n",
      "CCP\t R2_score Test \t R2_Score Train\n",
      "60.003489005679505\t 0.6858768792887795 \t 0.9995053885256855\n",
      "CCP\t R2_score Test \t R2_Score Train\n",
      "60.2909633059958\t 0.6858845726748373 \t 0.9995045569958654\n",
      "CCP\t R2_score Test \t R2_Score Train\n",
      "60.470140904720346\t 0.6858845726748373 \t 0.9995041399953513\n",
      "CCP\t R2_score Test \t R2_Score Train\n",
      "60.49624831446963\t 0.6858845726748373 \t 0.9995037228148012\n",
      "CCP\t R2_score Test \t R2_Score Train\n",
      "60.864199486100105\t 0.6858823166273564 \t 0.9995033030968694\n",
      "CCP\t R2_score Test \t R2_Score Train\n",
      "60.994762736945056\t 0.6858823166273564 \t 0.9995028824785768\n",
      "CCP\t R2_score Test \t R2_Score Train\n",
      "61.074429482147345\t 0.6858823166273564 \t 0.9995024613109045\n",
      "CCP\t R2_score Test \t R2_Score Train\n",
      "61.46444660933237\t 0.6858626997604815 \t 0.9995016135964638\n",
      "CCP\t R2_score Test \t R2_Score Train\n",
      "61.504639760414726\t 0.6858626997604815 \t 0.9995011894620727\n",
      "CCP\t R2_score Test \t R2_Score Train\n",
      "61.713635205331435\t 0.6858626997604815 \t 0.9995007638864543\n",
      "CCP\t R2_score Test \t R2_Score Train\n",
      "61.89623987479166\t 0.6858626997604815 \t 0.9995003370515989\n",
      "CCP\t R2_score Test \t R2_Score Train\n",
      "61.976492989836174\t 0.6858626997604815 \t 0.99949990966332\n",
      "CCP\t R2_score Test \t R2_Score Train\n",
      "62.07534113521393\t 0.6858626997604815 \t 0.9994994815933871\n",
      "CCP\t R2_score Test \t R2_Score Train\n",
      "62.631597820731294\t 0.6858626997604815 \t 0.9994990496875225\n",
      "CCP\t R2_score Test \t R2_Score Train\n",
      "62.71681252631213\t 0.6858626997604815 \t 0.9994986171940194\n",
      "CCP\t R2_score Test \t R2_Score Train\n",
      "62.78188377663499\t 0.6858626997604815 \t 0.9994981842517868\n",
      "CCP\t R2_score Test \t R2_Score Train\n",
      "63.18077793865901\t 0.6858611117829481 \t 0.9994977485587905\n",
      "CCP\t R2_score Test \t R2_Score Train\n",
      "63.245752090693415\t 0.6858713285944258 \t 0.999497312417734\n",
      "CCP\t R2_score Test \t R2_Score Train\n",
      "63.2688296297364\t 0.6858713285944258 \t 0.9994968761175355\n",
      "CCP\t R2_score Test \t R2_Score Train\n",
      "63.68922541744154\t 0.6858713285944258 \t 0.9994951193205878\n",
      "CCP\t R2_score Test \t R2_Score Train\n",
      "64.55455735236703\t 0.6858713285944258 \t 0.9994946741540444\n",
      "CCP\t R2_score Test \t R2_Score Train\n",
      "66.20937348764227\t 0.6858689399249971 \t 0.9994942175759322\n",
      "CCP\t R2_score Test \t R2_Score Train\n",
      "67.67326104811755\t 0.6858689399249971 \t 0.9994932842298467\n",
      "CCP\t R2_score Test \t R2_Score Train\n",
      "68.4282168678667\t 0.6858689399249971 \t 0.9994928123506485\n",
      "CCP\t R2_score Test \t R2_Score Train\n",
      "69.84322444208436\t 0.6858689399249971 \t 0.9994923307135948\n",
      "CCP\t R2_score Test \t R2_Score Train\n",
      "70.55600702094279\t 0.6858689399249971 \t 0.9994918441612111\n",
      "CCP\t R2_score Test \t R2_Score Train\n",
      "70.63386392660216\t 0.6858689399249971 \t 0.9994913570719282\n",
      "CCP\t R2_score Test \t R2_Score Train\n",
      "70.73607738936116\t 0.6858689399249971 \t 0.9994908692777839\n",
      "CCP\t R2_score Test \t R2_Score Train\n",
      "71.52132059945616\t 0.685881678584547 \t 0.9994903760686229\n",
      "CCP\t R2_score Test \t R2_Score Train\n",
      "72.03521210515014\t 0.685881678584547 \t 0.9994893825627361\n",
      "CCP\t R2_score Test \t R2_Score Train\n",
      "72.70183578768956\t 0.685881678584547 \t 0.9994888812127732\n",
      "CCP\t R2_score Test \t R2_Score Train\n",
      "72.9437556831488\t 0.685881678584547 \t 0.999488378194537\n",
      "CCP\t R2_score Test \t R2_Score Train\n",
      "73.81982346247894\t 0.6858807293129192 \t 0.9994878691349602\n",
      "CCP\t R2_score Test \t R2_Score Train\n",
      "73.83476741461585\t 0.6858807293129192 \t 0.9994873599723304\n",
      "CCP\t R2_score Test \t R2_Score Train\n",
      "75.19392477218494\t 0.685884870671421 \t 0.9994868414369869\n",
      "CCP\t R2_score Test \t R2_Score Train\n",
      "75.19574435874185\t 0.6858839982793956 \t 0.9994858043412042\n",
      "CCP\t R2_score Test \t R2_Score Train\n",
      "75.20648877033067\t 0.6858839982793956 \t 0.9994847670972351\n",
      "CCP\t R2_score Test \t R2_Score Train\n",
      "75.22803452665426\t 0.6858839982793956 \t 0.9994842483266716\n",
      "CCP\t R2_score Test \t R2_Score Train\n",
      "77.1562112874763\t 0.6858839982793956 \t 0.9994837162594514\n",
      "CCP\t R2_score Test \t R2_Score Train\n",
      "77.61134759307936\t 0.6858839982793956 \t 0.9994831810536232\n",
      "CCP\t R2_score Test \t R2_Score Train\n",
      "78.37125064010587\t 0.6858839982793956 \t 0.9994826406075233\n",
      "CCP\t R2_score Test \t R2_Score Train\n",
      "78.6150011961964\t 0.6858839982793956 \t 0.999482098480526\n",
      "CCP\t R2_score Test \t R2_Score Train\n",
      "79.29508230528265\t 0.6858839982793956 \t 0.9994815516637071\n",
      "CCP\t R2_score Test \t R2_Score Train\n",
      "80.12197320413253\t 0.6858670452117248 \t 0.9994804466256333\n",
      "CCP\t R2_score Test \t R2_Score Train\n",
      "80.28033503274932\t 0.685854636363211 \t 0.9994793394034412\n",
      "CCP\t R2_score Test \t R2_Score Train\n",
      "80.57713308689057\t 0.6858523982765983 \t 0.9994787837456336\n",
      "CCP\t R2_score Test \t R2_Score Train\n",
      "81.33519952869364\t 0.6858523982765983 \t 0.9994782228602196\n",
      "CCP\t R2_score Test \t R2_Score Train\n",
      "81.99829703128813\t 0.6858523982765983 \t 0.9994776574021025\n",
      "CCP\t R2_score Test \t R2_Score Train\n",
      "82.14637463307781\t 0.6858523982765983 \t 0.9994770909228461\n",
      "CCP\t R2_score Test \t R2_Score Train\n",
      "82.9934269610384\t 0.6858523982765983 \t 0.9994765186023389\n",
      "CCP\t R2_score Test \t R2_Score Train\n",
      "83.11776492655576\t 0.6858523982765983 \t 0.9994759454244004\n",
      "CCP\t R2_score Test \t R2_Score Train\n",
      "83.15476685175148\t 0.6858531144569533 \t 0.9994747985581948\n",
      "CCP\t R2_score Test \t R2_Score Train\n",
      "83.35346673096475\t 0.6858531144569533 \t 0.9994742237548627\n",
      "CCP\t R2_score Test \t R2_Score Train\n",
      "83.78972611243395\t 0.6858531144569533 \t 0.9994736459430974\n",
      "CCP\t R2_score Test \t R2_Score Train\n",
      "83.79770037462545\t 0.6858531144569533 \t 0.9994730680763417\n",
      "CCP\t R2_score Test \t R2_Score Train\n",
      "83.84482410693684\t 0.6858306033813562 \t 0.9994724898846221\n",
      "CCP\t R2_score Test \t R2_Score Train\n",
      "84.3577479069675\t 0.6858306033813562 \t 0.9994719081557933\n"
     ]
    },
    {
     "name": "stdout",
     "output_type": "stream",
     "text": [
      "CCP\t R2_score Test \t R2_Score Train\n",
      "85.26808072319038\t 0.6858522466802663 \t 0.999470732142873\n",
      "CCP\t R2_score Test \t R2_Score Train\n",
      "85.9981134252691\t 0.6858538077062815 \t 0.9994701391021263\n",
      "CCP\t R2_score Test \t R2_Score Train\n",
      "86.39836540673411\t 0.6858538077062815 \t 0.9994695433012526\n",
      "CCP\t R2_score Test \t R2_Score Train\n",
      "86.53206476557676\t 0.6858538077062815 \t 0.9994677531326691\n",
      "CCP\t R2_score Test \t R2_Score Train\n",
      "87.76679232749356\t 0.6858493689435361 \t 0.999467147895159\n",
      "CCP\t R2_score Test \t R2_Score Train\n",
      "89.71119174163206\t 0.6858493689435361 \t 0.9994665292491212\n",
      "CCP\t R2_score Test \t R2_Score Train\n",
      "89.89993107992154\t 0.6858493689435361 \t 0.9994659093015418\n",
      "CCP\t R2_score Test \t R2_Score Train\n",
      "90.01157920735817\t 0.6858493689435361 \t 0.9994652885840398\n",
      "CCP\t R2_score Test \t R2_Score Train\n",
      "90.20404906740158\t 0.6858493689435361 \t 0.9994640444945017\n",
      "CCP\t R2_score Test \t R2_Score Train\n",
      "91.30148307775515\t 0.6858458397745207 \t 0.9994634148818563\n",
      "CCP\t R2_score Test \t R2_Score Train\n",
      "92.25250690612336\t 0.6858458397745207 \t 0.9994627787109753\n",
      "CCP\t R2_score Test \t R2_Score Train\n",
      "92.68476254124182\t 0.6858458397745207 \t 0.9994621395592709\n",
      "CCP\t R2_score Test \t R2_Score Train\n",
      "92.97837866257345\t 0.6858458397745207 \t 0.9994614983827973\n",
      "CCP\t R2_score Test \t R2_Score Train\n",
      "93.4738285241036\t 0.6858458397745207 \t 0.9994608537897144\n",
      "CCP\t R2_score Test \t R2_Score Train\n",
      "93.74234014878242\t 0.6858346098510935 \t 0.9994602073449823\n",
      "CCP\t R2_score Test \t R2_Score Train\n",
      "93.76818897818954\t 0.6858346098510935 \t 0.9994595607219974\n",
      "CCP\t R2_score Test \t R2_Score Train\n",
      "94.08760913318268\t 0.6858346098510935 \t 0.9994582630706015\n",
      "CCP\t R2_score Test \t R2_Score Train\n",
      "94.75178906129692\t 0.6858346098510935 \t 0.9994569562588705\n",
      "CCP\t R2_score Test \t R2_Score Train\n",
      "96.110913591775\t 0.6858346098510935 \t 0.9994562934805178\n",
      "CCP\t R2_score Test \t R2_Score Train\n",
      "96.67723523218963\t 0.6858346098510935 \t 0.9994556267968259\n",
      "CCP\t R2_score Test \t R2_Score Train\n",
      "96.78284981329477\t 0.6858346098510935 \t 0.999454291972811\n",
      "CCP\t R2_score Test \t R2_Score Train\n",
      "97.20628089418146\t 0.6858346098510935 \t 0.9994529513088569\n",
      "CCP\t R2_score Test \t R2_Score Train\n",
      "98.61903746166357\t 0.6858346098510935 \t 0.9994522712345474\n",
      "CCP\t R2_score Test \t R2_Score Train\n",
      "98.7048685427916\t 0.6858521838544133 \t 0.9994509099021506\n",
      "CCP\t R2_score Test \t R2_Score Train\n",
      "98.76714897021478\t 0.6858521838544133 \t 0.9994502288064679\n",
      "CCP\t R2_score Test \t R2_Score Train\n",
      "99.21705556678216\t 0.6858521838544133 \t 0.9994495446082412\n",
      "CCP\t R2_score Test \t R2_Score Train\n",
      "99.3592032063876\t 0.6858521838544133 \t 0.999448859429768\n",
      "CCP\t R2_score Test \t R2_Score Train\n",
      "99.49910796304354\t 0.6858498970438185 \t 0.9994481732865153\n",
      "CCP\t R2_score Test \t R2_Score Train\n",
      "99.52417571251078\t 0.6858385800384564 \t 0.999447486970396\n",
      "CCP\t R2_score Test \t R2_Score Train\n",
      "100.11167838508604\t 0.6858385800384564 \t 0.9994467966028736\n",
      "CCP\t R2_score Test \t R2_Score Train\n",
      "100.14428467231421\t 0.6858370267199823 \t 0.9994461060104991\n",
      "CCP\t R2_score Test \t R2_Score Train\n",
      "100.32506848287389\t 0.6858491683532926 \t 0.9994447223323892\n",
      "CCP\t R2_score Test \t R2_Score Train\n",
      "100.49435553104892\t 0.6858487882683261 \t 0.9994440293259352\n",
      "CCP\t R2_score Test \t R2_Score Train\n",
      "101.56513172011834\t 0.6858487882683261 \t 0.9994433289354366\n",
      "CCP\t R2_score Test \t R2_Score Train\n",
      "101.58953708172636\t 0.6858487882683261 \t 0.9994419278178418\n",
      "CCP\t R2_score Test \t R2_Score Train\n",
      "102.39471949973264\t 0.6858487882683261 \t 0.9994412217065275\n",
      "CCP\t R2_score Test \t R2_Score Train\n",
      "105.35796335968267\t 0.6858487882683261 \t 0.9994404951607607\n",
      "CCP\t R2_score Test \t R2_Score Train\n",
      "105.37986764967894\t 0.6858525630477825 \t 0.9994390417671245\n",
      "CCP\t R2_score Test \t R2_Score Train\n",
      "105.41214458408967\t 0.6858463760623934 \t 0.9994383148477255\n",
      "CCP\t R2_score Test \t R2_Score Train\n",
      "108.12463832957255\t 0.6858463760623934 \t 0.9994368235983553\n",
      "CCP\t R2_score Test \t R2_Score Train\n",
      "109.96043691474735\t 0.6858463760623934 \t 0.999436065314051\n",
      "CCP\t R2_score Test \t R2_Score Train\n",
      "110.8504356586512\t 0.6858461420824741 \t 0.9994353008923387\n",
      "CCP\t R2_score Test \t R2_Score Train\n",
      "112.45299517613311\t 0.6858461420824741 \t 0.9994345254194177\n",
      "CCP\t R2_score Test \t R2_Score Train\n",
      "112.78975665244117\t 0.6858461420824741 \t 0.9994337476241982\n",
      "CCP\t R2_score Test \t R2_Score Train\n",
      "112.83066575747738\t 0.6858461420824741 \t 0.9994329695468708\n",
      "CCP\t R2_score Test \t R2_Score Train\n",
      "113.83215322099515\t 0.6856340247478634 \t 0.9994321845633118\n",
      "CCP\t R2_score Test \t R2_Score Train\n",
      "114.85092896423565\t 0.6856340247478634 \t 0.9994306005452922\n",
      "CCP\t R2_score Test \t R2_Score Train\n",
      "114.9873875959767\t 0.6856123996956921 \t 0.9994290146452421\n",
      "CCP\t R2_score Test \t R2_Score Train\n",
      "116.4218146438651\t 0.6859209747774223 \t 0.9994282118034457\n",
      "CCP\t R2_score Test \t R2_Score Train\n",
      "116.53635659814499\t 0.6859209747774223 \t 0.9994274081717708\n",
      "CCP\t R2_score Test \t R2_Score Train\n",
      "116.84747315779873\t 0.6859069251113585 \t 0.9994266023946443\n",
      "CCP\t R2_score Test \t R2_Score Train\n",
      "117.11443901196296\t 0.6859069251113585 \t 0.9994257947765282\n",
      "CCP\t R2_score Test \t R2_Score Train\n",
      "117.42056642983725\t 0.6859089526746147 \t 0.9994233655890399\n",
      "CCP\t R2_score Test \t R2_Score Train\n",
      "118.52200561365348\t 0.6859089526746147 \t 0.9994217309397225\n",
      "CCP\t R2_score Test \t R2_Score Train\n",
      "119.30325389774424\t 0.6859089526746147 \t 0.9994209082275961\n",
      "CCP\t R2_score Test \t R2_Score Train\n",
      "121.61603820599473\t 0.6859089526746147 \t 0.9994200695665695\n",
      "CCP\t R2_score Test \t R2_Score Train\n",
      "121.8676831699982\t 0.6859089526746147 \t 0.9994192291702056\n",
      "CCP\t R2_score Test \t R2_Score Train\n",
      "123.28414180181747\t 0.6859182722726271 \t 0.9994183790059801\n",
      "CCP\t R2_score Test \t R2_Score Train\n",
      "123.56843544241116\t 0.6859182722726271 \t 0.9994175268812729\n",
      "CCP\t R2_score Test \t R2_Score Train\n",
      "125.49122844879017\t 0.6859182722726271 \t 0.999415796112798\n",
      "CCP\t R2_score Test \t R2_Score Train\n",
      "126.05058761344499\t 0.6859182722726271 \t 0.9994149268712342\n",
      "CCP\t R2_score Test \t R2_Score Train\n",
      "126.12547310727832\t 0.6859182722726271 \t 0.9994123175973179\n",
      "CCP\t R2_score Test \t R2_Score Train\n",
      "126.23686831615296\t 0.6859140164367241 \t 0.9994114470711672\n",
      "CCP\t R2_score Test \t R2_Score Train\n",
      "128.0354051234516\t 0.6859140164367241 \t 0.9994105641423539\n",
      "CCP\t R2_score Test \t R2_Score Train\n",
      "128.14623501930276\t 0.6859140164367241 \t 0.9994096804492603\n",
      "CCP\t R2_score Test \t R2_Score Train\n",
      "130.040334133388\t 0.6859144139578858 \t 0.9994087836945086\n",
      "CCP\t R2_score Test \t R2_Score Train\n",
      "131.00499489594043\t 0.6859144139578858 \t 0.9994078802874815\n",
      "CCP\t R2_score Test \t R2_Score Train\n",
      "132.89279262172028\t 0.6859144139578858 \t 0.9994069638622506\n",
      "CCP\t R2_score Test \t R2_Score Train\n",
      "134.34228155562775\t 0.6859087643587249 \t 0.9994060374413818\n",
      "CCP\t R2_score Test \t R2_Score Train\n",
      "134.3548834232669\t 0.6859089185944764 \t 0.9994051109336108\n",
      "CCP\t R2_score Test \t R2_Score Train\n",
      "137.53254909824545\t 0.6859089185944764 \t 0.9994041625127402\n",
      "CCP\t R2_score Test \t R2_Score Train\n",
      "137.99054032965157\t 0.6859089185944764 \t 0.999402259354408\n",
      "CCP\t R2_score Test \t R2_Score Train\n",
      "138.69057618837766\t 0.6859089185944764 \t 0.9994013029478128\n",
      "CCP\t R2_score Test \t R2_Score Train\n",
      "138.94753445145918\t 0.6859089185944764 \t 0.9993993865906675\n",
      "CCP\t R2_score Test \t R2_Score Train\n",
      "139.3886506962474\t 0.6859089185944764 \t 0.9993984253701688\n",
      "CCP\t R2_score Test \t R2_Score Train\n",
      "139.7701572286231\t 0.6859209521085772 \t 0.9993974615188108\n",
      "CCP\t R2_score Test \t R2_Score Train\n",
      "141.46306555995105\t 0.6859209521085772 \t 0.9993964859932013\n",
      "CCP\t R2_score Test \t R2_Score Train\n",
      "142.88837895793623\t 0.6859209521085772 \t 0.9993955006386678\n",
      "CCP\t R2_score Test \t R2_Score Train\n",
      "143.1314693040329\t 0.6859413039778225 \t 0.9993945136077895\n",
      "CCP\t R2_score Test \t R2_Score Train\n",
      "143.40404898264873\t 0.6859413039778225 \t 0.999393524697209\n",
      "CCP\t R2_score Test \t R2_Score Train\n",
      "143.54706484308943\t 0.6859413039778225 \t 0.9993925348003947\n",
      "CCP\t R2_score Test \t R2_Score Train\n",
      "143.7225451379105\t 0.6859413039778225 \t 0.9993915436934729\n",
      "CCP\t R2_score Test \t R2_Score Train\n",
      "144.82839289772642\t 0.6859413039778225 \t 0.9993905449606538\n",
      "CCP\t R2_score Test \t R2_Score Train\n",
      "145.75465737080256\t 0.6859413039778225 \t 0.9993895398403392\n",
      "CCP\t R2_score Test \t R2_Score Train\n",
      "146.77258376027163\t 0.6859423055621451 \t 0.9993885277004306\n",
      "CCP\t R2_score Test \t R2_Score Train\n",
      "146.95330528153164\t 0.6859423055621451 \t 0.9993875143142712\n",
      "CCP\t R2_score Test \t R2_Score Train\n",
      "147.83889839451052\t 0.6859423055621451 \t 0.9993864948210848\n",
      "CCP\t R2_score Test \t R2_Score Train\n",
      "148.44387160778737\t 0.6859293117074139 \t 0.9993854711560188\n",
      "CCP\t R2_score Test \t R2_Score Train\n",
      "149.75192384824058\t 0.6859293117074139 \t 0.9993844384706587\n",
      "CCP\t R2_score Test \t R2_Score Train\n",
      "151.19933850152353\t 0.6859293117074139 \t 0.9993833958039651\n",
      "CCP\t R2_score Test \t R2_Score Train\n",
      "151.37047200185478\t 0.6859293117074139 \t 0.9993823519571391\n",
      "CCP\t R2_score Test \t R2_Score Train\n",
      "152.18533364161726\t 0.6859293117074139 \t 0.9993802530249581\n",
      "CCP\t R2_score Test \t R2_Score Train\n",
      "153.72287168415676\t 0.6859293117074139 \t 0.9993791929560454\n",
      "CCP\t R2_score Test \t R2_Score Train\n",
      "154.07476156250112\t 0.6859293117074139 \t 0.9993781304605093\n",
      "CCP\t R2_score Test \t R2_Score Train\n",
      "154.1900711852664\t 0.6859261464398073 \t 0.9993770671698009\n",
      "CCP\t R2_score Test \t R2_Score Train\n",
      "154.88695932922272\t 0.6859261464398073 \t 0.9993759990733702\n",
      "CCP\t R2_score Test \t R2_Score Train\n",
      "155.11254291003104\t 0.6859261464398073 \t 0.9993749294213209\n",
      "CCP\t R2_score Test \t R2_Score Train\n",
      "155.51592569298845\t 0.6859261464398073 \t 0.9993738569875545\n",
      "CCP\t R2_score Test \t R2_Score Train\n",
      "156.77658699537034\t 0.6859261464398073 \t 0.9993727758603006\n",
      "CCP\t R2_score Test \t R2_Score Train\n",
      "158.1224691273391\t 0.6859187058293058 \t 0.9993716854518787\n",
      "CCP\t R2_score Test \t R2_Score Train\n",
      "161.19584851315943\t 0.6859363387910927 \t 0.9993705738495127\n",
      "CCP\t R2_score Test \t R2_Score Train\n",
      "162.5182019913464\t 0.6859363387910927 \t 0.9993694531282317\n",
      "CCP\t R2_score Test \t R2_Score Train\n",
      "167.82298907593042\t 0.685935210727258 \t 0.9993682958252772\n",
      "CCP\t R2_score Test \t R2_Score Train\n",
      "171.06121511777178\t 0.685935210727258 \t 0.9993671161916005\n",
      "CCP\t R2_score Test \t R2_Score Train\n",
      "171.22429553494538\t 0.685935210727258 \t 0.9993659354333254\n",
      "CCP\t R2_score Test \t R2_Score Train\n",
      "171.63000467439429\t 0.685935210727258 \t 0.9993647518772908\n"
     ]
    },
    {
     "name": "stdout",
     "output_type": "stream",
     "text": [
      "CCP\t R2_score Test \t R2_Score Train\n",
      "172.1427683220941\t 0.685935210727258 \t 0.9993635647852513\n",
      "CCP\t R2_score Test \t R2_Score Train\n",
      "174.0348321862296\t 0.685935210727258 \t 0.9993623646455889\n",
      "CCP\t R2_score Test \t R2_Score Train\n",
      "174.1979474719874\t 0.685935210727258 \t 0.9993611633810877\n",
      "CCP\t R2_score Test \t R2_Score Train\n",
      "174.69863260340293\t 0.685935210727258 \t 0.999359958663875\n",
      "CCP\t R2_score Test \t R2_Score Train\n",
      "175.6994297448298\t 0.685935210727258 \t 0.9993587470451911\n",
      "CCP\t R2_score Test \t R2_Score Train\n",
      "177.7687422093066\t 0.685935210727258 \t 0.9993575211565826\n",
      "CCP\t R2_score Test \t R2_Score Train\n",
      "184.6248195072345\t 0.685935210727258 \t 0.9993562479886439\n",
      "CCP\t R2_score Test \t R2_Score Train\n",
      "184.8022316226432\t 0.685935210727258 \t 0.9993549735972758\n",
      "CCP\t R2_score Test \t R2_Score Train\n",
      "186.512054421944\t 0.6859442000597786 \t 0.9993536874150143\n",
      "CCP\t R2_score Test \t R2_Score Train\n",
      "188.06271356218292\t 0.6866649712766992 \t 0.9993523905394478\n",
      "CCP\t R2_score Test \t R2_Score Train\n",
      "189.68229847676136\t 0.6866649712766992 \t 0.999351082495266\n",
      "CCP\t R2_score Test \t R2_Score Train\n",
      "194.51916804229006\t 0.6870012867044399 \t 0.9993497410961579\n",
      "CCP\t R2_score Test \t R2_Score Train\n",
      "194.91307766164385\t 0.6870012867044399 \t 0.9993483969806594\n",
      "CCP\t R2_score Test \t R2_Score Train\n",
      "199.02189599008506\t 0.6870012867044399 \t 0.9993470245308569\n",
      "CCP\t R2_score Test \t R2_Score Train\n",
      "203.90364711851413\t 0.6870012867044399 \t 0.9993456184166258\n",
      "CCP\t R2_score Test \t R2_Score Train\n",
      "203.93415751778505\t 0.686794824031083 \t 0.999344212091996\n",
      "CCP\t R2_score Test \t R2_Score Train\n",
      "204.21713387708726\t 0.686794824031083 \t 0.9993428038159684\n",
      "CCP\t R2_score Test \t R2_Score Train\n",
      "206.07274694652045\t 0.6867902133358399 \t 0.9993413827436816\n",
      "CCP\t R2_score Test \t R2_Score Train\n",
      "207.02629214426213\t 0.6867297848634866 \t 0.999339955095772\n",
      "CCP\t R2_score Test \t R2_Score Train\n",
      "208.52146417249082\t 0.6867298327551874 \t 0.999338517137195\n",
      "CCP\t R2_score Test \t R2_Score Train\n",
      "208.6991676984979\t 0.6868177337374924 \t 0.9993370779531793\n",
      "CCP\t R2_score Test \t R2_Score Train\n",
      "209.8895563065288\t 0.6868177337374924 \t 0.9993356305602746\n",
      "CCP\t R2_score Test \t R2_Score Train\n",
      "211.29125008062363\t 0.6868207951112386 \t 0.9993327164423781\n",
      "CCP\t R2_score Test \t R2_Score Train\n",
      "212.6045997211852\t 0.6872092255676998 \t 0.999331250326605\n",
      "CCP\t R2_score Test \t R2_Score Train\n",
      "213.78712680009372\t 0.6872092255676998 \t 0.9993297760561559\n",
      "CCP\t R2_score Test \t R2_Score Train\n",
      "215.74166535405422\t 0.6872006725226356 \t 0.9993282883072601\n",
      "CCP\t R2_score Test \t R2_Score Train\n",
      "215.97644213590758\t 0.6872026185777307 \t 0.9993267989393495\n",
      "CCP\t R2_score Test \t R2_Score Train\n",
      "218.30102995785566\t 0.6872026185777307 \t 0.9993252935411421\n",
      "CCP\t R2_score Test \t R2_Score Train\n",
      "218.72551695655946\t 0.6872113544870184 \t 0.9993237852156834\n",
      "CCP\t R2_score Test \t R2_Score Train\n",
      "219.63832938889863\t 0.687222285773738 \t 0.9993222705954939\n",
      "CCP\t R2_score Test \t R2_Score Train\n",
      "220.42361906347014\t 0.687222285773738 \t 0.9993207505599674\n",
      "CCP\t R2_score Test \t R2_Score Train\n",
      "220.58156107006545\t 0.687222285773738 \t 0.999319229435277\n",
      "CCP\t R2_score Test \t R2_Score Train\n",
      "223.22661645764924\t 0.687222285773738 \t 0.9993176900703534\n",
      "CCP\t R2_score Test \t R2_Score Train\n",
      "223.80784208341146\t 0.68720622918372 \t 0.9993161466973133\n",
      "CCP\t R2_score Test \t R2_Score Train\n",
      "229.36553372373413\t 0.68720622918372 \t 0.9993145649985765\n",
      "CCP\t R2_score Test \t R2_Score Train\n",
      "230.11065525771977\t 0.687214993284766 \t 0.9993129781615011\n",
      "CCP\t R2_score Test \t R2_Score Train\n",
      "231.66854162811242\t 0.687251419775488 \t 0.9993113805812819\n",
      "CCP\t R2_score Test \t R2_Score Train\n",
      "236.8212806862188\t 0.687251419775488 \t 0.9993097474679086\n",
      "CCP\t R2_score Test \t R2_Score Train\n",
      "238.1375774374832\t 0.687251419775488 \t 0.9993081052773872\n",
      "CCP\t R2_score Test \t R2_Score Train\n",
      "239.3688868881262\t 0.687251419775488 \t 0.999306454595788\n",
      "CCP\t R2_score Test \t R2_Score Train\n",
      "246.21505525777508\t 0.6872380188209157 \t 0.9993047567031903\n",
      "CCP\t R2_score Test \t R2_Score Train\n",
      "247.14050929050308\t 0.6872367798870762 \t 0.9993030524286858\n",
      "CCP\t R2_score Test \t R2_Score Train\n",
      "248.26039241294743\t 0.6872405801610917 \t 0.9993013404314964\n",
      "CCP\t R2_score Test \t R2_Score Train\n",
      "251.7515088906913\t 0.6872463462119831 \t 0.9992996043596589\n",
      "CCP\t R2_score Test \t R2_Score Train\n",
      "254.62937046925344\t 0.6872457892417281 \t 0.9992960925246672\n",
      "CCP\t R2_score Test \t R2_Score Train\n",
      "260.6668671791464\t 0.6872604776196443 \t 0.9992942949727516\n",
      "CCP\t R2_score Test \t R2_Score Train\n",
      "261.89141895963485\t 0.6872568073390926 \t 0.9992924889763588\n",
      "CCP\t R2_score Test \t R2_Score Train\n",
      "261.9154231428135\t 0.6872568073390926 \t 0.9992906828144338\n",
      "CCP\t R2_score Test \t R2_Score Train\n",
      "263.88112500981055\t 0.6872671955034975 \t 0.99928886309708\n",
      "CCP\t R2_score Test \t R2_Score Train\n",
      "264.7113885315927\t 0.6872671955034975 \t 0.9992852122114212\n",
      "CCP\t R2_score Test \t R2_Score Train\n",
      "273.03396484464656\t 0.6872671955034975 \t 0.9992833293763226\n",
      "CCP\t R2_score Test \t R2_Score Train\n",
      "274.05468469405196\t 0.6872853707673663 \t 0.9992814395023667\n",
      "CCP\t R2_score Test \t R2_Score Train\n",
      "274.1722543470784\t 0.6872853707673663 \t 0.9992795488176535\n",
      "CCP\t R2_score Test \t R2_Score Train\n",
      "275.3820255390458\t 0.6872853707673663 \t 0.9992776497903896\n",
      "CCP\t R2_score Test \t R2_Score Train\n",
      "275.4038134059711\t 0.6872853707673663 \t 0.9992757506128772\n",
      "CCP\t R2_score Test \t R2_Score Train\n",
      "276.6103530418858\t 0.6873048043773076 \t 0.999273843115099\n",
      "CCP\t R2_score Test \t R2_Score Train\n",
      "280.5554631203908\t 0.687402279842577 \t 0.9992719084119446\n",
      "CCP\t R2_score Test \t R2_Score Train\n",
      "281.0798964906125\t 0.6874069747862932 \t 0.9992699700923113\n",
      "CCP\t R2_score Test \t R2_Score Train\n",
      "281.7297903481388\t 0.6873854051985515 \t 0.999268027291027\n",
      "CCP\t R2_score Test \t R2_Score Train\n",
      "282.89172872910865\t 0.6873854051985515 \t 0.9992660764770459\n",
      "CCP\t R2_score Test \t R2_Score Train\n",
      "283.27075208577503\t 0.6873854051985515 \t 0.9992641230493297\n",
      "CCP\t R2_score Test \t R2_Score Train\n",
      "296.7974224592067\t 0.6873854051985515 \t 0.9992620763420473\n",
      "CCP\t R2_score Test \t R2_Score Train\n",
      "299.15526454324566\t 0.6873854051985515 \t 0.9992600133751476\n",
      "CCP\t R2_score Test \t R2_Score Train\n",
      "299.21887043497816\t 0.6873854051985515 \t 0.9992579499696232\n",
      "CCP\t R2_score Test \t R2_Score Train\n",
      "303.44225005476284\t 0.6873854051985515 \t 0.9992558574397832\n",
      "CCP\t R2_score Test \t R2_Score Train\n",
      "306.1441425767996\t 0.6873896454712248 \t 0.9992537462777628\n",
      "CCP\t R2_score Test \t R2_Score Train\n",
      "311.85779332477773\t 0.6873881037278077 \t 0.9992515957145559\n",
      "CCP\t R2_score Test \t R2_Score Train\n",
      "314.1478861020228\t 0.6874001480577785 \t 0.999249429358929\n",
      "CCP\t R2_score Test \t R2_Score Train\n",
      "321.0484443664568\t 0.687394846972503 \t 0.9992472154172323\n",
      "CCP\t R2_score Test \t R2_Score Train\n",
      "322.45823504512146\t 0.6873926034764777 \t 0.9992449917536559\n",
      "CCP\t R2_score Test \t R2_Score Train\n",
      "325.12668210077425\t 0.6873886787487151 \t 0.9992427496885382\n",
      "CCP\t R2_score Test \t R2_Score Train\n",
      "327.3320553687423\t 0.6873802206001337 \t 0.999240492415224\n",
      "CCP\t R2_score Test \t R2_Score Train\n",
      "331.592068402437\t 0.6873802206001337 \t 0.999238205764971\n",
      "CCP\t R2_score Test \t R2_Score Train\n",
      "340.07279139933524\t 0.6873722108104641 \t 0.9992358606318735\n",
      "CCP\t R2_score Test \t R2_Score Train\n",
      "340.8438382434018\t 0.6873788437188237 \t 0.9992335101816571\n",
      "CCP\t R2_score Test \t R2_Score Train\n",
      "342.53817010106536\t 0.6873788437188237 \t 0.9992311480473723\n",
      "CCP\t R2_score Test \t R2_Score Train\n",
      "343.90553441871435\t 0.6874440224888558 \t 0.999228776483779\n",
      "CCP\t R2_score Test \t R2_Score Train\n",
      "344.441396198779\t 0.6877764852343726 \t 0.9992264012248967\n",
      "CCP\t R2_score Test \t R2_Score Train\n",
      "353.2274264642904\t 0.6877764852343726 \t 0.999223965377779\n",
      "CCP\t R2_score Test \t R2_Score Train\n",
      "361.27751048127084\t 0.6877764852343726 \t 0.999221474017492\n",
      "CCP\t R2_score Test \t R2_Score Train\n",
      "361.4640382326322\t 0.6877764852343726 \t 0.9992189813709142\n",
      "CCP\t R2_score Test \t R2_Score Train\n",
      "369.10986257393364\t 0.6877712542468741 \t 0.9992138906269487\n",
      "CCP\t R2_score Test \t R2_Score Train\n",
      "370.27896592149705\t 0.6877712542468741 \t 0.9992113371928597\n",
      "CCP\t R2_score Test \t R2_Score Train\n",
      "376.24103589875756\t 0.6877712542468741 \t 0.9992087426444918\n",
      "CCP\t R2_score Test \t R2_Score Train\n",
      "382.1619741001609\t 0.6877712542468741 \t 0.9992061072654884\n",
      "CCP\t R2_score Test \t R2_Score Train\n",
      "383.9877155907096\t 0.6877694305646558 \t 0.9992034592962193\n",
      "CCP\t R2_score Test \t R2_Score Train\n",
      "387.53950927444913\t 0.6877694305646558 \t 0.9992007868338737\n",
      "CCP\t R2_score Test \t R2_Score Train\n",
      "389.6157831748409\t 0.6877847372518817 \t 0.9991981000535974\n",
      "CCP\t R2_score Test \t R2_Score Train\n",
      "393.8601412467683\t 0.6877493555149359 \t 0.9991953840043386\n",
      "CCP\t R2_score Test \t R2_Score Train\n",
      "395.45717427916696\t 0.6877493555149359 \t 0.9991926569419816\n",
      "CCP\t R2_score Test \t R2_Score Train\n",
      "397.3759977865308\t 0.6878196045317859 \t 0.9991899166474678\n",
      "CCP\t R2_score Test \t R2_Score Train\n",
      "398.648310756484\t 0.6878235840048035 \t 0.999187167579117\n",
      "CCP\t R2_score Test \t R2_Score Train\n",
      "402.8521321512716\t 0.6878235840048035 \t 0.9991816114635299\n",
      "CCP\t R2_score Test \t R2_Score Train\n",
      "419.3971446921198\t 0.6878182018354568 \t 0.9991787193117616\n",
      "CCP\t R2_score Test \t R2_Score Train\n",
      "423.51400916560544\t 0.6878182018354568 \t 0.9991757987702032\n",
      "CCP\t R2_score Test \t R2_Score Train\n",
      "425.23637534351246\t 0.6878157333809927 \t 0.9991728663512526\n",
      "CCP\t R2_score Test \t R2_Score Train\n",
      "427.59770541959927\t 0.687762590302144 \t 0.9991699176486314\n",
      "CCP\t R2_score Test \t R2_Score Train\n",
      "439.8939234103476\t 0.6877650151616765 \t 0.9991668841516117\n",
      "CCP\t R2_score Test \t R2_Score Train\n",
      "443.29058760500817\t 0.6877650151616765 \t 0.9991638272312844\n",
      "CCP\t R2_score Test \t R2_Score Train\n",
      "459.31145693755326\t 0.6877650151616765 \t 0.9991606598314601\n",
      "CCP\t R2_score Test \t R2_Score Train\n",
      "465.6957883904642\t 0.6877650151616765 \t 0.9991574484054526\n",
      "CCP\t R2_score Test \t R2_Score Train\n",
      "467.6757611781854\t 0.6877650151616765 \t 0.9991542233256046\n",
      "CCP\t R2_score Test \t R2_Score Train\n",
      "477.55996046044504\t 0.6877650151616765 \t 0.999150930084576\n",
      "CCP\t R2_score Test \t R2_Score Train\n",
      "477.712478399549\t 0.6877650151616765 \t 0.9991476357917878\n",
      "CCP\t R2_score Test \t R2_Score Train\n",
      "482.02114477909583\t 0.6877650151616765 \t 0.9991409877813093\n"
     ]
    },
    {
     "name": "stdout",
     "output_type": "stream",
     "text": [
      "CCP\t R2_score Test \t R2_Score Train\n",
      "495.1410260946054\t 0.6877318331698563 \t 0.9991375733017109\n",
      "CCP\t R2_score Test \t R2_Score Train\n",
      "500.6561878403754\t 0.6875785312282989 \t 0.999134120789701\n",
      "CCP\t R2_score Test \t R2_Score Train\n",
      "512.9206209212628\t 0.6875785312282989 \t 0.9991305837024804\n",
      "CCP\t R2_score Test \t R2_Score Train\n",
      "519.1230973902087\t 0.6875785312282989 \t 0.9991234239838075\n",
      "CCP\t R2_score Test \t R2_Score Train\n",
      "520.7129993960633\t 0.6875785312282989 \t 0.9991198331605482\n",
      "CCP\t R2_score Test \t R2_Score Train\n",
      "521.873331699508\t 0.6875597928780182 \t 0.9991162343356678\n",
      "CCP\t R2_score Test \t R2_Score Train\n",
      "521.9015411424676\t 0.6875597928780182 \t 0.9991090362968436\n",
      "CCP\t R2_score Test \t R2_Score Train\n",
      "523.1986867849439\t 0.6875597928780182 \t 0.9991054283323489\n",
      "CCP\t R2_score Test \t R2_Score Train\n",
      "537.2248850848488\t 0.6875933119225431 \t 0.9990980189547646\n",
      "CCP\t R2_score Test \t R2_Score Train\n",
      "537.326143041649\t 0.6875952513048167 \t 0.9990943135677002\n",
      "CCP\t R2_score Test \t R2_Score Train\n",
      "542.1461496854146\t 0.6875670802326482 \t 0.9990905749419957\n",
      "CCP\t R2_score Test \t R2_Score Train\n",
      "548.6935383331438\t 0.6875670802326482 \t 0.99908679116567\n",
      "CCP\t R2_score Test \t R2_Score Train\n",
      "554.0009280029326\t 0.6875670802326482 \t 0.9990829707897235\n",
      "CCP\t R2_score Test \t R2_Score Train\n",
      "555.097658204153\t 0.6871612472745119 \t 0.9990791428507542\n",
      "CCP\t R2_score Test \t R2_Score Train\n",
      "560.4290962967762\t 0.6871471139536691 \t 0.9990752781463269\n",
      "CCP\t R2_score Test \t R2_Score Train\n",
      "567.6132298233576\t 0.6871471139536691 \t 0.9990713639003022\n",
      "CCP\t R2_score Test \t R2_Score Train\n",
      "572.3511524302576\t 0.6871471139536691 \t 0.9990674169816868\n",
      "CCP\t R2_score Test \t R2_Score Train\n",
      "578.5065961010828\t 0.6871471139536691 \t 0.9990634276152924\n",
      "CCP\t R2_score Test \t R2_Score Train\n",
      "593.490115171057\t 0.6871338477313502 \t 0.9990593349229415\n",
      "CCP\t R2_score Test \t R2_Score Train\n",
      "595.3900680024815\t 0.6871338477313502 \t 0.9990552291285654\n",
      "CCP\t R2_score Test \t R2_Score Train\n",
      "598.6784919237357\t 0.6871292697470892 \t 0.9990511006573037\n",
      "CCP\t R2_score Test \t R2_Score Train\n",
      "600.9253788551723\t 0.6871292697470892 \t 0.9990469566915684\n",
      "CCP\t R2_score Test \t R2_Score Train\n",
      "601.8383059991929\t 0.6871167728457533 \t 0.9990428064303112\n",
      "CCP\t R2_score Test \t R2_Score Train\n",
      "604.5190394557642\t 0.6868424515161535 \t 0.9990386376827861\n",
      "CCP\t R2_score Test \t R2_Score Train\n",
      "606.9612865198367\t 0.6868424515161535 \t 0.999034452093589\n",
      "CCP\t R2_score Test \t R2_Score Train\n",
      "616.6599094498396\t 0.6868804876040644 \t 0.9990259471522933\n",
      "CCP\t R2_score Test \t R2_Score Train\n",
      "628.5919465867375\t 0.6873842226073121 \t 0.9990216123986286\n",
      "CCP\t R2_score Test \t R2_Score Train\n",
      "631.7770572011668\t 0.6873842226073121 \t 0.9990172556805244\n",
      "CCP\t R2_score Test \t R2_Score Train\n",
      "634.2091575484735\t 0.6873842226073121 \t 0.9990128821907195\n",
      "CCP\t R2_score Test \t R2_Score Train\n",
      "636.0179313540062\t 0.6873842226073121 \t 0.9990084962276575\n",
      "CCP\t R2_score Test \t R2_Score Train\n",
      "644.3303603797755\t 0.6873842226073121 \t 0.999004052942302\n",
      "CCP\t R2_score Test \t R2_Score Train\n",
      "646.5303159989787\t 0.6873592779022186 \t 0.9989995944861099\n",
      "CCP\t R2_score Test \t R2_Score Train\n",
      "647.3829676930195\t 0.6873592779022186 \t 0.9989951301500539\n",
      "CCP\t R2_score Test \t R2_Score Train\n",
      "654.4124574635265\t 0.6873592779022186 \t 0.9989861045275858\n",
      "CCP\t R2_score Test \t R2_Score Train\n",
      "658.8531889277835\t 0.6873609753293802 \t 0.9989815610931835\n",
      "CCP\t R2_score Test \t R2_Score Train\n",
      "660.1825205648806\t 0.6873587122435671 \t 0.9989770084917449\n",
      "CCP\t R2_score Test \t R2_Score Train\n",
      "663.1657423458721\t 0.6873587122435671 \t 0.9989724353180865\n",
      "CCP\t R2_score Test \t R2_Score Train\n",
      "675.1567884717954\t 0.6873587122435671 \t 0.9989677794544871\n",
      "CCP\t R2_score Test \t R2_Score Train\n",
      "683.495555027849\t 0.6873587122435671 \t 0.998963066086971\n",
      "CCP\t R2_score Test \t R2_Score Train\n",
      "690.2139550439064\t 0.6873626890983228 \t 0.9989583063895436\n",
      "CCP\t R2_score Test \t R2_Score Train\n",
      "692.2376559057902\t 0.6873626890983228 \t 0.9989535327367279\n",
      "CCP\t R2_score Test \t R2_Score Train\n",
      "701.6505379143669\t 0.687320616208295 \t 0.9989486941729235\n",
      "CCP\t R2_score Test \t R2_Score Train\n",
      "702.8780391106376\t 0.687320616208295 \t 0.9989438471443028\n",
      "CCP\t R2_score Test \t R2_Score Train\n",
      "705.7776010210108\t 0.687320616208295 \t 0.9989389801203788\n",
      "CCP\t R2_score Test \t R2_Score Train\n",
      "709.994203469162\t 0.6873170733215648 \t 0.9989340840188744\n",
      "CCP\t R2_score Test \t R2_Score Train\n",
      "716.2047252219381\t 0.6872961709228946 \t 0.9989291450897739\n",
      "CCP\t R2_score Test \t R2_Score Train\n",
      "723.0763400347278\t 0.6872961709228946 \t 0.998924158774197\n",
      "CCP\t R2_score Test \t R2_Score Train\n",
      "724.6134746095717\t 0.6872961709228946 \t 0.9989191618585802\n",
      "CCP\t R2_score Test \t R2_Score Train\n",
      "727.0904071184489\t 0.6867879311480728 \t 0.9989141478621014\n",
      "CCP\t R2_score Test \t R2_Score Train\n",
      "736.0299997532684\t 0.6867879311480728 \t 0.9989090722184251\n",
      "CCP\t R2_score Test \t R2_Score Train\n",
      "747.2240332694744\t 0.6868041455928513 \t 0.9989039193809855\n",
      "CCP\t R2_score Test \t R2_Score Train\n",
      "753.4935561738215\t 0.6868751702805993 \t 0.9988987233090797\n",
      "CCP\t R2_score Test \t R2_Score Train\n",
      "757.8818217889113\t 0.6868665921912228 \t 0.9988934969758086\n",
      "CCP\t R2_score Test \t R2_Score Train\n",
      "766.411490600519\t 0.6868707286218831 \t 0.9988882118221639\n",
      "CCP\t R2_score Test \t R2_Score Train\n",
      "769.7609579198286\t 0.6868707286218831 \t 0.99888290357068\n",
      "CCP\t R2_score Test \t R2_Score Train\n",
      "794.2254706194681\t 0.6868707286218831 \t 0.9988774266125547\n",
      "CCP\t R2_score Test \t R2_Score Train\n",
      "821.69021702538\t 0.6868750022109458 \t 0.9988717602582549\n",
      "CCP\t R2_score Test \t R2_Score Train\n",
      "835.1862959500367\t 0.6868264019823414 \t 0.9988660008353467\n",
      "CCP\t R2_score Test \t R2_Score Train\n",
      "837.2285459825266\t 0.6868258491501591 \t 0.9988602273291356\n",
      "CCP\t R2_score Test \t R2_Score Train\n",
      "844.1252843341557\t 0.6868028640633645 \t 0.9988544062631968\n",
      "CCP\t R2_score Test \t R2_Score Train\n",
      "866.8116845679052\t 0.6868028640633645 \t 0.9988484287524338\n",
      "CCP\t R2_score Test \t R2_Score Train\n",
      "867.7565668105485\t 0.6868344013215529 \t 0.9988364606991413\n",
      "CCP\t R2_score Test \t R2_Score Train\n",
      "869.912762154921\t 0.6868556262152175 \t 0.9988304618034282\n",
      "CCP\t R2_score Test \t R2_Score Train\n",
      "883.4439240879444\t 0.6868442310889495 \t 0.9988243695971754\n",
      "CCP\t R2_score Test \t R2_Score Train\n",
      "899.6487723831398\t 0.6868540494544415 \t 0.9988181656427115\n",
      "CCP\t R2_score Test \t R2_Score Train\n",
      "903.2628165221095\t 0.6868540494544415 \t 0.9988119367658935\n",
      "CCP\t R2_score Test \t R2_Score Train\n",
      "907.8933738844711\t 0.6868540494544415 \t 0.9988056759568729\n",
      "CCP\t R2_score Test \t R2_Score Train\n",
      "921.851153643177\t 0.6868540494544415 \t 0.998799318895367\n",
      "CCP\t R2_score Test \t R2_Score Train\n",
      "931.7377107383751\t 0.6868540494544415 \t 0.9987928936564213\n",
      "CCP\t R2_score Test \t R2_Score Train\n",
      "954.6918273011959\t 0.6868540494544415 \t 0.9987863101264868\n",
      "CCP\t R2_score Test \t R2_Score Train\n",
      "964.1415920410633\t 0.6868540494544415 \t 0.998779661431221\n",
      "CCP\t R2_score Test \t R2_Score Train\n",
      "975.6287761333018\t 0.6868595470881287 \t 0.9987729335206335\n",
      "CCP\t R2_score Test \t R2_Score Train\n",
      "989.624830645543\t 0.6868218137838262 \t 0.9987661090936192\n",
      "CCP\t R2_score Test \t R2_Score Train\n",
      "989.7097024777502\t 0.6868218137838262 \t 0.998759284081331\n",
      "CCP\t R2_score Test \t R2_Score Train\n",
      "990.6821999518181\t 0.6867657342894892 \t 0.9987524523627255\n",
      "CCP\t R2_score Test \t R2_Score Train\n",
      "996.0820975448578\t 0.6867657342894892 \t 0.998745583406567\n",
      "CCP\t R2_score Test \t R2_Score Train\n",
      "1023.7881145232119\t 0.6867751666554618 \t 0.9987385233904384\n",
      "CCP\t R2_score Test \t R2_Score Train\n",
      "1030.1290387421557\t 0.6867751666554618 \t 0.9987314196474617\n",
      "CCP\t R2_score Test \t R2_Score Train\n",
      "1034.0292101114546\t 0.6868181675232011 \t 0.9987242890090051\n",
      "CCP\t R2_score Test \t R2_Score Train\n",
      "1040.8197778743101\t 0.6868181675232011 \t 0.9987171115429703\n",
      "CCP\t R2_score Test \t R2_Score Train\n",
      "1043.0916690797146\t 0.6868181675232011 \t 0.998709918410033\n",
      "CCP\t R2_score Test \t R2_Score Train\n",
      "1047.4645613607922\t 0.6868181675232011 \t 0.9987026951217446\n",
      "CCP\t R2_score Test \t R2_Score Train\n",
      "1063.1922260712945\t 0.6868181675232011 \t 0.9986953633758907\n",
      "CCP\t R2_score Test \t R2_Score Train\n",
      "1098.6669310154857\t 0.6868474171533874 \t 0.9986877869973969\n",
      "CCP\t R2_score Test \t R2_Score Train\n",
      "1099.3811354662394\t 0.6868474171533874 \t 0.998672624390139\n",
      "CCP\t R2_score Test \t R2_Score Train\n",
      "1100.7213590109468\t 0.6868476437238047 \t 0.9986650338443634\n",
      "CCP\t R2_score Test \t R2_Score Train\n",
      "1119.9738532467143\t 0.6868476437238047 \t 0.9986573105338898\n",
      "CCP\t R2_score Test \t R2_Score Train\n",
      "1127.2348363228866\t 0.6868556307327849 \t 0.9986495371518664\n",
      "CCP\t R2_score Test \t R2_Score Train\n",
      "1136.5603923135416\t 0.6868427337998654 \t 0.9986416994610522\n",
      "CCP\t R2_score Test \t R2_Score Train\n",
      "1140.7350412150504\t 0.6865514487610909 \t 0.998633832981968\n",
      "CCP\t R2_score Test \t R2_Score Train\n",
      "1240.6917473226417\t 0.6865604860316258 \t 0.9986252772040463\n",
      "CCP\t R2_score Test \t R2_Score Train\n",
      "1243.3732379983826\t 0.6866277866116833 \t 0.9986167029346347\n",
      "CCP\t R2_score Test \t R2_Score Train\n",
      "1275.8522015003568\t 0.6866277866116833 \t 0.9986079046911382\n",
      "CCP\t R2_score Test \t R2_Score Train\n",
      "1282.4229590653772\t 0.6866277866116833 \t 0.9985990611358689\n",
      "CCP\t R2_score Test \t R2_Score Train\n",
      "1334.4885614599189\t 0.6866277866116833 \t 0.998589858537564\n",
      "CCP\t R2_score Test \t R2_Score Train\n",
      "1351.6409353140582\t 0.6866277866116833 \t 0.9985805376569362\n",
      "CCP\t R2_score Test \t R2_Score Train\n",
      "1364.0526375775396\t 0.6865927351373183 \t 0.9985711311855336\n",
      "CCP\t R2_score Test \t R2_Score Train\n",
      "1388.4649700698662\t 0.6865927351373183 \t 0.9985615563673229\n",
      "CCP\t R2_score Test \t R2_Score Train\n",
      "1428.5443178480646\t 0.6865927351373183 \t 0.9985517051629755\n",
      "CCP\t R2_score Test \t R2_Score Train\n",
      "1442.5076707857984\t 0.6865927351373183 \t 0.9985417576677107\n",
      "CCP\t R2_score Test \t R2_Score Train\n",
      "1453.5201307631955\t 0.6865927351373183 \t 0.9985317342308091\n",
      "CCP\t R2_score Test \t R2_Score Train\n",
      "1455.2862470433165\t 0.6863998776044977 \t 0.9985216986148157\n",
      "CCP\t R2_score Test \t R2_Score Train\n",
      "1464.6591298396504\t 0.6863738341684504 \t 0.9985115983636671\n",
      "CCP\t R2_score Test \t R2_Score Train\n",
      "1468.1471031352235\t 0.6863762165297791 \t 0.9985014740595456\n"
     ]
    },
    {
     "name": "stdout",
     "output_type": "stream",
     "text": [
      "CCP\t R2_score Test \t R2_Score Train\n",
      "1510.9820757617192\t 0.6863799254587488 \t 0.9984910543665704\n",
      "CCP\t R2_score Test \t R2_Score Train\n",
      "1557.6240607878299\t 0.6863089431908472 \t 0.9984803130316833\n",
      "CCP\t R2_score Test \t R2_Score Train\n",
      "1567.769531847236\t 0.6863089431908472 \t 0.9984695017338924\n",
      "CCP\t R2_score Test \t R2_Score Train\n",
      "1576.095523575451\t 0.6863089431908472 \t 0.9984586330202797\n",
      "CCP\t R2_score Test \t R2_Score Train\n",
      "1596.3061131159884\t 0.6863089431908472 \t 0.9984476249349689\n",
      "CCP\t R2_score Test \t R2_Score Train\n",
      "1622.5664402765292\t 0.6863089431908472 \t 0.998436435759127\n",
      "CCP\t R2_score Test \t R2_Score Train\n",
      "1637.019198499645\t 0.6863089431908472 \t 0.9984251469174416\n",
      "CCP\t R2_score Test \t R2_Score Train\n",
      "1653.8503508686235\t 0.6868646280912918 \t 0.9984137420085684\n",
      "CCP\t R2_score Test \t R2_Score Train\n",
      "1704.2250318086622\t 0.6868646280912918 \t 0.9984019897172097\n",
      "CCP\t R2_score Test \t R2_Score Train\n",
      "1712.6837165283155\t 0.6868388106422414 \t 0.9983901790949818\n",
      "CCP\t R2_score Test \t R2_Score Train\n",
      "1731.1590553040917\t 0.6868388106422414 \t 0.9983782410672998\n",
      "CCP\t R2_score Test \t R2_Score Train\n",
      "1755.6405933101312\t 0.6868388106422414 \t 0.9983661342155703\n",
      "CCP\t R2_score Test \t R2_Score Train\n",
      "1801.356662148678\t 0.6868471666471198 \t 0.9983537121070228\n",
      "CCP\t R2_score Test \t R2_Score Train\n",
      "1802.5489956678603\t 0.6876896717248386 \t 0.9983412817761745\n",
      "CCP\t R2_score Test \t R2_Score Train\n",
      "1813.1620616272735\t 0.6876896717248386 \t 0.9983287782579001\n",
      "CCP\t R2_score Test \t R2_Score Train\n",
      "1850.2481121373335\t 0.6876896717248386 \t 0.9983160189951891\n",
      "CCP\t R2_score Test \t R2_Score Train\n",
      "1914.5758729799763\t 0.6876896717248386 \t 0.9983028161299173\n",
      "CCP\t R2_score Test \t R2_Score Train\n",
      "1918.082817079122\t 0.6862758837865273 \t 0.9982895890808506\n",
      "CCP\t R2_score Test \t R2_Score Train\n",
      "1936.0640115673682\t 0.6862758837865273 \t 0.9982762380339358\n",
      "CCP\t R2_score Test \t R2_Score Train\n",
      "1964.500691178926\t 0.686298939730396 \t 0.9982626908884203\n",
      "CCP\t R2_score Test \t R2_Score Train\n",
      "1975.6952697950542\t 0.686298939730396 \t 0.9982490665453827\n",
      "CCP\t R2_score Test \t R2_Score Train\n",
      "1991.3161300975717\t 0.686298939730396 \t 0.9982353344813\n",
      "CCP\t R2_score Test \t R2_Score Train\n",
      "2039.4764021916249\t 0.6863013930581582 \t 0.9982212703052373\n",
      "CCP\t R2_score Test \t R2_Score Train\n",
      "2140.5634817772134\t 0.6862898911550359 \t 0.998206509035311\n",
      "CCP\t R2_score Test \t R2_Score Train\n",
      "2162.2999275588672\t 0.6863133407300165 \t 0.9981915978714218\n",
      "CCP\t R2_score Test \t R2_Score Train\n",
      "2212.1248480941713\t 0.6863229393887564 \t 0.9981763431161803\n",
      "CCP\t R2_score Test \t R2_Score Train\n",
      "2215.1090680237526\t 0.6863221081672561 \t 0.998161067781836\n",
      "CCP\t R2_score Test \t R2_Score Train\n",
      "2219.472413901277\t 0.6863221081672561 \t 0.9981457623579725\n",
      "CCP\t R2_score Test \t R2_Score Train\n",
      "2231.0906428889775\t 0.6862890261776311 \t 0.9981149912722372\n",
      "CCP\t R2_score Test \t R2_Score Train\n",
      "2255.9590975820424\t 0.6873736369570089 \t 0.9980994342371549\n",
      "CCP\t R2_score Test \t R2_Score Train\n",
      "2315.182914445591\t 0.6877054825948843 \t 0.9980834687961765\n",
      "CCP\t R2_score Test \t R2_Score Train\n",
      "2473.724175419423\t 0.6876955846515744 \t 0.9980664100587985\n",
      "CCP\t R2_score Test \t R2_Score Train\n",
      "2552.1587582655325\t 0.6876955846515744 \t 0.9980488104385835\n",
      "CCP\t R2_score Test \t R2_Score Train\n",
      "2664.863643859659\t 0.687740449633668 \t 0.9980304336084177\n",
      "CCP\t R2_score Test \t R2_Score Train\n",
      "2670.1156499874946\t 0.687740449633668 \t 0.9980120205605546\n",
      "CCP\t R2_score Test \t R2_Score Train\n",
      "2685.172787388694\t 0.687740449633668 \t 0.9979935036790649\n",
      "CCP\t R2_score Test \t R2_Score Train\n",
      "2694.0205128091484\t 0.6877006219228947 \t 0.9979749257838915\n",
      "CCP\t R2_score Test \t R2_Score Train\n",
      "2712.4628620998956\t 0.6877006219228947 \t 0.9979562207107585\n",
      "CCP\t R2_score Test \t R2_Score Train\n",
      "2795.6678299711043\t 0.6875296829407644 \t 0.9979369418583378\n",
      "CCP\t R2_score Test \t R2_Score Train\n",
      "2990.2498060612447\t 0.6875227649187611 \t 0.9979163211736862\n",
      "CCP\t R2_score Test \t R2_Score Train\n",
      "3020.7722324356187\t 0.6875197548553954 \t 0.9978954900071787\n",
      "CCP\t R2_score Test \t R2_Score Train\n",
      "3117.7689189543066\t 0.6874071639705265 \t 0.9978524899009242\n",
      "CCP\t R2_score Test \t R2_Score Train\n",
      "3155.8202141224347\t 0.6873515454043135 \t 0.9978307274470583\n",
      "CCP\t R2_score Test \t R2_Score Train\n",
      "3262.5866750491614\t 0.6873749564814708 \t 0.9978082287344631\n",
      "CCP\t R2_score Test \t R2_Score Train\n",
      "3267.093179542002\t 0.6873463652793245 \t 0.9977856989451304\n",
      "CCP\t R2_score Test \t R2_Score Train\n",
      "3373.9137218843066\t 0.6873761921976889 \t 0.9977624325241246\n",
      "CCP\t R2_score Test \t R2_Score Train\n",
      "3380.3015086090886\t 0.6873439479434412 \t 0.9977391220531082\n",
      "CCP\t R2_score Test \t R2_Score Train\n",
      "3435.2680517541276\t 0.6873583901369 \t 0.9977154325342442\n",
      "CCP\t R2_score Test \t R2_Score Train\n",
      "3450.187252647383\t 0.6872826028733382 \t 0.9976916401329602\n",
      "CCP\t R2_score Test \t R2_Score Train\n",
      "3507.4767378431275\t 0.6872826028733382 \t 0.9976674526648808\n",
      "CCP\t R2_score Test \t R2_Score Train\n",
      "3613.3491699274236\t 0.6872635015050604 \t 0.9976425351032717\n",
      "CCP\t R2_score Test \t R2_Score Train\n",
      "3653.528638181001\t 0.6879905391407835 \t 0.9976173404650979\n",
      "CCP\t R2_score Test \t R2_Score Train\n",
      "3685.589751887882\t 0.6878871319466482 \t 0.9975919247343203\n",
      "CCP\t R2_score Test \t R2_Score Train\n",
      "3776.5411973161954\t 0.68783251488581 \t 0.9975658818047479\n",
      "CCP\t R2_score Test \t R2_Score Train\n",
      "3972.274247303951\t 0.6879014521439014 \t 0.9975384891051691\n",
      "CCP\t R2_score Test \t R2_Score Train\n",
      "4173.982288610104\t 0.6876772123998366 \t 0.9975097054321997\n",
      "CCP\t R2_score Test \t R2_Score Train\n",
      "4209.376140387351\t 0.6874063864558134 \t 0.9974806776841518\n",
      "CCP\t R2_score Test \t R2_Score Train\n",
      "4216.129365183191\t 0.6873026384506891 \t 0.9974516033660419\n",
      "CCP\t R2_score Test \t R2_Score Train\n",
      "4326.822576716419\t 0.6873042013260451 \t 0.9974217657104332\n",
      "CCP\t R2_score Test \t R2_Score Train\n",
      "4343.1430034801815\t 0.6873042013260451 \t 0.9973918155095871\n",
      "CCP\t R2_score Test \t R2_Score Train\n",
      "4613.466683614046\t 0.6866290512137763 \t 0.9973600011636953\n",
      "CCP\t R2_score Test \t R2_Score Train\n",
      "4766.195695446377\t 0.686673374790751 \t 0.9973271336025223\n",
      "CCP\t R2_score Test \t R2_Score Train\n",
      "4824.390168848525\t 0.6899496465128361 \t 0.997293864733779\n",
      "CCP\t R2_score Test \t R2_Score Train\n",
      "5030.191728710534\t 0.6899496465128361 \t 0.9972591766628479\n",
      "CCP\t R2_score Test \t R2_Score Train\n",
      "5132.0863360748735\t 0.6899496465128361 \t 0.9972237859293628\n",
      "CCP\t R2_score Test \t R2_Score Train\n",
      "5204.004093083333\t 0.6899416102610242 \t 0.9971878992529014\n",
      "CCP\t R2_score Test \t R2_Score Train\n",
      "5547.634225804693\t 0.6899416102610242 \t 0.9971496429120097\n",
      "CCP\t R2_score Test \t R2_Score Train\n",
      "5619.988732530528\t 0.6899416102610242 \t 0.9971108876163272\n",
      "CCP\t R2_score Test \t R2_Score Train\n",
      "5772.234526025645\t 0.6899416102610242 \t 0.9970710824376245\n",
      "CCP\t R2_score Test \t R2_Score Train\n",
      "5799.924820288471\t 0.6899416102610242 \t 0.997031086307375\n",
      "CCP\t R2_score Test \t R2_Score Train\n",
      "5801.789638624239\t 0.6899416102610242 \t 0.996991077317387\n",
      "CCP\t R2_score Test \t R2_Score Train\n",
      "5981.382618621722\t 0.689925181942971 \t 0.9969498298588942\n",
      "CCP\t R2_score Test \t R2_Score Train\n",
      "6021.898956301749\t 0.6899955257526047 \t 0.9968252492845929\n",
      "CCP\t R2_score Test \t R2_Score Train\n",
      "6089.206634242174\t 0.6899690689935791 \t 0.9966572852442269\n",
      "CCP\t R2_score Test \t R2_Score Train\n",
      "6142.473527510734\t 0.6900585753759527 \t 0.996614926907029\n",
      "CCP\t R2_score Test \t R2_Score Train\n",
      "6250.566432407529\t 0.6900585753759527 \t 0.996571823163979\n",
      "CCP\t R2_score Test \t R2_Score Train\n",
      "6267.25488275946\t 0.6900585753759527 \t 0.9965286043378107\n",
      "CCP\t R2_score Test \t R2_Score Train\n",
      "6720.733213023637\t 0.6894364258264124 \t 0.9964822583369074\n",
      "CCP\t R2_score Test \t R2_Score Train\n",
      "8030.124952573515\t 0.6894595430256688 \t 0.9964268828047281\n",
      "CCP\t R2_score Test \t R2_Score Train\n",
      "8314.592505453431\t 0.6876267534340483 \t 0.9963695455917257\n",
      "CCP\t R2_score Test \t R2_Score Train\n",
      "9118.301014623477\t 0.6875312112507743 \t 0.9963066660258116\n",
      "CCP\t R2_score Test \t R2_Score Train\n",
      "9631.97374939072\t 0.6875312112507743 \t 0.9962402441861195\n",
      "CCP\t R2_score Test \t R2_Score Train\n",
      "10051.06007044438\t 0.6875839623821447 \t 0.9961709323380905\n",
      "CCP\t R2_score Test \t R2_Score Train\n",
      "10271.36459134706\t 0.6875839623821447 \t 0.9960292702135753\n",
      "CCP\t R2_score Test \t R2_Score Train\n",
      "10558.323289779333\t 0.6875839623821447 \t 0.9959564602916198\n",
      "CCP\t R2_score Test \t R2_Score Train\n",
      "10850.361011410758\t 0.6875839623821447 \t 0.9957319888722241\n",
      "CCP\t R2_score Test \t R2_Score Train\n",
      "11389.79170759047\t 0.6875839623821447 \t 0.995653445165751\n",
      "CCP\t R2_score Test \t R2_Score Train\n",
      "12601.47375573599\t 0.6873609815947741 \t 0.9955665457314848\n",
      "CCP\t R2_score Test \t R2_Score Train\n",
      "12623.92693471869\t 0.6879258032368594 \t 0.9954794914606822\n",
      "CCP\t R2_score Test \t R2_Score Train\n",
      "12786.639773178536\t 0.6873372849467503 \t 0.9953913151263905\n",
      "CCP\t R2_score Test \t R2_Score Train\n",
      "13466.460963107622\t 0.6930598042736967 \t 0.9952984507629085\n",
      "CCP\t R2_score Test \t R2_Score Train\n",
      "13885.016577549235\t 0.6930598042736967 \t 0.9952027000508288\n",
      "CCP\t R2_score Test \t R2_Score Train\n",
      "14539.112088472895\t 0.6930537376524071 \t 0.9951024387131701\n",
      "CCP\t R2_score Test \t R2_Score Train\n",
      "14617.583225070543\t 0.6926161898371702 \t 0.9950016362406006\n",
      "CCP\t R2_score Test \t R2_Score Train\n",
      "15557.694502124457\t 0.6957233619424131 \t 0.9948943507851906\n",
      "CCP\t R2_score Test \t R2_Score Train\n",
      "15688.656574676603\t 0.6945609715008474 \t 0.9947861622187452\n",
      "CCP\t R2_score Test \t R2_Score Train\n",
      "15707.171840425852\t 0.6984347269666824 \t 0.994244580982569\n",
      "CCP\t R2_score Test \t R2_Score Train\n",
      "15993.148228078584\t 0.6984347269666824 \t 0.994134292649625\n",
      "CCP\t R2_score Test \t R2_Score Train\n",
      "16134.725709705654\t 0.6982226059264492 \t 0.993911763354498\n",
      "CCP\t R2_score Test \t R2_Score Train\n",
      "17364.564564054985\t 0.6979630464903752 \t 0.9937920177702795\n",
      "CCP\t R2_score Test \t R2_Score Train\n",
      "19171.031826479615\t 0.6979630464903752 \t 0.9935276118996151\n",
      "CCP\t R2_score Test \t R2_Score Train\n",
      "19246.806542269267\t 0.6980096214257683 \t 0.9933948864238197\n",
      "CCP\t R2_score Test \t R2_Score Train\n",
      "21044.41783856262\t 0.6990781313726422 \t 0.9929595211546266\n",
      "CCP\t R2_score Test \t R2_Score Train\n",
      "22315.980825261093\t 0.69909183601002 \t 0.9926517403114649\n",
      "CCP\t R2_score Test \t R2_Score Train\n",
      "22608.598432276332\t 0.69909183601002 \t 0.9924958320064994\n"
     ]
    },
    {
     "name": "stdout",
     "output_type": "stream",
     "text": [
      "CCP\t R2_score Test \t R2_Score Train\n",
      "23717.887128079652\t 0.6989385396016912 \t 0.9923322740756279\n",
      "CCP\t R2_score Test \t R2_Score Train\n",
      "24997.4387807\t 0.6988609637738799 \t 0.9918151290185687\n",
      "CCP\t R2_score Test \t R2_Score Train\n",
      "25374.67451090665\t 0.6988609637738799 \t 0.9916401459251284\n",
      "CCP\t R2_score Test \t R2_Score Train\n",
      "25396.687123295396\t 0.7035012752292962 \t 0.9911147412496051\n",
      "CCP\t R2_score Test \t R2_Score Train\n",
      "25408.514434251112\t 0.7035045652193164 \t 0.9909395247969363\n",
      "CCP\t R2_score Test \t R2_Score Train\n",
      "25453.102247914405\t 0.70343809765259 \t 0.9907640008678675\n",
      "CCP\t R2_score Test \t R2_Score Train\n",
      "26263.138542676854\t 0.70343809765259 \t 0.990401781031418\n",
      "CCP\t R2_score Test \t R2_Score Train\n",
      "27990.678063637937\t 0.70343809765259 \t 0.9900157350600332\n",
      "CCP\t R2_score Test \t R2_Score Train\n",
      "28148.606038713377\t 0.7162030474572838 \t 0.9898216230071447\n",
      "CCP\t R2_score Test \t R2_Score Train\n",
      "28630.141169402337\t 0.7160962389518497 \t 0.9896241903005576\n",
      "CCP\t R2_score Test \t R2_Score Train\n",
      "30952.520827062486\t 0.7160962389518497 \t 0.9894107425244385\n",
      "CCP\t R2_score Test \t R2_Score Train\n",
      "31352.400988144138\t 0.7161699488270356 \t 0.9891945371851611\n",
      "CCP\t R2_score Test \t R2_Score Train\n",
      "32232.948959927104\t 0.7159986515265113 \t 0.9878608717344484\n",
      "CCP\t R2_score Test \t R2_Score Train\n",
      "34914.93714482474\t 0.7159663089893423 \t 0.9876200992387755\n",
      "CCP\t R2_score Test \t R2_Score Train\n",
      "39475.07179279224\t 0.7096762221700055 \t 0.9873478801735373\n",
      "CCP\t R2_score Test \t R2_Score Train\n",
      "39982.93238216886\t 0.7142688240065962 \t 0.9867964376563109\n",
      "CCP\t R2_score Test \t R2_Score Train\n",
      "42952.547138867965\t 0.7030382343365602 \t 0.9862040383673054\n",
      "CCP\t R2_score Test \t R2_Score Train\n",
      "44874.100796321814\t 0.704465448330992 \t 0.9852756864821233\n",
      "CCP\t R2_score Test \t R2_Score Train\n",
      "45468.74096903076\t 0.7066796057525135 \t 0.9849621352306115\n",
      "CCP\t R2_score Test \t R2_Score Train\n",
      "46732.730521408375\t 0.7066796057525135 \t 0.9843175998496326\n",
      "CCP\t R2_score Test \t R2_Score Train\n",
      "51584.426188595964\t 0.7116124648446763 \t 0.9836061501351587\n",
      "CCP\t R2_score Test \t R2_Score Train\n",
      "52699.8116141233\t 0.7116124648446763 \t 0.9825159005570607\n",
      "CCP\t R2_score Test \t R2_Score Train\n",
      "55421.23038051885\t 0.7118002339980992 \t 0.9817515338393648\n",
      "CCP\t R2_score Test \t R2_Score Train\n",
      "55853.929981768844\t 0.7120429164870734 \t 0.9809811993513451\n",
      "CCP\t R2_score Test \t R2_Score Train\n",
      "56109.744546454276\t 0.7120429164870734 \t 0.9802073366821971\n",
      "CCP\t R2_score Test \t R2_Score Train\n",
      "57735.18535803596\t 0.7126230565946481 \t 0.9790129156861809\n",
      "CCP\t R2_score Test \t R2_Score Train\n",
      "60566.57816421165\t 0.7126167783648273 \t 0.9773422535144607\n",
      "CCP\t R2_score Test \t R2_Score Train\n",
      "61511.431853484595\t 0.7125936696706127 \t 0.9764938910558179\n",
      "CCP\t R2_score Test \t R2_Score Train\n",
      "63237.43081079004\t 0.7123362181115469 \t 0.9738773890172037\n",
      "CCP\t R2_score Test \t R2_Score Train\n",
      "63485.67147294074\t 0.7116507431179702 \t 0.9734395934829714\n",
      "CCP\t R2_score Test \t R2_Score Train\n",
      "64039.58804612044\t 0.7120444684729204 \t 0.972114747497561\n",
      "CCP\t R2_score Test \t R2_Score Train\n",
      "67496.48267842252\t 0.7120444684729204 \t 0.9711838395302224\n",
      "CCP\t R2_score Test \t R2_Score Train\n",
      "68554.80789475403\t 0.7120444684729204 \t 0.9697655830299692\n",
      "CCP\t R2_score Test \t R2_Score Train\n",
      "70459.11780492555\t 0.711775746494192 \t 0.9687938145535472\n",
      "CCP\t R2_score Test \t R2_Score Train\n",
      "70645.71414941637\t 0.711775746494192 \t 0.9683066435518126\n",
      "CCP\t R2_score Test \t R2_Score Train\n",
      "71158.07086216347\t 0.711775746494192 \t 0.9673252351512943\n",
      "CCP\t R2_score Test \t R2_Score Train\n",
      "73856.05428409312\t 0.7158317137347537 \t 0.966815925727744\n",
      "CCP\t R2_score Test \t R2_Score Train\n",
      "74119.3260632323\t 0.7146018948531445 \t 0.965282550911131\n",
      "CCP\t R2_score Test \t R2_Score Train\n",
      "76097.53741568365\t 0.7144326485003646 \t 0.9642330176456331\n",
      "CCP\t R2_score Test \t R2_Score Train\n",
      "76603.44189006461\t 0.7158631646825995 \t 0.9626482516352151\n",
      "CCP\t R2_score Test \t R2_Score Train\n",
      "76781.41390992406\t 0.7366818150718428 \t 0.9605303211263672\n",
      "CCP\t R2_score Test \t R2_Score Train\n",
      "77492.63539121884\t 0.7368770303079536 \t 0.9594615467423827\n",
      "CCP\t R2_score Test \t R2_Score Train\n",
      "78719.53940673584\t 0.7539539220078777 \t 0.9572901551820818\n",
      "CCP\t R2_score Test \t R2_Score Train\n",
      "81565.42151939524\t 0.7539539220078777 \t 0.9556027361254438\n",
      "CCP\t R2_score Test \t R2_Score Train\n",
      "82454.41004224675\t 0.7539431159280288 \t 0.9544655292043627\n",
      "CCP\t R2_score Test \t R2_Score Train\n",
      "84977.74045932412\t 0.7538297514863859 \t 0.9538795249230958\n",
      "CCP\t R2_score Test \t R2_Score Train\n",
      "85788.01740768885\t 0.7533349012222816 \t 0.9521047491332042\n",
      "CCP\t R2_score Test \t R2_Score Train\n",
      "86458.20972751772\t 0.7792711237290506 \t 0.9491236813396184\n",
      "CCP\t R2_score Test \t R2_Score Train\n",
      "88339.73328502434\t 0.7792711237290506 \t 0.9479053043474513\n",
      "CCP\t R2_score Test \t R2_Score Train\n",
      "89736.6672168019\t 0.7792711237290506 \t 0.9460488391993517\n",
      "CCP\t R2_score Test \t R2_Score Train\n",
      "89956.34838661007\t 0.7803993724222406 \t 0.9454285025677025\n",
      "CCP\t R2_score Test \t R2_Score Train\n",
      "90663.84710759996\t 0.7808828846693012 \t 0.944803287043331\n",
      "CCP\t R2_score Test \t R2_Score Train\n",
      "93006.21483086352\t 0.7911426876241728 \t 0.9409550764568375\n",
      "CCP\t R2_score Test \t R2_Score Train\n",
      "96262.8599184122\t 0.791816470963429 \t 0.9396274241155474\n",
      "CCP\t R2_score Test \t R2_Score Train\n",
      "97566.18187595857\t 0.7916819549905045 \t 0.9369361687360971\n",
      "CCP\t R2_score Test \t R2_Score Train\n",
      "100948.04356348087\t 0.7919656614039564 \t 0.9341516284367688\n",
      "CCP\t R2_score Test \t R2_Score Train\n",
      "102630.40060909267\t 0.7912562782801043 \t 0.9291974724808695\n",
      "CCP\t R2_score Test \t R2_Score Train\n",
      "102756.6252299549\t 0.8048856848964647 \t 0.9277802584672277\n",
      "CCP\t R2_score Test \t R2_Score Train\n",
      "103096.69063129023\t 0.8037476841611104 \t 0.9270693063782706\n",
      "CCP\t R2_score Test \t R2_Score Train\n",
      "103156.48984919823\t 0.8189811210112321 \t 0.9235124840642537\n",
      "CCP\t R2_score Test \t R2_Score Train\n",
      "105490.9905156417\t 0.8189811210112321 \t 0.9227850209457582\n",
      "CCP\t R2_score Test \t R2_Score Train\n",
      "105954.09271531546\t 0.8141259833764315 \t 0.9220543642865752\n",
      "CCP\t R2_score Test \t R2_Score Train\n",
      "123541.34907464357\t 0.8142134999798488 \t 0.9203504884461514\n",
      "CCP\t R2_score Test \t R2_Score Train\n",
      "124234.06007562188\t 0.8265525605023236 \t 0.9066430510509054\n",
      "CCP\t R2_score Test \t R2_Score Train\n",
      "136718.20870106563\t 0.8264737242618725 \t 0.9038146354496112\n",
      "CCP\t R2_score Test \t R2_Score Train\n",
      "149478.44072007778\t 0.8315148638292189 \t 0.8955682400292964\n",
      "CCP\t R2_score Test \t R2_Score Train\n",
      "151150.0291668086\t 0.8315148638292189 \t 0.8934835867135787\n",
      "CCP\t R2_score Test \t R2_Score Train\n",
      "151245.4198138723\t 0.8322730650552279 \t 0.8903546333057624\n",
      "CCP\t R2_score Test \t R2_Score Train\n",
      "162200.9636798473\t 0.8301329885703115 \t 0.8892360996918038\n",
      "CCP\t R2_score Test \t R2_Score Train\n",
      "172598.24178726613\t 0.8301329885703115 \t 0.8868556337467276\n",
      "CCP\t R2_score Test \t R2_Score Train\n",
      "188590.97116362327\t 0.8301329885703115 \t 0.8842545969125449\n",
      "CCP\t R2_score Test \t R2_Score Train\n",
      "194772.74977275677\t 0.8381741803505519 \t 0.8829114491114383\n",
      "CCP\t R2_score Test \t R2_Score Train\n",
      "202172.30953293713\t 0.8412106841029728 \t 0.8787289241949298\n",
      "CCP\t R2_score Test \t R2_Score Train\n",
      "202972.73478975054\t 0.8420908943476821 \t 0.8773292295110708\n",
      "CCP\t R2_score Test \t R2_Score Train\n",
      "214074.94674214534\t 0.8434155908412201 \t 0.8758529742632285\n",
      "CCP\t R2_score Test \t R2_Score Train\n",
      "219175.86474596546\t 0.8430082094555971 \t 0.8728301121725854\n",
      "CCP\t R2_score Test \t R2_Score Train\n",
      "251848.30209413776\t 0.8572102671144173 \t 0.8676198942098852\n",
      "CCP\t R2_score Test \t R2_Score Train\n",
      "257940.08686240378\t 0.8532281798947955 \t 0.865841146100148\n",
      "CCP\t R2_score Test \t R2_Score Train\n",
      "275787.56317381083\t 0.8531826309545867 \t 0.8639393222593826\n",
      "CCP\t R2_score Test \t R2_Score Train\n",
      "295639.5280240206\t 0.8491692853019615 \t 0.8598618773144509\n",
      "CCP\t R2_score Test \t R2_Score Train\n",
      "317314.5212223232\t 0.849688966717352 \t 0.8576736846543573\n",
      "CCP\t R2_score Test \t R2_Score Train\n",
      "753457.0645228885\t 0.8441693099478393 \t 0.8524778643939623\n",
      "CCP\t R2_score Test \t R2_Score Train\n",
      "1015780.8873558871\t 0.8358690183200341 \t 0.8454730658949422\n",
      "CCP\t R2_score Test \t R2_Score Train\n",
      "1101512.3928771392\t 0.8259643748387498 \t 0.8378770651704519\n",
      "CCP\t R2_score Test \t R2_Score Train\n",
      "1478032.008598316\t 0.8219563613353702 \t 0.827684594998777\n",
      "CCP\t R2_score Test \t R2_Score Train\n",
      "9549779.204651136\t 0.775100916220771 \t 0.7618295667427886\n",
      "CCP\t R2_score Test \t R2_Score Train\n",
      "20386568.82324647\t 0.6017466333209276 \t 0.6212443199924104\n",
      "CCP\t R2_score Test \t R2_Score Train\n",
      "90087974.22437862\t -0.01597585593625994 \t 2.220446049250313e-16\n"
     ]
    },
    {
     "data": {
      "text/plain": [
       "'Cost complexity Pruning Done Successfully'"
      ]
     },
     "execution_count": 61,
     "metadata": {},
     "output_type": "execute_result"
    }
   ],
   "source": [
    "ccp_dict = post_pruning(decision_tree_model,x_train,y_train,x_test,y_test)\n",
    "ccp_dict"
   ]
  },
  {
   "cell_type": "code",
   "execution_count": 62,
   "id": "598218a3",
   "metadata": {},
   "outputs": [
    {
     "data": {
      "text/html": [
       "<style>#sk-container-id-6 {color: black;background-color: white;}#sk-container-id-6 pre{padding: 0;}#sk-container-id-6 div.sk-toggleable {background-color: white;}#sk-container-id-6 label.sk-toggleable__label {cursor: pointer;display: block;width: 100%;margin-bottom: 0;padding: 0.3em;box-sizing: border-box;text-align: center;}#sk-container-id-6 label.sk-toggleable__label-arrow:before {content: \"▸\";float: left;margin-right: 0.25em;color: #696969;}#sk-container-id-6 label.sk-toggleable__label-arrow:hover:before {color: black;}#sk-container-id-6 div.sk-estimator:hover label.sk-toggleable__label-arrow:before {color: black;}#sk-container-id-6 div.sk-toggleable__content {max-height: 0;max-width: 0;overflow: hidden;text-align: left;background-color: #f0f8ff;}#sk-container-id-6 div.sk-toggleable__content pre {margin: 0.2em;color: black;border-radius: 0.25em;background-color: #f0f8ff;}#sk-container-id-6 input.sk-toggleable__control:checked~div.sk-toggleable__content {max-height: 200px;max-width: 100%;overflow: auto;}#sk-container-id-6 input.sk-toggleable__control:checked~label.sk-toggleable__label-arrow:before {content: \"▾\";}#sk-container-id-6 div.sk-estimator input.sk-toggleable__control:checked~label.sk-toggleable__label {background-color: #d4ebff;}#sk-container-id-6 div.sk-label input.sk-toggleable__control:checked~label.sk-toggleable__label {background-color: #d4ebff;}#sk-container-id-6 input.sk-hidden--visually {border: 0;clip: rect(1px 1px 1px 1px);clip: rect(1px, 1px, 1px, 1px);height: 1px;margin: -1px;overflow: hidden;padding: 0;position: absolute;width: 1px;}#sk-container-id-6 div.sk-estimator {font-family: monospace;background-color: #f0f8ff;border: 1px dotted black;border-radius: 0.25em;box-sizing: border-box;margin-bottom: 0.5em;}#sk-container-id-6 div.sk-estimator:hover {background-color: #d4ebff;}#sk-container-id-6 div.sk-parallel-item::after {content: \"\";width: 100%;border-bottom: 1px solid gray;flex-grow: 1;}#sk-container-id-6 div.sk-label:hover label.sk-toggleable__label {background-color: #d4ebff;}#sk-container-id-6 div.sk-serial::before {content: \"\";position: absolute;border-left: 1px solid gray;box-sizing: border-box;top: 0;bottom: 0;left: 50%;z-index: 0;}#sk-container-id-6 div.sk-serial {display: flex;flex-direction: column;align-items: center;background-color: white;padding-right: 0.2em;padding-left: 0.2em;position: relative;}#sk-container-id-6 div.sk-item {position: relative;z-index: 1;}#sk-container-id-6 div.sk-parallel {display: flex;align-items: stretch;justify-content: center;background-color: white;position: relative;}#sk-container-id-6 div.sk-item::before, #sk-container-id-6 div.sk-parallel-item::before {content: \"\";position: absolute;border-left: 1px solid gray;box-sizing: border-box;top: 0;bottom: 0;left: 50%;z-index: -1;}#sk-container-id-6 div.sk-parallel-item {display: flex;flex-direction: column;z-index: 1;position: relative;background-color: white;}#sk-container-id-6 div.sk-parallel-item:first-child::after {align-self: flex-end;width: 50%;}#sk-container-id-6 div.sk-parallel-item:last-child::after {align-self: flex-start;width: 50%;}#sk-container-id-6 div.sk-parallel-item:only-child::after {width: 0;}#sk-container-id-6 div.sk-dashed-wrapped {border: 1px dashed gray;margin: 0 0.4em 0.5em 0.4em;box-sizing: border-box;padding-bottom: 0.4em;background-color: white;}#sk-container-id-6 div.sk-label label {font-family: monospace;font-weight: bold;display: inline-block;line-height: 1.2em;}#sk-container-id-6 div.sk-label-container {text-align: center;}#sk-container-id-6 div.sk-container {/* jupyter's `normalize.less` sets `[hidden] { display: none; }` but bootstrap.min.css set `[hidden] { display: none !important; }` so we also need the `!important` here to be able to override the default hidden behavior on the sphinx rendered scikit-learn.org. See: https://github.com/scikit-learn/scikit-learn/issues/21755 */display: inline-block !important;position: relative;}#sk-container-id-6 div.sk-text-repr-fallback {display: none;}</style><div id=\"sk-container-id-6\" class=\"sk-top-container\"><div class=\"sk-text-repr-fallback\"><pre>DecisionTreeRegressor(ccp_alpha=305205.03274312284, random_state=20)</pre><b>In a Jupyter environment, please rerun this cell to show the HTML representation or trust the notebook. <br />On GitHub, the HTML representation is unable to render, please try loading this page with nbviewer.org.</b></div><div class=\"sk-container\" hidden><div class=\"sk-item\"><div class=\"sk-estimator sk-toggleable\"><input class=\"sk-toggleable__control sk-hidden--visually\" id=\"sk-estimator-id-6\" type=\"checkbox\" checked><label for=\"sk-estimator-id-6\" class=\"sk-toggleable__label sk-toggleable__label-arrow\">DecisionTreeRegressor</label><div class=\"sk-toggleable__content\"><pre>DecisionTreeRegressor(ccp_alpha=305205.03274312284, random_state=20)</pre></div></div></div></div></div>"
      ],
      "text/plain": [
       "DecisionTreeRegressor(ccp_alpha=305205.03274312284, random_state=20)"
      ]
     },
     "execution_count": 62,
     "metadata": {},
     "output_type": "execute_result"
    }
   ],
   "source": [
    "prunned_model = DecisionTreeRegressor(ccp_alpha=305205.03274312284,random_state=20)\n",
    "prunned_model.fit(x_train,y_train)"
   ]
  },
  {
   "cell_type": "markdown",
   "id": "8d2d5b25",
   "metadata": {},
   "source": [
    "# Prunned Model Testing Accuracy :-"
   ]
  },
  {
   "cell_type": "code",
   "execution_count": 63,
   "id": "2e52cd4a",
   "metadata": {},
   "outputs": [
    {
     "name": "stdout",
     "output_type": "stream",
     "text": [
      "Mean Squared Error = 23834834.1580252\n",
      "Root Mean Squared Error = 4882.093214802971\n",
      "R2-Squared Error = 84.91692853019615\n",
      "Adjusted R2-Squared  Error = 84.32774605090694\n"
     ]
    },
    {
     "data": {
      "text/plain": [
       "'All result Printed'"
      ]
     },
     "execution_count": 63,
     "metadata": {},
     "output_type": "execute_result"
    }
   ],
   "source": [
    "y_predict_Prunned_tree = prunned_model.predict(x_test)\n",
    "result_Prunned_tree =  test_vallidation(y_test,y_predict_Prunned_tree,x_test)\n",
    "printin_accuracy(result_Prunned_tree)"
   ]
  },
  {
   "cell_type": "markdown",
   "id": "70288be1",
   "metadata": {},
   "source": [
    "# Prunned Model Training Accuracy :-"
   ]
  },
  {
   "cell_type": "code",
   "execution_count": 64,
   "id": "615224c5",
   "metadata": {},
   "outputs": [
    {
     "name": "stdout",
     "output_type": "stream",
     "text": [
      "Mean Squared Error = 20321730.401499443\n",
      "Root Mean Squared Error = 4507.9629991271495\n",
      "R2-Squared Error = 85.98618773144509\n",
      "Adjusted R2-Squared  Error = 85.92769936638433\n"
     ]
    },
    {
     "data": {
      "text/plain": [
       "'All result Printed'"
      ]
     },
     "execution_count": 64,
     "metadata": {},
     "output_type": "execute_result"
    }
   ],
   "source": [
    "y_predict1_Prunned_tree = prunned_model.predict(x_train)\n",
    "result_Prunned_tree_train =  test_vallidation(y_train,y_predict1_Prunned_tree,x_train)\n",
    "printin_accuracy(result_Prunned_tree_train)"
   ]
  },
  {
   "cell_type": "raw",
   "id": "eeaf0556",
   "metadata": {},
   "source": [
    "After applying the both model we have genralised model which has low bias and low varience which is genralised model."
   ]
  },
  {
   "cell_type": "markdown",
   "id": "948ebf6f",
   "metadata": {},
   "source": [
    "# Random Forest decsion Tree :-"
   ]
  },
  {
   "cell_type": "code",
   "execution_count": 65,
   "id": "f8a71582",
   "metadata": {},
   "outputs": [
    {
     "data": {
      "text/html": [
       "<style>#sk-container-id-7 {color: black;background-color: white;}#sk-container-id-7 pre{padding: 0;}#sk-container-id-7 div.sk-toggleable {background-color: white;}#sk-container-id-7 label.sk-toggleable__label {cursor: pointer;display: block;width: 100%;margin-bottom: 0;padding: 0.3em;box-sizing: border-box;text-align: center;}#sk-container-id-7 label.sk-toggleable__label-arrow:before {content: \"▸\";float: left;margin-right: 0.25em;color: #696969;}#sk-container-id-7 label.sk-toggleable__label-arrow:hover:before {color: black;}#sk-container-id-7 div.sk-estimator:hover label.sk-toggleable__label-arrow:before {color: black;}#sk-container-id-7 div.sk-toggleable__content {max-height: 0;max-width: 0;overflow: hidden;text-align: left;background-color: #f0f8ff;}#sk-container-id-7 div.sk-toggleable__content pre {margin: 0.2em;color: black;border-radius: 0.25em;background-color: #f0f8ff;}#sk-container-id-7 input.sk-toggleable__control:checked~div.sk-toggleable__content {max-height: 200px;max-width: 100%;overflow: auto;}#sk-container-id-7 input.sk-toggleable__control:checked~label.sk-toggleable__label-arrow:before {content: \"▾\";}#sk-container-id-7 div.sk-estimator input.sk-toggleable__control:checked~label.sk-toggleable__label {background-color: #d4ebff;}#sk-container-id-7 div.sk-label input.sk-toggleable__control:checked~label.sk-toggleable__label {background-color: #d4ebff;}#sk-container-id-7 input.sk-hidden--visually {border: 0;clip: rect(1px 1px 1px 1px);clip: rect(1px, 1px, 1px, 1px);height: 1px;margin: -1px;overflow: hidden;padding: 0;position: absolute;width: 1px;}#sk-container-id-7 div.sk-estimator {font-family: monospace;background-color: #f0f8ff;border: 1px dotted black;border-radius: 0.25em;box-sizing: border-box;margin-bottom: 0.5em;}#sk-container-id-7 div.sk-estimator:hover {background-color: #d4ebff;}#sk-container-id-7 div.sk-parallel-item::after {content: \"\";width: 100%;border-bottom: 1px solid gray;flex-grow: 1;}#sk-container-id-7 div.sk-label:hover label.sk-toggleable__label {background-color: #d4ebff;}#sk-container-id-7 div.sk-serial::before {content: \"\";position: absolute;border-left: 1px solid gray;box-sizing: border-box;top: 0;bottom: 0;left: 50%;z-index: 0;}#sk-container-id-7 div.sk-serial {display: flex;flex-direction: column;align-items: center;background-color: white;padding-right: 0.2em;padding-left: 0.2em;position: relative;}#sk-container-id-7 div.sk-item {position: relative;z-index: 1;}#sk-container-id-7 div.sk-parallel {display: flex;align-items: stretch;justify-content: center;background-color: white;position: relative;}#sk-container-id-7 div.sk-item::before, #sk-container-id-7 div.sk-parallel-item::before {content: \"\";position: absolute;border-left: 1px solid gray;box-sizing: border-box;top: 0;bottom: 0;left: 50%;z-index: -1;}#sk-container-id-7 div.sk-parallel-item {display: flex;flex-direction: column;z-index: 1;position: relative;background-color: white;}#sk-container-id-7 div.sk-parallel-item:first-child::after {align-self: flex-end;width: 50%;}#sk-container-id-7 div.sk-parallel-item:last-child::after {align-self: flex-start;width: 50%;}#sk-container-id-7 div.sk-parallel-item:only-child::after {width: 0;}#sk-container-id-7 div.sk-dashed-wrapped {border: 1px dashed gray;margin: 0 0.4em 0.5em 0.4em;box-sizing: border-box;padding-bottom: 0.4em;background-color: white;}#sk-container-id-7 div.sk-label label {font-family: monospace;font-weight: bold;display: inline-block;line-height: 1.2em;}#sk-container-id-7 div.sk-label-container {text-align: center;}#sk-container-id-7 div.sk-container {/* jupyter's `normalize.less` sets `[hidden] { display: none; }` but bootstrap.min.css set `[hidden] { display: none !important; }` so we also need the `!important` here to be able to override the default hidden behavior on the sphinx rendered scikit-learn.org. See: https://github.com/scikit-learn/scikit-learn/issues/21755 */display: inline-block !important;position: relative;}#sk-container-id-7 div.sk-text-repr-fallback {display: none;}</style><div id=\"sk-container-id-7\" class=\"sk-top-container\"><div class=\"sk-text-repr-fallback\"><pre>RandomForestRegressor(random_state=5)</pre><b>In a Jupyter environment, please rerun this cell to show the HTML representation or trust the notebook. <br />On GitHub, the HTML representation is unable to render, please try loading this page with nbviewer.org.</b></div><div class=\"sk-container\" hidden><div class=\"sk-item\"><div class=\"sk-estimator sk-toggleable\"><input class=\"sk-toggleable__control sk-hidden--visually\" id=\"sk-estimator-id-7\" type=\"checkbox\" checked><label for=\"sk-estimator-id-7\" class=\"sk-toggleable__label sk-toggleable__label-arrow\">RandomForestRegressor</label><div class=\"sk-toggleable__content\"><pre>RandomForestRegressor(random_state=5)</pre></div></div></div></div></div>"
      ],
      "text/plain": [
       "RandomForestRegressor(random_state=5)"
      ]
     },
     "execution_count": 65,
     "metadata": {},
     "output_type": "execute_result"
    }
   ],
   "source": [
    "random_forest_model = model(RandomForestRegressor(random_state= 5),x_train,y_train)\n",
    "random_forest_model"
   ]
  },
  {
   "cell_type": "markdown",
   "id": "d3b48009",
   "metadata": {},
   "source": [
    "# Testing Accuracy :-"
   ]
  },
  {
   "cell_type": "code",
   "execution_count": 66,
   "id": "b9da87f6",
   "metadata": {},
   "outputs": [
    {
     "name": "stdout",
     "output_type": "stream",
     "text": [
      "Mean Squared Error = 25460638.726756267\n",
      "Root Mean Squared Error = 5045.853617254098\n",
      "R2-Squared Error = 83.88809290484535\n",
      "Adjusted R2-Squared  Error = 83.25872153394089\n"
     ]
    },
    {
     "data": {
      "text/plain": [
       "'All result Printed'"
      ]
     },
     "execution_count": 66,
     "metadata": {},
     "output_type": "execute_result"
    }
   ],
   "source": [
    "y_predict_random =random_forest_model.predict(x_test)\n",
    "result_random =  test_vallidation(y_test,y_predict_random,x_test)\n",
    "printin_accuracy(result_random)"
   ]
  },
  {
   "cell_type": "markdown",
   "id": "ca22677a",
   "metadata": {},
   "source": [
    "# Traning Accuracy :-"
   ]
  },
  {
   "cell_type": "code",
   "execution_count": 67,
   "id": "8db601e7",
   "metadata": {},
   "outputs": [
    {
     "name": "stdout",
     "output_type": "stream",
     "text": [
      "Mean Squared Error = 3466012.203519404\n",
      "Root Mean Squared Error = 1861.7229126589714\n",
      "R2-Squared Error = 97.60984702675431\n",
      "Adjusted R2-Squared  Error = 97.59987143003792\n"
     ]
    },
    {
     "data": {
      "text/plain": [
       "'All result Printed'"
      ]
     },
     "execution_count": 67,
     "metadata": {},
     "output_type": "execute_result"
    }
   ],
   "source": [
    "y_predict1_random = random_forest_model.predict(x_train)\n",
    "result_random_train =  test_vallidation(y_train,y_predict1_random,x_train)\n",
    "printin_accuracy(result_random_train)"
   ]
  },
  {
   "cell_type": "raw",
   "id": "6cd09d3d",
   "metadata": {},
   "source": [
    "We have condition for low bias and high varrience so we can call our model has overfitted model.\n",
    "so for making our model genralised we have methods :-\n",
    "                        \n",
    "                                 1) pre-pruning - Hyperpara tunning \n",
    "                                "
   ]
  },
  {
   "cell_type": "markdown",
   "id": "495d64f0",
   "metadata": {},
   "source": [
    "# Hyperparameter Tunning :-"
   ]
  },
  {
   "cell_type": "code",
   "execution_count": 68,
   "id": "ec56e21c",
   "metadata": {},
   "outputs": [
    {
     "data": {
      "text/html": [
       "<style>#sk-container-id-8 {color: black;background-color: white;}#sk-container-id-8 pre{padding: 0;}#sk-container-id-8 div.sk-toggleable {background-color: white;}#sk-container-id-8 label.sk-toggleable__label {cursor: pointer;display: block;width: 100%;margin-bottom: 0;padding: 0.3em;box-sizing: border-box;text-align: center;}#sk-container-id-8 label.sk-toggleable__label-arrow:before {content: \"▸\";float: left;margin-right: 0.25em;color: #696969;}#sk-container-id-8 label.sk-toggleable__label-arrow:hover:before {color: black;}#sk-container-id-8 div.sk-estimator:hover label.sk-toggleable__label-arrow:before {color: black;}#sk-container-id-8 div.sk-toggleable__content {max-height: 0;max-width: 0;overflow: hidden;text-align: left;background-color: #f0f8ff;}#sk-container-id-8 div.sk-toggleable__content pre {margin: 0.2em;color: black;border-radius: 0.25em;background-color: #f0f8ff;}#sk-container-id-8 input.sk-toggleable__control:checked~div.sk-toggleable__content {max-height: 200px;max-width: 100%;overflow: auto;}#sk-container-id-8 input.sk-toggleable__control:checked~label.sk-toggleable__label-arrow:before {content: \"▾\";}#sk-container-id-8 div.sk-estimator input.sk-toggleable__control:checked~label.sk-toggleable__label {background-color: #d4ebff;}#sk-container-id-8 div.sk-label input.sk-toggleable__control:checked~label.sk-toggleable__label {background-color: #d4ebff;}#sk-container-id-8 input.sk-hidden--visually {border: 0;clip: rect(1px 1px 1px 1px);clip: rect(1px, 1px, 1px, 1px);height: 1px;margin: -1px;overflow: hidden;padding: 0;position: absolute;width: 1px;}#sk-container-id-8 div.sk-estimator {font-family: monospace;background-color: #f0f8ff;border: 1px dotted black;border-radius: 0.25em;box-sizing: border-box;margin-bottom: 0.5em;}#sk-container-id-8 div.sk-estimator:hover {background-color: #d4ebff;}#sk-container-id-8 div.sk-parallel-item::after {content: \"\";width: 100%;border-bottom: 1px solid gray;flex-grow: 1;}#sk-container-id-8 div.sk-label:hover label.sk-toggleable__label {background-color: #d4ebff;}#sk-container-id-8 div.sk-serial::before {content: \"\";position: absolute;border-left: 1px solid gray;box-sizing: border-box;top: 0;bottom: 0;left: 50%;z-index: 0;}#sk-container-id-8 div.sk-serial {display: flex;flex-direction: column;align-items: center;background-color: white;padding-right: 0.2em;padding-left: 0.2em;position: relative;}#sk-container-id-8 div.sk-item {position: relative;z-index: 1;}#sk-container-id-8 div.sk-parallel {display: flex;align-items: stretch;justify-content: center;background-color: white;position: relative;}#sk-container-id-8 div.sk-item::before, #sk-container-id-8 div.sk-parallel-item::before {content: \"\";position: absolute;border-left: 1px solid gray;box-sizing: border-box;top: 0;bottom: 0;left: 50%;z-index: -1;}#sk-container-id-8 div.sk-parallel-item {display: flex;flex-direction: column;z-index: 1;position: relative;background-color: white;}#sk-container-id-8 div.sk-parallel-item:first-child::after {align-self: flex-end;width: 50%;}#sk-container-id-8 div.sk-parallel-item:last-child::after {align-self: flex-start;width: 50%;}#sk-container-id-8 div.sk-parallel-item:only-child::after {width: 0;}#sk-container-id-8 div.sk-dashed-wrapped {border: 1px dashed gray;margin: 0 0.4em 0.5em 0.4em;box-sizing: border-box;padding-bottom: 0.4em;background-color: white;}#sk-container-id-8 div.sk-label label {font-family: monospace;font-weight: bold;display: inline-block;line-height: 1.2em;}#sk-container-id-8 div.sk-label-container {text-align: center;}#sk-container-id-8 div.sk-container {/* jupyter's `normalize.less` sets `[hidden] { display: none; }` but bootstrap.min.css set `[hidden] { display: none !important; }` so we also need the `!important` here to be able to override the default hidden behavior on the sphinx rendered scikit-learn.org. See: https://github.com/scikit-learn/scikit-learn/issues/21755 */display: inline-block !important;position: relative;}#sk-container-id-8 div.sk-text-repr-fallback {display: none;}</style><div id=\"sk-container-id-8\" class=\"sk-top-container\"><div class=\"sk-text-repr-fallback\"><pre>RandomForestRegressor(criterion=&#x27;mse&#x27;, max_depth=5, min_samples_leaf=7,\n",
       "                      min_samples_split=3, n_estimators=120, random_state=3)</pre><b>In a Jupyter environment, please rerun this cell to show the HTML representation or trust the notebook. <br />On GitHub, the HTML representation is unable to render, please try loading this page with nbviewer.org.</b></div><div class=\"sk-container\" hidden><div class=\"sk-item\"><div class=\"sk-estimator sk-toggleable\"><input class=\"sk-toggleable__control sk-hidden--visually\" id=\"sk-estimator-id-8\" type=\"checkbox\" checked><label for=\"sk-estimator-id-8\" class=\"sk-toggleable__label sk-toggleable__label-arrow\">RandomForestRegressor</label><div class=\"sk-toggleable__content\"><pre>RandomForestRegressor(criterion=&#x27;mse&#x27;, max_depth=5, min_samples_leaf=7,\n",
       "                      min_samples_split=3, n_estimators=120, random_state=3)</pre></div></div></div></div></div>"
      ],
      "text/plain": [
       "RandomForestRegressor(criterion='mse', max_depth=5, min_samples_leaf=7,\n",
       "                      min_samples_split=3, n_estimators=120, random_state=3)"
      ]
     },
     "execution_count": 68,
     "metadata": {},
     "output_type": "execute_result"
    }
   ],
   "source": [
    "model_name_random = RandomForestRegressor(random_state= 3)\n",
    "hyp = {\n",
    "    'n_estimators':np.arange(50,150,10),\n",
    "    'criterion':['mse','mae'],\n",
    "    'max_depth':np.arange(5,8),\n",
    "    'min_samples_split':np.arange(2,8),\n",
    "    'min_samples_leaf':np.arange(2,8)\n",
    "}\n",
    "\n",
    "tunned_model_random_forest = hyp_model_random_cv(model_name_random,hyp,x_train,y_train)\n",
    "tunned_model_random_forest\n"
   ]
  },
  {
   "cell_type": "markdown",
   "id": "e6b33156",
   "metadata": {},
   "source": [
    "# Tunned Test Accuracy :-"
   ]
  },
  {
   "cell_type": "code",
   "execution_count": 69,
   "id": "71867c1f",
   "metadata": {},
   "outputs": [
    {
     "name": "stdout",
     "output_type": "stream",
     "text": [
      "Mean Squared Error = 20782508.30964584\n",
      "Root Mean Squared Error = 4558.783643653846\n",
      "R2-Squared Error = 86.84849006802771\n",
      "Adjusted R2-Squared  Error = 86.33475921131006\n"
     ]
    },
    {
     "data": {
      "text/plain": [
       "'All result Printed'"
      ]
     },
     "execution_count": 69,
     "metadata": {},
     "output_type": "execute_result"
    }
   ],
   "source": [
    "y_predict_random_tunned =tunned_model_random_forest.predict(x_test)\n",
    "result_random_tunned =  test_vallidation(y_test,y_predict_random_tunned,x_test)\n",
    "printin_accuracy(result_random_tunned)"
   ]
  },
  {
   "cell_type": "markdown",
   "id": "8a5731b8",
   "metadata": {},
   "source": [
    "# Tunned Training Accuracy :-"
   ]
  },
  {
   "cell_type": "code",
   "execution_count": 70,
   "id": "e2dd05c7",
   "metadata": {},
   "outputs": [
    {
     "name": "stdout",
     "output_type": "stream",
     "text": [
      "Mean Squared Error = 17259620.066042207\n",
      "Root Mean Squared Error = 4154.469889894764\n",
      "R2-Squared Error = 88.09781103019395\n",
      "Adjusted R2-Squared  Error = 88.04813578407624\n"
     ]
    },
    {
     "data": {
      "text/plain": [
       "'All result Printed'"
      ]
     },
     "execution_count": 70,
     "metadata": {},
     "output_type": "execute_result"
    }
   ],
   "source": [
    "y_predict1_random_tunned = tunned_model_random_forest.predict(x_train)\n",
    "result_random_train_tunned =  test_vallidation(y_train,y_predict1_random_tunned,x_train)\n",
    "printin_accuracy(result_random_train_tunned)"
   ]
  },
  {
   "cell_type": "raw",
   "id": "8b7ba833",
   "metadata": {},
   "source": [
    "After applying the both model we have genralised model which has low bias and low varience which is genralised model."
   ]
  },
  {
   "cell_type": "markdown",
   "id": "cf4c802f",
   "metadata": {},
   "source": [
    "# save model"
   ]
  },
  {
   "cell_type": "code",
   "execution_count": 71,
   "id": "788095e3",
   "metadata": {},
   "outputs": [],
   "source": [
    "import pickle as p\n",
    "p_out  = open(\"model_rf.pkl\", \"wb\")\n",
    "p.dump(tunned_model_random_forest, p_out)\n",
    "p_out.close()"
   ]
  },
  {
   "cell_type": "code",
   "execution_count": null,
   "id": "cff5b281",
   "metadata": {},
   "outputs": [],
   "source": []
  }
 ],
 "metadata": {
  "kernelspec": {
   "display_name": "Python 3 (ipykernel)",
   "language": "python",
   "name": "python3"
  },
  "language_info": {
   "codemirror_mode": {
    "name": "ipython",
    "version": 3
   },
   "file_extension": ".py",
   "mimetype": "text/x-python",
   "name": "python",
   "nbconvert_exporter": "python",
   "pygments_lexer": "ipython3",
   "version": "3.9.7"
  },
  "varInspector": {
   "cols": {
    "lenName": 16,
    "lenType": 16,
    "lenVar": 40
   },
   "kernels_config": {
    "python": {
     "delete_cmd_postfix": "",
     "delete_cmd_prefix": "del ",
     "library": "var_list.py",
     "varRefreshCmd": "print(var_dic_list())"
    },
    "r": {
     "delete_cmd_postfix": ") ",
     "delete_cmd_prefix": "rm(",
     "library": "var_list.r",
     "varRefreshCmd": "cat(var_dic_list()) "
    }
   },
   "types_to_exclude": [
    "module",
    "function",
    "builtin_function_or_method",
    "instance",
    "_Feature"
   ],
   "window_display": false
  },
  "vscode": {
   "interpreter": {
    "hash": "538cd04347fc0632e2e1371537dcdfb3f0712e531a3554a3411cfa204d60b0b5"
   }
  }
 },
 "nbformat": 4,
 "nbformat_minor": 5
}
